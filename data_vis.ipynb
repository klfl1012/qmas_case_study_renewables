{
 "cells": [
  {
   "cell_type": "code",
   "execution_count": 1,
   "id": "initial_id",
   "metadata": {
    "ExecuteTime": {
     "end_time": "2025-09-20T22:28:25.792743Z",
     "start_time": "2025-09-20T22:28:23.179413Z"
    },
    "collapsed": true
   },
   "outputs": [],
   "source": [
    "import pandas as pd\n",
    "import plotly.graph_objects as go"
   ]
  },
  {
   "cell_type": "code",
   "execution_count": 2,
   "id": "403885ac98722424",
   "metadata": {
    "ExecuteTime": {
     "end_time": "2025-09-20T22:28:25.810160Z",
     "start_time": "2025-09-20T22:28:25.802831Z"
    }
   },
   "outputs": [],
   "source": [
    "df = pd.read_csv(\"ember_yearly_electricity-generation_share.csv\")"
   ]
  },
  {
   "cell_type": "code",
   "execution_count": 3,
   "id": "f2b097ca2dde8e47",
   "metadata": {
    "ExecuteTime": {
     "end_time": "2025-09-20T22:28:25.831814Z",
     "start_time": "2025-09-20T22:28:25.817346Z"
    }
   },
   "outputs": [
    {
     "data": {
      "application/vnd.microsoft.datawrangler.viewer.v0+json": {
       "columns": [
        {
         "name": "index",
         "rawType": "int64",
         "type": "integer"
        },
        {
         "name": "entity",
         "rawType": "object",
         "type": "string"
        },
        {
         "name": "entity_code",
         "rawType": "object",
         "type": "string"
        },
        {
         "name": "is_aggregate_entity",
         "rawType": "bool",
         "type": "boolean"
        },
        {
         "name": "date",
         "rawType": "int64",
         "type": "integer"
        },
        {
         "name": "series",
         "rawType": "object",
         "type": "string"
        },
        {
         "name": "is_aggregate_series",
         "rawType": "bool",
         "type": "boolean"
        },
        {
         "name": "generation_twh",
         "rawType": "float64",
         "type": "float"
        },
        {
         "name": "generation_share_pct",
         "rawType": "float64",
         "type": "float"
        },
        {
         "name": "generation_kwh_per_capita",
         "rawType": "float64",
         "type": "float"
        },
        {
         "name": "generation_yoy_change_twh",
         "rawType": "float64",
         "type": "float"
        },
        {
         "name": "generation_yoy_change_pct",
         "rawType": "float64",
         "type": "float"
        },
        {
         "name": "generation_share_yoy_change_pct_points",
         "rawType": "float64",
         "type": "float"
        },
        {
         "name": "generation_yoy_change_kwh_per_capita",
         "rawType": "float64",
         "type": "float"
        }
       ],
       "ref": "4739deb0-c601-429e-b942-47ed144ac6e3",
       "rows": [
        [
         "0",
         "Germany",
         "DEU",
         "False",
         "2022",
         "Bioenergy",
         "False",
         "48.6",
         "8.57",
         "577.98",
         "-0.5",
         "-1.02",
         "0.09",
         "-5.95"
        ],
        [
         "1",
         "Germany",
         "DEU",
         "False",
         "2022",
         "Coal",
         "False",
         "179.93",
         "31.74",
         "2139.83",
         "15.28",
         "9.28",
         "3.29",
         "181.72"
        ],
        [
         "2",
         "Germany",
         "DEU",
         "False",
         "2022",
         "Gas",
         "False",
         "79.05",
         "13.94",
         "940.11",
         "-11.26",
         "-12.47",
         "-1.66",
         "-133.91"
        ],
        [
         "3",
         "Germany",
         "DEU",
         "False",
         "2022",
         "Hydro",
         "False",
         "17.62",
         "3.11",
         "209.55",
         "-2.04",
         "-10.38",
         "-0.29",
         "-24.26"
        ],
        [
         "4",
         "Germany",
         "DEU",
         "False",
         "2022",
         "Nuclear",
         "False",
         "34.71",
         "6.12",
         "412.79",
         "-34.42",
         "-49.79",
         "-5.82",
         "-409.34"
        ]
       ],
       "shape": {
        "columns": 13,
        "rows": 5
       }
      },
      "text/html": [
       "<div>\n",
       "<style scoped>\n",
       "    .dataframe tbody tr th:only-of-type {\n",
       "        vertical-align: middle;\n",
       "    }\n",
       "\n",
       "    .dataframe tbody tr th {\n",
       "        vertical-align: top;\n",
       "    }\n",
       "\n",
       "    .dataframe thead th {\n",
       "        text-align: right;\n",
       "    }\n",
       "</style>\n",
       "<table border=\"1\" class=\"dataframe\">\n",
       "  <thead>\n",
       "    <tr style=\"text-align: right;\">\n",
       "      <th></th>\n",
       "      <th>entity</th>\n",
       "      <th>entity_code</th>\n",
       "      <th>is_aggregate_entity</th>\n",
       "      <th>date</th>\n",
       "      <th>series</th>\n",
       "      <th>is_aggregate_series</th>\n",
       "      <th>generation_twh</th>\n",
       "      <th>generation_share_pct</th>\n",
       "      <th>generation_kwh_per_capita</th>\n",
       "      <th>generation_yoy_change_twh</th>\n",
       "      <th>generation_yoy_change_pct</th>\n",
       "      <th>generation_share_yoy_change_pct_points</th>\n",
       "      <th>generation_yoy_change_kwh_per_capita</th>\n",
       "    </tr>\n",
       "  </thead>\n",
       "  <tbody>\n",
       "    <tr>\n",
       "      <th>0</th>\n",
       "      <td>Germany</td>\n",
       "      <td>DEU</td>\n",
       "      <td>False</td>\n",
       "      <td>2022</td>\n",
       "      <td>Bioenergy</td>\n",
       "      <td>False</td>\n",
       "      <td>48.60</td>\n",
       "      <td>8.57</td>\n",
       "      <td>577.98</td>\n",
       "      <td>-0.50</td>\n",
       "      <td>-1.02</td>\n",
       "      <td>0.09</td>\n",
       "      <td>-5.95</td>\n",
       "    </tr>\n",
       "    <tr>\n",
       "      <th>1</th>\n",
       "      <td>Germany</td>\n",
       "      <td>DEU</td>\n",
       "      <td>False</td>\n",
       "      <td>2022</td>\n",
       "      <td>Coal</td>\n",
       "      <td>False</td>\n",
       "      <td>179.93</td>\n",
       "      <td>31.74</td>\n",
       "      <td>2139.83</td>\n",
       "      <td>15.28</td>\n",
       "      <td>9.28</td>\n",
       "      <td>3.29</td>\n",
       "      <td>181.72</td>\n",
       "    </tr>\n",
       "    <tr>\n",
       "      <th>2</th>\n",
       "      <td>Germany</td>\n",
       "      <td>DEU</td>\n",
       "      <td>False</td>\n",
       "      <td>2022</td>\n",
       "      <td>Gas</td>\n",
       "      <td>False</td>\n",
       "      <td>79.05</td>\n",
       "      <td>13.94</td>\n",
       "      <td>940.11</td>\n",
       "      <td>-11.26</td>\n",
       "      <td>-12.47</td>\n",
       "      <td>-1.66</td>\n",
       "      <td>-133.91</td>\n",
       "    </tr>\n",
       "    <tr>\n",
       "      <th>3</th>\n",
       "      <td>Germany</td>\n",
       "      <td>DEU</td>\n",
       "      <td>False</td>\n",
       "      <td>2022</td>\n",
       "      <td>Hydro</td>\n",
       "      <td>False</td>\n",
       "      <td>17.62</td>\n",
       "      <td>3.11</td>\n",
       "      <td>209.55</td>\n",
       "      <td>-2.04</td>\n",
       "      <td>-10.38</td>\n",
       "      <td>-0.29</td>\n",
       "      <td>-24.26</td>\n",
       "    </tr>\n",
       "    <tr>\n",
       "      <th>4</th>\n",
       "      <td>Germany</td>\n",
       "      <td>DEU</td>\n",
       "      <td>False</td>\n",
       "      <td>2022</td>\n",
       "      <td>Nuclear</td>\n",
       "      <td>False</td>\n",
       "      <td>34.71</td>\n",
       "      <td>6.12</td>\n",
       "      <td>412.79</td>\n",
       "      <td>-34.42</td>\n",
       "      <td>-49.79</td>\n",
       "      <td>-5.82</td>\n",
       "      <td>-409.34</td>\n",
       "    </tr>\n",
       "  </tbody>\n",
       "</table>\n",
       "</div>"
      ],
      "text/plain": [
       "    entity entity_code  is_aggregate_entity  date     series  \\\n",
       "0  Germany         DEU                False  2022  Bioenergy   \n",
       "1  Germany         DEU                False  2022       Coal   \n",
       "2  Germany         DEU                False  2022        Gas   \n",
       "3  Germany         DEU                False  2022      Hydro   \n",
       "4  Germany         DEU                False  2022    Nuclear   \n",
       "\n",
       "   is_aggregate_series  generation_twh  generation_share_pct  \\\n",
       "0                False           48.60                  8.57   \n",
       "1                False          179.93                 31.74   \n",
       "2                False           79.05                 13.94   \n",
       "3                False           17.62                  3.11   \n",
       "4                False           34.71                  6.12   \n",
       "\n",
       "   generation_kwh_per_capita  generation_yoy_change_twh  \\\n",
       "0                     577.98                      -0.50   \n",
       "1                    2139.83                      15.28   \n",
       "2                     940.11                     -11.26   \n",
       "3                     209.55                      -2.04   \n",
       "4                     412.79                     -34.42   \n",
       "\n",
       "   generation_yoy_change_pct  generation_share_yoy_change_pct_points  \\\n",
       "0                      -1.02                                    0.09   \n",
       "1                       9.28                                    3.29   \n",
       "2                     -12.47                                   -1.66   \n",
       "3                     -10.38                                   -0.29   \n",
       "4                     -49.79                                   -5.82   \n",
       "\n",
       "   generation_yoy_change_kwh_per_capita  \n",
       "0                                 -5.95  \n",
       "1                                181.72  \n",
       "2                               -133.91  \n",
       "3                                -24.26  \n",
       "4                               -409.34  "
      ]
     },
     "execution_count": 3,
     "metadata": {},
     "output_type": "execute_result"
    }
   ],
   "source": [
    "df.head()"
   ]
  },
  {
   "cell_type": "code",
   "execution_count": 14,
   "id": "7a401c25",
   "metadata": {
    "ExecuteTime": {
     "end_time": "2025-09-20T22:28:25.843362Z",
     "start_time": "2025-09-20T22:28:25.840474Z"
    }
   },
   "outputs": [],
   "source": [
    "import plotly.graph_objects as go\n",
    "\n",
    "def plot_electricity_gen_share(df, country_name, save_as_html=False, save_as_png=True):\n",
    "\n",
    "    df_cntry = df[(df[\"entity\"] == country_name) & (df[\"series\"] != \"Total generation\")]\n",
    "    df_totals = df[(df[\"entity\"] == country_name) & (df[\"series\"] == \"Total generation\")]\n",
    "\n",
    "    fig = go.Figure()\n",
    "\n",
    "    for source in df_cntry[\"series\"].unique():\n",
    "        subset = df_cntry[df_cntry[\"series\"] == source]\n",
    "        fig.add_trace(go.Bar(\n",
    "            x=subset[\"date\"],\n",
    "            y=subset[\"generation_share_pct\"],\n",
    "            name=source,\n",
    "            text=subset[\"generation_share_pct\"].round(1).astype(str) + \"%\",\n",
    "            textposition=\"inside\",\n",
    "            insidetextanchor=\"middle\"\n",
    "        ))\n",
    "\n",
    "    for _, row in df_totals.iterrows():\n",
    "        year = row[\"date\"]\n",
    "        total = row[\"generation_twh\"]\n",
    "\n",
    "        total_height = df_cntry[df_cntry[\"date\"] == year][\"generation_share_pct\"].sum()\n",
    "\n",
    "        fig.add_annotation(\n",
    "            x=year,\n",
    "            y=total_height + 3,\n",
    "            text=f\"Total: {total:.1f} TWh\",\n",
    "            showarrow=False,\n",
    "            font=dict(size=14, color=\"black\"),\n",
    "            align=\"center\"\n",
    "        )\n",
    "\n",
    "    fig.update_layout(\n",
    "        height=800,\n",
    "        width=1200,\n",
    "        xaxis=dict(\n",
    "            title=\"Year\",\n",
    "            tickmode=\"array\",\n",
    "            tickvals=df_cntry[\"date\"].unique(),\n",
    "            ticktext=[str(year) for year in df_cntry[\"date\"].unique()]\n",
    "        ),\n",
    "        title=dict(\n",
    "            text=f\"<b>{country_name} Electricity Generation Share by Source (2022–2024)</b>\",\n",
    "            font=dict(size=20),\n",
    "        ),\n",
    "        yaxis_title=\"Generation Share (%)\",\n",
    "        barmode=\"stack\",\n",
    "        template=\"plotly_white\",\n",
    "        legend_title=\"Source\",\n",
    "    )\n",
    "\n",
    "    if save_as_html:\n",
    "        fig.write_html(f\"{country_name}_electricity_gen_share.html\")\n",
    "    \n",
    "    if save_as_png:\n",
    "        fig.write_image(f\"{country_name}_electricity_gen_share.png\", format=\"png\", height=800, width=1200)\n",
    "    fig.show()"
   ]
  },
  {
   "cell_type": "markdown",
   "id": "82102e6c0f644e",
   "metadata": {},
   "source": [
    "## Plot 1 - Bar plot of electricity generation share by source for germany from 2022 to 2024 "
   ]
  },
  {
   "cell_type": "code",
   "execution_count": 15,
   "id": "aa83e854c980f59",
   "metadata": {
    "ExecuteTime": {
     "end_time": "2025-09-20T22:28:26.534369Z",
     "start_time": "2025-09-20T22:28:25.879905Z"
    }
   },
   "outputs": [
    {
     "data": {
      "application/vnd.plotly.v1+json": {
       "config": {
        "plotlyServerURL": "https://plot.ly"
       },
       "data": [
        {
         "insidetextanchor": "middle",
         "name": "Bioenergy",
         "text": [
          "8.6%",
          "9.2%",
          "9.6%"
         ],
         "textposition": "inside",
         "type": "bar",
         "x": {
          "bdata": "5gfnB+gH",
          "dtype": "i2"
         },
         "y": {
          "bdata": "pHA9CtcjIUDsUbgehWsiQClcj8L1KCNA",
          "dtype": "f8"
         }
        },
        {
         "insidetextanchor": "middle",
         "name": "Coal",
         "text": [
          "31.7%",
          "25.1%",
          "21.8%"
         ],
         "textposition": "inside",
         "type": "bar",
         "x": {
          "bdata": "5gfnB+gH",
          "dtype": "i2"
         },
         "y": {
          "bdata": "PQrXo3C9P0AUrkfhehQ5QEjhehSuxzVA",
          "dtype": "f8"
         }
        },
        {
         "insidetextanchor": "middle",
         "name": "Gas",
         "text": [
          "13.9%",
          "15.4%",
          "16.4%"
         ],
         "textposition": "inside",
         "type": "bar",
         "x": {
          "bdata": "5gfnB+gH",
          "dtype": "i2"
         },
         "y": {
          "bdata": "4XoUrkfhK0DD9Shcj8IuQJqZmZmZWTBA",
          "dtype": "f8"
         }
        },
        {
         "insidetextanchor": "middle",
         "name": "Hydro",
         "text": [
          "3.1%",
          "4.0%",
          "4.9%"
         ],
         "textposition": "inside",
         "type": "bar",
         "x": {
          "bdata": "5gfnB+gH",
          "dtype": "i2"
         },
         "y": {
          "bdata": "4XoUrkfhCEDsUbgehesPQI/C9ShcjxNA",
          "dtype": "f8"
         }
        },
        {
         "insidetextanchor": "middle",
         "name": "Nuclear",
         "text": [
          "6.1%",
          "1.4%",
          "0.0%"
         ],
         "textposition": "inside",
         "type": "bar",
         "x": {
          "bdata": "5gfnB+gH",
          "dtype": "i2"
         },
         "y": {
          "bdata": "exSuR+F6GEAzMzMzMzP3PwAAAAAAAAAA",
          "dtype": "f8"
         }
        },
        {
         "insidetextanchor": "middle",
         "name": "Other fossil",
         "text": [
          "3.8%",
          "4.4%",
          "4.0%"
         ],
         "textposition": "inside",
         "type": "bar",
         "x": {
          "bdata": "5gfnB+gH",
          "dtype": "i2"
         },
         "y": {
          "bdata": "j8L1KFyPDkC4HoXrUbgRQDMzMzMzMxBA",
          "dtype": "f8"
         }
        },
        {
         "insidetextanchor": "middle",
         "name": "Other renewables",
         "text": [
          "0.0%",
          "0.0%",
          "0.0%"
         ],
         "textposition": "inside",
         "type": "bar",
         "x": {
          "bdata": "5gfnB+gH",
          "dtype": "i2"
         },
         "y": {
          "bdata": "exSuR+F6pD97FK5H4XqkP3sUrkfheqQ/",
          "dtype": "f8"
         }
        },
        {
         "insidetextanchor": "middle",
         "name": "Solar",
         "text": [
          "10.6%",
          "12.8%",
          "15.5%"
         ],
         "textposition": "inside",
         "type": "bar",
         "x": {
          "bdata": "5gfnB+gH",
          "dtype": "i2"
         },
         "y": {
          "bdata": "SOF6FK5HJUCkcD0K16MpQOxRuB6F6y5A",
          "dtype": "f8"
         }
        },
        {
         "insidetextanchor": "middle",
         "name": "Wind",
         "text": [
          "22.0%",
          "27.6%",
          "27.8%"
         ],
         "textposition": "inside",
         "type": "bar",
         "x": {
          "bdata": "5gfnB+gH",
          "dtype": "i2"
         },
         "y": {
          "bdata": "hetRuB4FNkCamZmZmZk7QJqZmZmZ2TtA",
          "dtype": "f8"
         }
        }
       ],
       "layout": {
        "annotations": [
         {
          "align": "center",
          "font": {
           "color": "black",
           "size": 14
          },
          "showarrow": false,
          "text": "Total: 566.9 TWh",
          "x": 2022,
          "y": 102.99999999999999
         },
         {
          "align": "center",
          "font": {
           "color": "black",
           "size": 14
          },
          "showarrow": false,
          "text": "Total: 498.3 TWh",
          "x": 2023,
          "y": 103
         },
         {
          "align": "center",
          "font": {
           "color": "black",
           "size": 14
          },
          "showarrow": false,
          "text": "Total: 479.6 TWh",
          "x": 2024,
          "y": 103
         }
        ],
        "barmode": "stack",
        "height": 800,
        "legend": {
         "title": {
          "text": "Source"
         }
        },
        "template": {
         "data": {
          "bar": [
           {
            "error_x": {
             "color": "#2a3f5f"
            },
            "error_y": {
             "color": "#2a3f5f"
            },
            "marker": {
             "line": {
              "color": "white",
              "width": 0.5
             },
             "pattern": {
              "fillmode": "overlay",
              "size": 10,
              "solidity": 0.2
             }
            },
            "type": "bar"
           }
          ],
          "barpolar": [
           {
            "marker": {
             "line": {
              "color": "white",
              "width": 0.5
             },
             "pattern": {
              "fillmode": "overlay",
              "size": 10,
              "solidity": 0.2
             }
            },
            "type": "barpolar"
           }
          ],
          "carpet": [
           {
            "aaxis": {
             "endlinecolor": "#2a3f5f",
             "gridcolor": "#C8D4E3",
             "linecolor": "#C8D4E3",
             "minorgridcolor": "#C8D4E3",
             "startlinecolor": "#2a3f5f"
            },
            "baxis": {
             "endlinecolor": "#2a3f5f",
             "gridcolor": "#C8D4E3",
             "linecolor": "#C8D4E3",
             "minorgridcolor": "#C8D4E3",
             "startlinecolor": "#2a3f5f"
            },
            "type": "carpet"
           }
          ],
          "choropleth": [
           {
            "colorbar": {
             "outlinewidth": 0,
             "ticks": ""
            },
            "type": "choropleth"
           }
          ],
          "contour": [
           {
            "colorbar": {
             "outlinewidth": 0,
             "ticks": ""
            },
            "colorscale": [
             [
              0,
              "#0d0887"
             ],
             [
              0.1111111111111111,
              "#46039f"
             ],
             [
              0.2222222222222222,
              "#7201a8"
             ],
             [
              0.3333333333333333,
              "#9c179e"
             ],
             [
              0.4444444444444444,
              "#bd3786"
             ],
             [
              0.5555555555555556,
              "#d8576b"
             ],
             [
              0.6666666666666666,
              "#ed7953"
             ],
             [
              0.7777777777777778,
              "#fb9f3a"
             ],
             [
              0.8888888888888888,
              "#fdca26"
             ],
             [
              1,
              "#f0f921"
             ]
            ],
            "type": "contour"
           }
          ],
          "contourcarpet": [
           {
            "colorbar": {
             "outlinewidth": 0,
             "ticks": ""
            },
            "type": "contourcarpet"
           }
          ],
          "heatmap": [
           {
            "colorbar": {
             "outlinewidth": 0,
             "ticks": ""
            },
            "colorscale": [
             [
              0,
              "#0d0887"
             ],
             [
              0.1111111111111111,
              "#46039f"
             ],
             [
              0.2222222222222222,
              "#7201a8"
             ],
             [
              0.3333333333333333,
              "#9c179e"
             ],
             [
              0.4444444444444444,
              "#bd3786"
             ],
             [
              0.5555555555555556,
              "#d8576b"
             ],
             [
              0.6666666666666666,
              "#ed7953"
             ],
             [
              0.7777777777777778,
              "#fb9f3a"
             ],
             [
              0.8888888888888888,
              "#fdca26"
             ],
             [
              1,
              "#f0f921"
             ]
            ],
            "type": "heatmap"
           }
          ],
          "histogram": [
           {
            "marker": {
             "pattern": {
              "fillmode": "overlay",
              "size": 10,
              "solidity": 0.2
             }
            },
            "type": "histogram"
           }
          ],
          "histogram2d": [
           {
            "colorbar": {
             "outlinewidth": 0,
             "ticks": ""
            },
            "colorscale": [
             [
              0,
              "#0d0887"
             ],
             [
              0.1111111111111111,
              "#46039f"
             ],
             [
              0.2222222222222222,
              "#7201a8"
             ],
             [
              0.3333333333333333,
              "#9c179e"
             ],
             [
              0.4444444444444444,
              "#bd3786"
             ],
             [
              0.5555555555555556,
              "#d8576b"
             ],
             [
              0.6666666666666666,
              "#ed7953"
             ],
             [
              0.7777777777777778,
              "#fb9f3a"
             ],
             [
              0.8888888888888888,
              "#fdca26"
             ],
             [
              1,
              "#f0f921"
             ]
            ],
            "type": "histogram2d"
           }
          ],
          "histogram2dcontour": [
           {
            "colorbar": {
             "outlinewidth": 0,
             "ticks": ""
            },
            "colorscale": [
             [
              0,
              "#0d0887"
             ],
             [
              0.1111111111111111,
              "#46039f"
             ],
             [
              0.2222222222222222,
              "#7201a8"
             ],
             [
              0.3333333333333333,
              "#9c179e"
             ],
             [
              0.4444444444444444,
              "#bd3786"
             ],
             [
              0.5555555555555556,
              "#d8576b"
             ],
             [
              0.6666666666666666,
              "#ed7953"
             ],
             [
              0.7777777777777778,
              "#fb9f3a"
             ],
             [
              0.8888888888888888,
              "#fdca26"
             ],
             [
              1,
              "#f0f921"
             ]
            ],
            "type": "histogram2dcontour"
           }
          ],
          "mesh3d": [
           {
            "colorbar": {
             "outlinewidth": 0,
             "ticks": ""
            },
            "type": "mesh3d"
           }
          ],
          "parcoords": [
           {
            "line": {
             "colorbar": {
              "outlinewidth": 0,
              "ticks": ""
             }
            },
            "type": "parcoords"
           }
          ],
          "pie": [
           {
            "automargin": true,
            "type": "pie"
           }
          ],
          "scatter": [
           {
            "fillpattern": {
             "fillmode": "overlay",
             "size": 10,
             "solidity": 0.2
            },
            "type": "scatter"
           }
          ],
          "scatter3d": [
           {
            "line": {
             "colorbar": {
              "outlinewidth": 0,
              "ticks": ""
             }
            },
            "marker": {
             "colorbar": {
              "outlinewidth": 0,
              "ticks": ""
             }
            },
            "type": "scatter3d"
           }
          ],
          "scattercarpet": [
           {
            "marker": {
             "colorbar": {
              "outlinewidth": 0,
              "ticks": ""
             }
            },
            "type": "scattercarpet"
           }
          ],
          "scattergeo": [
           {
            "marker": {
             "colorbar": {
              "outlinewidth": 0,
              "ticks": ""
             }
            },
            "type": "scattergeo"
           }
          ],
          "scattergl": [
           {
            "marker": {
             "colorbar": {
              "outlinewidth": 0,
              "ticks": ""
             }
            },
            "type": "scattergl"
           }
          ],
          "scattermap": [
           {
            "marker": {
             "colorbar": {
              "outlinewidth": 0,
              "ticks": ""
             }
            },
            "type": "scattermap"
           }
          ],
          "scattermapbox": [
           {
            "marker": {
             "colorbar": {
              "outlinewidth": 0,
              "ticks": ""
             }
            },
            "type": "scattermapbox"
           }
          ],
          "scatterpolar": [
           {
            "marker": {
             "colorbar": {
              "outlinewidth": 0,
              "ticks": ""
             }
            },
            "type": "scatterpolar"
           }
          ],
          "scatterpolargl": [
           {
            "marker": {
             "colorbar": {
              "outlinewidth": 0,
              "ticks": ""
             }
            },
            "type": "scatterpolargl"
           }
          ],
          "scatterternary": [
           {
            "marker": {
             "colorbar": {
              "outlinewidth": 0,
              "ticks": ""
             }
            },
            "type": "scatterternary"
           }
          ],
          "surface": [
           {
            "colorbar": {
             "outlinewidth": 0,
             "ticks": ""
            },
            "colorscale": [
             [
              0,
              "#0d0887"
             ],
             [
              0.1111111111111111,
              "#46039f"
             ],
             [
              0.2222222222222222,
              "#7201a8"
             ],
             [
              0.3333333333333333,
              "#9c179e"
             ],
             [
              0.4444444444444444,
              "#bd3786"
             ],
             [
              0.5555555555555556,
              "#d8576b"
             ],
             [
              0.6666666666666666,
              "#ed7953"
             ],
             [
              0.7777777777777778,
              "#fb9f3a"
             ],
             [
              0.8888888888888888,
              "#fdca26"
             ],
             [
              1,
              "#f0f921"
             ]
            ],
            "type": "surface"
           }
          ],
          "table": [
           {
            "cells": {
             "fill": {
              "color": "#EBF0F8"
             },
             "line": {
              "color": "white"
             }
            },
            "header": {
             "fill": {
              "color": "#C8D4E3"
             },
             "line": {
              "color": "white"
             }
            },
            "type": "table"
           }
          ]
         },
         "layout": {
          "annotationdefaults": {
           "arrowcolor": "#2a3f5f",
           "arrowhead": 0,
           "arrowwidth": 1
          },
          "autotypenumbers": "strict",
          "coloraxis": {
           "colorbar": {
            "outlinewidth": 0,
            "ticks": ""
           }
          },
          "colorscale": {
           "diverging": [
            [
             0,
             "#8e0152"
            ],
            [
             0.1,
             "#c51b7d"
            ],
            [
             0.2,
             "#de77ae"
            ],
            [
             0.3,
             "#f1b6da"
            ],
            [
             0.4,
             "#fde0ef"
            ],
            [
             0.5,
             "#f7f7f7"
            ],
            [
             0.6,
             "#e6f5d0"
            ],
            [
             0.7,
             "#b8e186"
            ],
            [
             0.8,
             "#7fbc41"
            ],
            [
             0.9,
             "#4d9221"
            ],
            [
             1,
             "#276419"
            ]
           ],
           "sequential": [
            [
             0,
             "#0d0887"
            ],
            [
             0.1111111111111111,
             "#46039f"
            ],
            [
             0.2222222222222222,
             "#7201a8"
            ],
            [
             0.3333333333333333,
             "#9c179e"
            ],
            [
             0.4444444444444444,
             "#bd3786"
            ],
            [
             0.5555555555555556,
             "#d8576b"
            ],
            [
             0.6666666666666666,
             "#ed7953"
            ],
            [
             0.7777777777777778,
             "#fb9f3a"
            ],
            [
             0.8888888888888888,
             "#fdca26"
            ],
            [
             1,
             "#f0f921"
            ]
           ],
           "sequentialminus": [
            [
             0,
             "#0d0887"
            ],
            [
             0.1111111111111111,
             "#46039f"
            ],
            [
             0.2222222222222222,
             "#7201a8"
            ],
            [
             0.3333333333333333,
             "#9c179e"
            ],
            [
             0.4444444444444444,
             "#bd3786"
            ],
            [
             0.5555555555555556,
             "#d8576b"
            ],
            [
             0.6666666666666666,
             "#ed7953"
            ],
            [
             0.7777777777777778,
             "#fb9f3a"
            ],
            [
             0.8888888888888888,
             "#fdca26"
            ],
            [
             1,
             "#f0f921"
            ]
           ]
          },
          "colorway": [
           "#636efa",
           "#EF553B",
           "#00cc96",
           "#ab63fa",
           "#FFA15A",
           "#19d3f3",
           "#FF6692",
           "#B6E880",
           "#FF97FF",
           "#FECB52"
          ],
          "font": {
           "color": "#2a3f5f"
          },
          "geo": {
           "bgcolor": "white",
           "lakecolor": "white",
           "landcolor": "white",
           "showlakes": true,
           "showland": true,
           "subunitcolor": "#C8D4E3"
          },
          "hoverlabel": {
           "align": "left"
          },
          "hovermode": "closest",
          "mapbox": {
           "style": "light"
          },
          "paper_bgcolor": "white",
          "plot_bgcolor": "white",
          "polar": {
           "angularaxis": {
            "gridcolor": "#EBF0F8",
            "linecolor": "#EBF0F8",
            "ticks": ""
           },
           "bgcolor": "white",
           "radialaxis": {
            "gridcolor": "#EBF0F8",
            "linecolor": "#EBF0F8",
            "ticks": ""
           }
          },
          "scene": {
           "xaxis": {
            "backgroundcolor": "white",
            "gridcolor": "#DFE8F3",
            "gridwidth": 2,
            "linecolor": "#EBF0F8",
            "showbackground": true,
            "ticks": "",
            "zerolinecolor": "#EBF0F8"
           },
           "yaxis": {
            "backgroundcolor": "white",
            "gridcolor": "#DFE8F3",
            "gridwidth": 2,
            "linecolor": "#EBF0F8",
            "showbackground": true,
            "ticks": "",
            "zerolinecolor": "#EBF0F8"
           },
           "zaxis": {
            "backgroundcolor": "white",
            "gridcolor": "#DFE8F3",
            "gridwidth": 2,
            "linecolor": "#EBF0F8",
            "showbackground": true,
            "ticks": "",
            "zerolinecolor": "#EBF0F8"
           }
          },
          "shapedefaults": {
           "line": {
            "color": "#2a3f5f"
           }
          },
          "ternary": {
           "aaxis": {
            "gridcolor": "#DFE8F3",
            "linecolor": "#A2B1C6",
            "ticks": ""
           },
           "baxis": {
            "gridcolor": "#DFE8F3",
            "linecolor": "#A2B1C6",
            "ticks": ""
           },
           "bgcolor": "white",
           "caxis": {
            "gridcolor": "#DFE8F3",
            "linecolor": "#A2B1C6",
            "ticks": ""
           }
          },
          "title": {
           "x": 0.05
          },
          "xaxis": {
           "automargin": true,
           "gridcolor": "#EBF0F8",
           "linecolor": "#EBF0F8",
           "ticks": "",
           "title": {
            "standoff": 15
           },
           "zerolinecolor": "#EBF0F8",
           "zerolinewidth": 2
          },
          "yaxis": {
           "automargin": true,
           "gridcolor": "#EBF0F8",
           "linecolor": "#EBF0F8",
           "ticks": "",
           "title": {
            "standoff": 15
           },
           "zerolinecolor": "#EBF0F8",
           "zerolinewidth": 2
          }
         }
        },
        "title": {
         "font": {
          "size": 20
         },
         "text": "<b>Germany Electricity Generation Share by Source (2022–2024)</b>"
        },
        "width": 1200,
        "xaxis": {
         "tickmode": "array",
         "ticktext": [
          "2022",
          "2023",
          "2024"
         ],
         "tickvals": {
          "bdata": "5gfnB+gH",
          "dtype": "i2"
         },
         "title": {
          "text": "Year"
         }
        },
        "yaxis": {
         "title": {
          "text": "Generation Share (%)"
         }
        }
       }
      }
     },
     "metadata": {},
     "output_type": "display_data"
    }
   ],
   "source": [
    "plot_electricity_gen_share(df, \"Germany\", save_as_html=True)"
   ]
  },
  {
   "cell_type": "markdown",
   "id": "5ba72f60",
   "metadata": {},
   "source": [
    "## Plot 2 - Bar plot of electricity generation share by source for denmark from 2022 to 2024"
   ]
  },
  {
   "cell_type": "code",
   "execution_count": 16,
   "id": "25908e7f",
   "metadata": {
    "ExecuteTime": {
     "end_time": "2025-09-20T22:28:26.746356Z",
     "start_time": "2025-09-20T22:28:26.657696Z"
    }
   },
   "outputs": [
    {
     "data": {
      "application/vnd.plotly.v1+json": {
       "config": {
        "plotlyServerURL": "https://plot.ly"
       },
       "data": [
        {
         "insidetextanchor": "middle",
         "name": "Bioenergy",
         "text": [
          "20.8%",
          "19.1%",
          "18.8%"
         ],
         "textposition": "inside",
         "type": "bar",
         "x": {
          "bdata": "5gfnB+gH",
          "dtype": "i2"
         },
         "y": {
          "bdata": "SOF6FK7HNECamZmZmRkzQFK4HoXr0TJA",
          "dtype": "f8"
         }
        },
        {
         "insidetextanchor": "middle",
         "name": "Coal",
         "text": [
          "12.7%",
          "7.5%",
          "7.0%"
         ],
         "textposition": "inside",
         "type": "bar",
         "x": {
          "bdata": "5gfnB+gH",
          "dtype": "i2"
         },
         "y": {
          "bdata": "UrgehetRKUAK16NwPQoeQB+F61G4HhxA",
          "dtype": "f8"
         }
        },
        {
         "insidetextanchor": "middle",
         "name": "Gas",
         "text": [
          "2.9%",
          "3.0%",
          "2.5%"
         ],
         "textposition": "inside",
         "type": "bar",
         "x": {
          "bdata": "5gfnB+gH",
          "dtype": "i2"
         },
         "y": {
          "bdata": "XI/C9ShcB0DD9Shcj8IHQFK4HoXrUQRA",
          "dtype": "f8"
         }
        },
        {
         "insidetextanchor": "middle",
         "name": "Hydro",
         "text": [
          "0.0%",
          "0.1%",
          "0.1%"
         ],
         "textposition": "inside",
         "type": "bar",
         "x": {
          "bdata": "5gfnB+gH",
          "dtype": "i2"
         },
         "y": {
          "bdata": "uB6F61G4nj+4HoXrUbiuP7gehetRuK4/",
          "dtype": "f8"
         }
        },
        {
         "insidetextanchor": "middle",
         "name": "Nuclear",
         "text": [
          "0.0%",
          "0.0%",
          "0.0%"
         ],
         "textposition": "inside",
         "type": "bar",
         "x": {
          "bdata": "5gfnB+gH",
          "dtype": "i2"
         },
         "y": {
          "bdata": "AAAAAAAAAAAAAAAAAAAAAAAAAAAAAAAA",
          "dtype": "f8"
         }
        },
        {
         "insidetextanchor": "middle",
         "name": "Other fossil",
         "text": [
          "2.9%",
          "2.5%",
          "2.4%"
         ],
         "textposition": "inside",
         "type": "bar",
         "x": {
          "bdata": "5gfnB+gH",
          "dtype": "i2"
         },
         "y": {
          "bdata": "hetRuB6FB0ApXI/C9SgEQPYoXI/C9QJA",
          "dtype": "f8"
         }
        },
        {
         "insidetextanchor": "middle",
         "name": "Other renewables",
         "text": [
          "0.0%",
          "0.0%",
          "0.0%"
         ],
         "textposition": "inside",
         "type": "bar",
         "x": {
          "bdata": "5gfnB+gH",
          "dtype": "i2"
         },
         "y": {
          "bdata": "AAAAAAAAAAAAAAAAAAAAAAAAAAAAAAAA",
          "dtype": "f8"
         }
        },
        {
         "insidetextanchor": "middle",
         "name": "Solar",
         "text": [
          "6.3%",
          "10.0%",
          "11.3%"
         ],
         "textposition": "inside",
         "type": "bar",
         "x": {
          "bdata": "5gfnB+gH",
          "dtype": "i2"
         },
         "y": {
          "bdata": "KVyPwvUoGUBxPQrXo/AjQIXrUbgehSZA",
          "dtype": "f8"
         }
        },
        {
         "insidetextanchor": "middle",
         "name": "Wind",
         "text": [
          "54.4%",
          "57.9%",
          "57.9%"
         ],
         "textposition": "inside",
         "type": "bar",
         "x": {
          "bdata": "5gfnB+gH",
          "dtype": "i2"
         },
         "y": {
          "bdata": "UrgehesxS0BxPQrXo/BMQNejcD0K90xA",
          "dtype": "f8"
         }
        }
       ],
       "layout": {
        "annotations": [
         {
          "align": "center",
          "font": {
           "color": "black",
           "size": 14
          },
          "showarrow": false,
          "text": "Total: 35.0 TWh",
          "x": 2022,
          "y": 103.01
         },
         {
          "align": "center",
          "font": {
           "color": "black",
           "size": 14
          },
          "showarrow": false,
          "text": "Total: 33.7 TWh",
          "x": 2023,
          "y": 103.01
         },
         {
          "align": "center",
          "font": {
           "color": "black",
           "size": 14
          },
          "showarrow": false,
          "text": "Total: 35.4 TWh",
          "x": 2024,
          "y": 103.00999999999999
         }
        ],
        "barmode": "stack",
        "height": 800,
        "legend": {
         "title": {
          "text": "Source"
         }
        },
        "template": {
         "data": {
          "bar": [
           {
            "error_x": {
             "color": "#2a3f5f"
            },
            "error_y": {
             "color": "#2a3f5f"
            },
            "marker": {
             "line": {
              "color": "white",
              "width": 0.5
             },
             "pattern": {
              "fillmode": "overlay",
              "size": 10,
              "solidity": 0.2
             }
            },
            "type": "bar"
           }
          ],
          "barpolar": [
           {
            "marker": {
             "line": {
              "color": "white",
              "width": 0.5
             },
             "pattern": {
              "fillmode": "overlay",
              "size": 10,
              "solidity": 0.2
             }
            },
            "type": "barpolar"
           }
          ],
          "carpet": [
           {
            "aaxis": {
             "endlinecolor": "#2a3f5f",
             "gridcolor": "#C8D4E3",
             "linecolor": "#C8D4E3",
             "minorgridcolor": "#C8D4E3",
             "startlinecolor": "#2a3f5f"
            },
            "baxis": {
             "endlinecolor": "#2a3f5f",
             "gridcolor": "#C8D4E3",
             "linecolor": "#C8D4E3",
             "minorgridcolor": "#C8D4E3",
             "startlinecolor": "#2a3f5f"
            },
            "type": "carpet"
           }
          ],
          "choropleth": [
           {
            "colorbar": {
             "outlinewidth": 0,
             "ticks": ""
            },
            "type": "choropleth"
           }
          ],
          "contour": [
           {
            "colorbar": {
             "outlinewidth": 0,
             "ticks": ""
            },
            "colorscale": [
             [
              0,
              "#0d0887"
             ],
             [
              0.1111111111111111,
              "#46039f"
             ],
             [
              0.2222222222222222,
              "#7201a8"
             ],
             [
              0.3333333333333333,
              "#9c179e"
             ],
             [
              0.4444444444444444,
              "#bd3786"
             ],
             [
              0.5555555555555556,
              "#d8576b"
             ],
             [
              0.6666666666666666,
              "#ed7953"
             ],
             [
              0.7777777777777778,
              "#fb9f3a"
             ],
             [
              0.8888888888888888,
              "#fdca26"
             ],
             [
              1,
              "#f0f921"
             ]
            ],
            "type": "contour"
           }
          ],
          "contourcarpet": [
           {
            "colorbar": {
             "outlinewidth": 0,
             "ticks": ""
            },
            "type": "contourcarpet"
           }
          ],
          "heatmap": [
           {
            "colorbar": {
             "outlinewidth": 0,
             "ticks": ""
            },
            "colorscale": [
             [
              0,
              "#0d0887"
             ],
             [
              0.1111111111111111,
              "#46039f"
             ],
             [
              0.2222222222222222,
              "#7201a8"
             ],
             [
              0.3333333333333333,
              "#9c179e"
             ],
             [
              0.4444444444444444,
              "#bd3786"
             ],
             [
              0.5555555555555556,
              "#d8576b"
             ],
             [
              0.6666666666666666,
              "#ed7953"
             ],
             [
              0.7777777777777778,
              "#fb9f3a"
             ],
             [
              0.8888888888888888,
              "#fdca26"
             ],
             [
              1,
              "#f0f921"
             ]
            ],
            "type": "heatmap"
           }
          ],
          "histogram": [
           {
            "marker": {
             "pattern": {
              "fillmode": "overlay",
              "size": 10,
              "solidity": 0.2
             }
            },
            "type": "histogram"
           }
          ],
          "histogram2d": [
           {
            "colorbar": {
             "outlinewidth": 0,
             "ticks": ""
            },
            "colorscale": [
             [
              0,
              "#0d0887"
             ],
             [
              0.1111111111111111,
              "#46039f"
             ],
             [
              0.2222222222222222,
              "#7201a8"
             ],
             [
              0.3333333333333333,
              "#9c179e"
             ],
             [
              0.4444444444444444,
              "#bd3786"
             ],
             [
              0.5555555555555556,
              "#d8576b"
             ],
             [
              0.6666666666666666,
              "#ed7953"
             ],
             [
              0.7777777777777778,
              "#fb9f3a"
             ],
             [
              0.8888888888888888,
              "#fdca26"
             ],
             [
              1,
              "#f0f921"
             ]
            ],
            "type": "histogram2d"
           }
          ],
          "histogram2dcontour": [
           {
            "colorbar": {
             "outlinewidth": 0,
             "ticks": ""
            },
            "colorscale": [
             [
              0,
              "#0d0887"
             ],
             [
              0.1111111111111111,
              "#46039f"
             ],
             [
              0.2222222222222222,
              "#7201a8"
             ],
             [
              0.3333333333333333,
              "#9c179e"
             ],
             [
              0.4444444444444444,
              "#bd3786"
             ],
             [
              0.5555555555555556,
              "#d8576b"
             ],
             [
              0.6666666666666666,
              "#ed7953"
             ],
             [
              0.7777777777777778,
              "#fb9f3a"
             ],
             [
              0.8888888888888888,
              "#fdca26"
             ],
             [
              1,
              "#f0f921"
             ]
            ],
            "type": "histogram2dcontour"
           }
          ],
          "mesh3d": [
           {
            "colorbar": {
             "outlinewidth": 0,
             "ticks": ""
            },
            "type": "mesh3d"
           }
          ],
          "parcoords": [
           {
            "line": {
             "colorbar": {
              "outlinewidth": 0,
              "ticks": ""
             }
            },
            "type": "parcoords"
           }
          ],
          "pie": [
           {
            "automargin": true,
            "type": "pie"
           }
          ],
          "scatter": [
           {
            "fillpattern": {
             "fillmode": "overlay",
             "size": 10,
             "solidity": 0.2
            },
            "type": "scatter"
           }
          ],
          "scatter3d": [
           {
            "line": {
             "colorbar": {
              "outlinewidth": 0,
              "ticks": ""
             }
            },
            "marker": {
             "colorbar": {
              "outlinewidth": 0,
              "ticks": ""
             }
            },
            "type": "scatter3d"
           }
          ],
          "scattercarpet": [
           {
            "marker": {
             "colorbar": {
              "outlinewidth": 0,
              "ticks": ""
             }
            },
            "type": "scattercarpet"
           }
          ],
          "scattergeo": [
           {
            "marker": {
             "colorbar": {
              "outlinewidth": 0,
              "ticks": ""
             }
            },
            "type": "scattergeo"
           }
          ],
          "scattergl": [
           {
            "marker": {
             "colorbar": {
              "outlinewidth": 0,
              "ticks": ""
             }
            },
            "type": "scattergl"
           }
          ],
          "scattermap": [
           {
            "marker": {
             "colorbar": {
              "outlinewidth": 0,
              "ticks": ""
             }
            },
            "type": "scattermap"
           }
          ],
          "scattermapbox": [
           {
            "marker": {
             "colorbar": {
              "outlinewidth": 0,
              "ticks": ""
             }
            },
            "type": "scattermapbox"
           }
          ],
          "scatterpolar": [
           {
            "marker": {
             "colorbar": {
              "outlinewidth": 0,
              "ticks": ""
             }
            },
            "type": "scatterpolar"
           }
          ],
          "scatterpolargl": [
           {
            "marker": {
             "colorbar": {
              "outlinewidth": 0,
              "ticks": ""
             }
            },
            "type": "scatterpolargl"
           }
          ],
          "scatterternary": [
           {
            "marker": {
             "colorbar": {
              "outlinewidth": 0,
              "ticks": ""
             }
            },
            "type": "scatterternary"
           }
          ],
          "surface": [
           {
            "colorbar": {
             "outlinewidth": 0,
             "ticks": ""
            },
            "colorscale": [
             [
              0,
              "#0d0887"
             ],
             [
              0.1111111111111111,
              "#46039f"
             ],
             [
              0.2222222222222222,
              "#7201a8"
             ],
             [
              0.3333333333333333,
              "#9c179e"
             ],
             [
              0.4444444444444444,
              "#bd3786"
             ],
             [
              0.5555555555555556,
              "#d8576b"
             ],
             [
              0.6666666666666666,
              "#ed7953"
             ],
             [
              0.7777777777777778,
              "#fb9f3a"
             ],
             [
              0.8888888888888888,
              "#fdca26"
             ],
             [
              1,
              "#f0f921"
             ]
            ],
            "type": "surface"
           }
          ],
          "table": [
           {
            "cells": {
             "fill": {
              "color": "#EBF0F8"
             },
             "line": {
              "color": "white"
             }
            },
            "header": {
             "fill": {
              "color": "#C8D4E3"
             },
             "line": {
              "color": "white"
             }
            },
            "type": "table"
           }
          ]
         },
         "layout": {
          "annotationdefaults": {
           "arrowcolor": "#2a3f5f",
           "arrowhead": 0,
           "arrowwidth": 1
          },
          "autotypenumbers": "strict",
          "coloraxis": {
           "colorbar": {
            "outlinewidth": 0,
            "ticks": ""
           }
          },
          "colorscale": {
           "diverging": [
            [
             0,
             "#8e0152"
            ],
            [
             0.1,
             "#c51b7d"
            ],
            [
             0.2,
             "#de77ae"
            ],
            [
             0.3,
             "#f1b6da"
            ],
            [
             0.4,
             "#fde0ef"
            ],
            [
             0.5,
             "#f7f7f7"
            ],
            [
             0.6,
             "#e6f5d0"
            ],
            [
             0.7,
             "#b8e186"
            ],
            [
             0.8,
             "#7fbc41"
            ],
            [
             0.9,
             "#4d9221"
            ],
            [
             1,
             "#276419"
            ]
           ],
           "sequential": [
            [
             0,
             "#0d0887"
            ],
            [
             0.1111111111111111,
             "#46039f"
            ],
            [
             0.2222222222222222,
             "#7201a8"
            ],
            [
             0.3333333333333333,
             "#9c179e"
            ],
            [
             0.4444444444444444,
             "#bd3786"
            ],
            [
             0.5555555555555556,
             "#d8576b"
            ],
            [
             0.6666666666666666,
             "#ed7953"
            ],
            [
             0.7777777777777778,
             "#fb9f3a"
            ],
            [
             0.8888888888888888,
             "#fdca26"
            ],
            [
             1,
             "#f0f921"
            ]
           ],
           "sequentialminus": [
            [
             0,
             "#0d0887"
            ],
            [
             0.1111111111111111,
             "#46039f"
            ],
            [
             0.2222222222222222,
             "#7201a8"
            ],
            [
             0.3333333333333333,
             "#9c179e"
            ],
            [
             0.4444444444444444,
             "#bd3786"
            ],
            [
             0.5555555555555556,
             "#d8576b"
            ],
            [
             0.6666666666666666,
             "#ed7953"
            ],
            [
             0.7777777777777778,
             "#fb9f3a"
            ],
            [
             0.8888888888888888,
             "#fdca26"
            ],
            [
             1,
             "#f0f921"
            ]
           ]
          },
          "colorway": [
           "#636efa",
           "#EF553B",
           "#00cc96",
           "#ab63fa",
           "#FFA15A",
           "#19d3f3",
           "#FF6692",
           "#B6E880",
           "#FF97FF",
           "#FECB52"
          ],
          "font": {
           "color": "#2a3f5f"
          },
          "geo": {
           "bgcolor": "white",
           "lakecolor": "white",
           "landcolor": "white",
           "showlakes": true,
           "showland": true,
           "subunitcolor": "#C8D4E3"
          },
          "hoverlabel": {
           "align": "left"
          },
          "hovermode": "closest",
          "mapbox": {
           "style": "light"
          },
          "paper_bgcolor": "white",
          "plot_bgcolor": "white",
          "polar": {
           "angularaxis": {
            "gridcolor": "#EBF0F8",
            "linecolor": "#EBF0F8",
            "ticks": ""
           },
           "bgcolor": "white",
           "radialaxis": {
            "gridcolor": "#EBF0F8",
            "linecolor": "#EBF0F8",
            "ticks": ""
           }
          },
          "scene": {
           "xaxis": {
            "backgroundcolor": "white",
            "gridcolor": "#DFE8F3",
            "gridwidth": 2,
            "linecolor": "#EBF0F8",
            "showbackground": true,
            "ticks": "",
            "zerolinecolor": "#EBF0F8"
           },
           "yaxis": {
            "backgroundcolor": "white",
            "gridcolor": "#DFE8F3",
            "gridwidth": 2,
            "linecolor": "#EBF0F8",
            "showbackground": true,
            "ticks": "",
            "zerolinecolor": "#EBF0F8"
           },
           "zaxis": {
            "backgroundcolor": "white",
            "gridcolor": "#DFE8F3",
            "gridwidth": 2,
            "linecolor": "#EBF0F8",
            "showbackground": true,
            "ticks": "",
            "zerolinecolor": "#EBF0F8"
           }
          },
          "shapedefaults": {
           "line": {
            "color": "#2a3f5f"
           }
          },
          "ternary": {
           "aaxis": {
            "gridcolor": "#DFE8F3",
            "linecolor": "#A2B1C6",
            "ticks": ""
           },
           "baxis": {
            "gridcolor": "#DFE8F3",
            "linecolor": "#A2B1C6",
            "ticks": ""
           },
           "bgcolor": "white",
           "caxis": {
            "gridcolor": "#DFE8F3",
            "linecolor": "#A2B1C6",
            "ticks": ""
           }
          },
          "title": {
           "x": 0.05
          },
          "xaxis": {
           "automargin": true,
           "gridcolor": "#EBF0F8",
           "linecolor": "#EBF0F8",
           "ticks": "",
           "title": {
            "standoff": 15
           },
           "zerolinecolor": "#EBF0F8",
           "zerolinewidth": 2
          },
          "yaxis": {
           "automargin": true,
           "gridcolor": "#EBF0F8",
           "linecolor": "#EBF0F8",
           "ticks": "",
           "title": {
            "standoff": 15
           },
           "zerolinecolor": "#EBF0F8",
           "zerolinewidth": 2
          }
         }
        },
        "title": {
         "font": {
          "size": 20
         },
         "text": "<b>Denmark Electricity Generation Share by Source (2022–2024)</b>"
        },
        "width": 1200,
        "xaxis": {
         "tickmode": "array",
         "ticktext": [
          "2022",
          "2023",
          "2024"
         ],
         "tickvals": {
          "bdata": "5gfnB+gH",
          "dtype": "i2"
         },
         "title": {
          "text": "Year"
         }
        },
        "yaxis": {
         "title": {
          "text": "Generation Share (%)"
         }
        }
       }
      }
     },
     "metadata": {},
     "output_type": "display_data"
    }
   ],
   "source": [
    "plot_electricity_gen_share(df, \"Denmark\", save_as_html=True)"
   ]
  },
  {
   "cell_type": "markdown",
   "id": "b5068c6f",
   "metadata": {},
   "source": [
    "## Plot 3 - Bar plot of electricity generation share by source for france from 2022 to 2024"
   ]
  },
  {
   "cell_type": "code",
   "execution_count": 17,
   "id": "3091a90b",
   "metadata": {
    "ExecuteTime": {
     "end_time": "2025-09-20T22:28:26.831262Z",
     "start_time": "2025-09-20T22:28:26.763881Z"
    }
   },
   "outputs": [
    {
     "data": {
      "application/vnd.plotly.v1+json": {
       "config": {
        "plotlyServerURL": "https://plot.ly"
       },
       "data": [
        {
         "insidetextanchor": "middle",
         "name": "Bioenergy",
         "text": [
          "2.1%",
          "1.9%",
          "1.8%"
         ],
         "textposition": "inside",
         "type": "bar",
         "x": {
          "bdata": "5gfnB+gH",
          "dtype": "i2"
         },
         "y": {
          "bdata": "exSuR+F6AECPwvUoXI/+PwAAAAAAAPw/",
          "dtype": "f8"
         }
        },
        {
         "insidetextanchor": "middle",
         "name": "Coal",
         "text": [
          "0.9%",
          "0.4%",
          "0.3%"
         ],
         "textposition": "inside",
         "type": "bar",
         "x": {
          "bdata": "5gfnB+gH",
          "dtype": "i2"
         },
         "y": {
          "bdata": "exSuR+F67D9SuB6F61HYPzMzMzMzM9M/",
          "dtype": "f8"
         }
        },
        {
         "insidetextanchor": "middle",
         "name": "Gas",
         "text": [
          "9.8%",
          "5.8%",
          "3.4%"
         ],
         "textposition": "inside",
         "type": "bar",
         "x": {
          "bdata": "5gfnB+gH",
          "dtype": "i2"
         },
         "y": {
          "bdata": "hetRuB6FI0AUrkfhehQXQFyPwvUoXAtA",
          "dtype": "f8"
         }
        },
        {
         "insidetextanchor": "middle",
         "name": "Hydro",
         "text": [
          "9.7%",
          "11.0%",
          "12.4%"
         ],
         "textposition": "inside",
         "type": "bar",
         "x": {
          "bdata": "5gfnB+gH",
          "dtype": "i2"
         },
         "y": {
          "bdata": "cT0K16NwI0BmZmZmZuYlQFyPwvUo3ChA",
          "dtype": "f8"
         }
        },
        {
         "insidetextanchor": "middle",
         "name": "Nuclear",
         "text": [
          "62.9%",
          "65.3%",
          "68.0%"
         ],
         "textposition": "inside",
         "type": "bar",
         "x": {
          "bdata": "5gfnB+gH",
          "dtype": "i2"
         },
         "y": {
          "bdata": "FK5H4Xp0T0D2KFyPwlVQQMP1KFyPAlFA",
          "dtype": "f8"
         }
        },
        {
         "insidetextanchor": "middle",
         "name": "Other fossil",
         "text": [
          "2.2%",
          "2.0%",
          "2.0%"
         ],
         "textposition": "inside",
         "type": "bar",
         "x": {
          "bdata": "5gfnB+gH",
          "dtype": "i2"
         },
         "y": {
          "bdata": "16NwPQrXAUBSuB6F61EAQClcj8L1KABA",
          "dtype": "f8"
         }
        },
        {
         "insidetextanchor": "middle",
         "name": "Other renewables",
         "text": [
          "0.1%",
          "0.1%",
          "0.1%"
         ],
         "textposition": "inside",
         "type": "bar",
         "x": {
          "bdata": "5gfnB+gH",
          "dtype": "i2"
         },
         "y": {
          "bdata": "pHA9CtejwD8pXI/C9Si8P5qZmZmZmbk/",
          "dtype": "f8"
         }
        },
        {
         "insidetextanchor": "middle",
         "name": "Solar",
         "text": [
          "4.2%",
          "4.2%",
          "4.2%"
         ],
         "textposition": "inside",
         "type": "bar",
         "x": {
          "bdata": "5gfnB+gH",
          "dtype": "i2"
         },
         "y": {
          "bdata": "w/UoXI/CEEDhehSuR+EQQOF6FK5H4RBA",
          "dtype": "f8"
         }
        },
        {
         "insidetextanchor": "middle",
         "name": "Wind",
         "text": [
          "8.1%",
          "9.3%",
          "7.7%"
         ],
         "textposition": "inside",
         "type": "bar",
         "x": {
          "bdata": "5gfnB+gH",
          "dtype": "i2"
         },
         "y": {
          "bdata": "uB6F61E4IECPwvUoXI8iQNejcD0K1x5A",
          "dtype": "f8"
         }
        }
       ],
       "layout": {
        "annotations": [
         {
          "align": "center",
          "font": {
           "color": "black",
           "size": 14
          },
          "showarrow": false,
          "text": "Total: 468.5 TWh",
          "x": 2022,
          "y": 103.00000000000001
         },
         {
          "align": "center",
          "font": {
           "color": "black",
           "size": 14
          },
          "showarrow": false,
          "text": "Total: 517.6 TWh",
          "x": 2023,
          "y": 103
         },
         {
          "align": "center",
          "font": {
           "color": "black",
           "size": 14
          },
          "showarrow": false,
          "text": "Total: 557.6 TWh",
          "x": 2024,
          "y": 102.99
         }
        ],
        "barmode": "stack",
        "height": 800,
        "legend": {
         "title": {
          "text": "Source"
         }
        },
        "template": {
         "data": {
          "bar": [
           {
            "error_x": {
             "color": "#2a3f5f"
            },
            "error_y": {
             "color": "#2a3f5f"
            },
            "marker": {
             "line": {
              "color": "white",
              "width": 0.5
             },
             "pattern": {
              "fillmode": "overlay",
              "size": 10,
              "solidity": 0.2
             }
            },
            "type": "bar"
           }
          ],
          "barpolar": [
           {
            "marker": {
             "line": {
              "color": "white",
              "width": 0.5
             },
             "pattern": {
              "fillmode": "overlay",
              "size": 10,
              "solidity": 0.2
             }
            },
            "type": "barpolar"
           }
          ],
          "carpet": [
           {
            "aaxis": {
             "endlinecolor": "#2a3f5f",
             "gridcolor": "#C8D4E3",
             "linecolor": "#C8D4E3",
             "minorgridcolor": "#C8D4E3",
             "startlinecolor": "#2a3f5f"
            },
            "baxis": {
             "endlinecolor": "#2a3f5f",
             "gridcolor": "#C8D4E3",
             "linecolor": "#C8D4E3",
             "minorgridcolor": "#C8D4E3",
             "startlinecolor": "#2a3f5f"
            },
            "type": "carpet"
           }
          ],
          "choropleth": [
           {
            "colorbar": {
             "outlinewidth": 0,
             "ticks": ""
            },
            "type": "choropleth"
           }
          ],
          "contour": [
           {
            "colorbar": {
             "outlinewidth": 0,
             "ticks": ""
            },
            "colorscale": [
             [
              0,
              "#0d0887"
             ],
             [
              0.1111111111111111,
              "#46039f"
             ],
             [
              0.2222222222222222,
              "#7201a8"
             ],
             [
              0.3333333333333333,
              "#9c179e"
             ],
             [
              0.4444444444444444,
              "#bd3786"
             ],
             [
              0.5555555555555556,
              "#d8576b"
             ],
             [
              0.6666666666666666,
              "#ed7953"
             ],
             [
              0.7777777777777778,
              "#fb9f3a"
             ],
             [
              0.8888888888888888,
              "#fdca26"
             ],
             [
              1,
              "#f0f921"
             ]
            ],
            "type": "contour"
           }
          ],
          "contourcarpet": [
           {
            "colorbar": {
             "outlinewidth": 0,
             "ticks": ""
            },
            "type": "contourcarpet"
           }
          ],
          "heatmap": [
           {
            "colorbar": {
             "outlinewidth": 0,
             "ticks": ""
            },
            "colorscale": [
             [
              0,
              "#0d0887"
             ],
             [
              0.1111111111111111,
              "#46039f"
             ],
             [
              0.2222222222222222,
              "#7201a8"
             ],
             [
              0.3333333333333333,
              "#9c179e"
             ],
             [
              0.4444444444444444,
              "#bd3786"
             ],
             [
              0.5555555555555556,
              "#d8576b"
             ],
             [
              0.6666666666666666,
              "#ed7953"
             ],
             [
              0.7777777777777778,
              "#fb9f3a"
             ],
             [
              0.8888888888888888,
              "#fdca26"
             ],
             [
              1,
              "#f0f921"
             ]
            ],
            "type": "heatmap"
           }
          ],
          "histogram": [
           {
            "marker": {
             "pattern": {
              "fillmode": "overlay",
              "size": 10,
              "solidity": 0.2
             }
            },
            "type": "histogram"
           }
          ],
          "histogram2d": [
           {
            "colorbar": {
             "outlinewidth": 0,
             "ticks": ""
            },
            "colorscale": [
             [
              0,
              "#0d0887"
             ],
             [
              0.1111111111111111,
              "#46039f"
             ],
             [
              0.2222222222222222,
              "#7201a8"
             ],
             [
              0.3333333333333333,
              "#9c179e"
             ],
             [
              0.4444444444444444,
              "#bd3786"
             ],
             [
              0.5555555555555556,
              "#d8576b"
             ],
             [
              0.6666666666666666,
              "#ed7953"
             ],
             [
              0.7777777777777778,
              "#fb9f3a"
             ],
             [
              0.8888888888888888,
              "#fdca26"
             ],
             [
              1,
              "#f0f921"
             ]
            ],
            "type": "histogram2d"
           }
          ],
          "histogram2dcontour": [
           {
            "colorbar": {
             "outlinewidth": 0,
             "ticks": ""
            },
            "colorscale": [
             [
              0,
              "#0d0887"
             ],
             [
              0.1111111111111111,
              "#46039f"
             ],
             [
              0.2222222222222222,
              "#7201a8"
             ],
             [
              0.3333333333333333,
              "#9c179e"
             ],
             [
              0.4444444444444444,
              "#bd3786"
             ],
             [
              0.5555555555555556,
              "#d8576b"
             ],
             [
              0.6666666666666666,
              "#ed7953"
             ],
             [
              0.7777777777777778,
              "#fb9f3a"
             ],
             [
              0.8888888888888888,
              "#fdca26"
             ],
             [
              1,
              "#f0f921"
             ]
            ],
            "type": "histogram2dcontour"
           }
          ],
          "mesh3d": [
           {
            "colorbar": {
             "outlinewidth": 0,
             "ticks": ""
            },
            "type": "mesh3d"
           }
          ],
          "parcoords": [
           {
            "line": {
             "colorbar": {
              "outlinewidth": 0,
              "ticks": ""
             }
            },
            "type": "parcoords"
           }
          ],
          "pie": [
           {
            "automargin": true,
            "type": "pie"
           }
          ],
          "scatter": [
           {
            "fillpattern": {
             "fillmode": "overlay",
             "size": 10,
             "solidity": 0.2
            },
            "type": "scatter"
           }
          ],
          "scatter3d": [
           {
            "line": {
             "colorbar": {
              "outlinewidth": 0,
              "ticks": ""
             }
            },
            "marker": {
             "colorbar": {
              "outlinewidth": 0,
              "ticks": ""
             }
            },
            "type": "scatter3d"
           }
          ],
          "scattercarpet": [
           {
            "marker": {
             "colorbar": {
              "outlinewidth": 0,
              "ticks": ""
             }
            },
            "type": "scattercarpet"
           }
          ],
          "scattergeo": [
           {
            "marker": {
             "colorbar": {
              "outlinewidth": 0,
              "ticks": ""
             }
            },
            "type": "scattergeo"
           }
          ],
          "scattergl": [
           {
            "marker": {
             "colorbar": {
              "outlinewidth": 0,
              "ticks": ""
             }
            },
            "type": "scattergl"
           }
          ],
          "scattermap": [
           {
            "marker": {
             "colorbar": {
              "outlinewidth": 0,
              "ticks": ""
             }
            },
            "type": "scattermap"
           }
          ],
          "scattermapbox": [
           {
            "marker": {
             "colorbar": {
              "outlinewidth": 0,
              "ticks": ""
             }
            },
            "type": "scattermapbox"
           }
          ],
          "scatterpolar": [
           {
            "marker": {
             "colorbar": {
              "outlinewidth": 0,
              "ticks": ""
             }
            },
            "type": "scatterpolar"
           }
          ],
          "scatterpolargl": [
           {
            "marker": {
             "colorbar": {
              "outlinewidth": 0,
              "ticks": ""
             }
            },
            "type": "scatterpolargl"
           }
          ],
          "scatterternary": [
           {
            "marker": {
             "colorbar": {
              "outlinewidth": 0,
              "ticks": ""
             }
            },
            "type": "scatterternary"
           }
          ],
          "surface": [
           {
            "colorbar": {
             "outlinewidth": 0,
             "ticks": ""
            },
            "colorscale": [
             [
              0,
              "#0d0887"
             ],
             [
              0.1111111111111111,
              "#46039f"
             ],
             [
              0.2222222222222222,
              "#7201a8"
             ],
             [
              0.3333333333333333,
              "#9c179e"
             ],
             [
              0.4444444444444444,
              "#bd3786"
             ],
             [
              0.5555555555555556,
              "#d8576b"
             ],
             [
              0.6666666666666666,
              "#ed7953"
             ],
             [
              0.7777777777777778,
              "#fb9f3a"
             ],
             [
              0.8888888888888888,
              "#fdca26"
             ],
             [
              1,
              "#f0f921"
             ]
            ],
            "type": "surface"
           }
          ],
          "table": [
           {
            "cells": {
             "fill": {
              "color": "#EBF0F8"
             },
             "line": {
              "color": "white"
             }
            },
            "header": {
             "fill": {
              "color": "#C8D4E3"
             },
             "line": {
              "color": "white"
             }
            },
            "type": "table"
           }
          ]
         },
         "layout": {
          "annotationdefaults": {
           "arrowcolor": "#2a3f5f",
           "arrowhead": 0,
           "arrowwidth": 1
          },
          "autotypenumbers": "strict",
          "coloraxis": {
           "colorbar": {
            "outlinewidth": 0,
            "ticks": ""
           }
          },
          "colorscale": {
           "diverging": [
            [
             0,
             "#8e0152"
            ],
            [
             0.1,
             "#c51b7d"
            ],
            [
             0.2,
             "#de77ae"
            ],
            [
             0.3,
             "#f1b6da"
            ],
            [
             0.4,
             "#fde0ef"
            ],
            [
             0.5,
             "#f7f7f7"
            ],
            [
             0.6,
             "#e6f5d0"
            ],
            [
             0.7,
             "#b8e186"
            ],
            [
             0.8,
             "#7fbc41"
            ],
            [
             0.9,
             "#4d9221"
            ],
            [
             1,
             "#276419"
            ]
           ],
           "sequential": [
            [
             0,
             "#0d0887"
            ],
            [
             0.1111111111111111,
             "#46039f"
            ],
            [
             0.2222222222222222,
             "#7201a8"
            ],
            [
             0.3333333333333333,
             "#9c179e"
            ],
            [
             0.4444444444444444,
             "#bd3786"
            ],
            [
             0.5555555555555556,
             "#d8576b"
            ],
            [
             0.6666666666666666,
             "#ed7953"
            ],
            [
             0.7777777777777778,
             "#fb9f3a"
            ],
            [
             0.8888888888888888,
             "#fdca26"
            ],
            [
             1,
             "#f0f921"
            ]
           ],
           "sequentialminus": [
            [
             0,
             "#0d0887"
            ],
            [
             0.1111111111111111,
             "#46039f"
            ],
            [
             0.2222222222222222,
             "#7201a8"
            ],
            [
             0.3333333333333333,
             "#9c179e"
            ],
            [
             0.4444444444444444,
             "#bd3786"
            ],
            [
             0.5555555555555556,
             "#d8576b"
            ],
            [
             0.6666666666666666,
             "#ed7953"
            ],
            [
             0.7777777777777778,
             "#fb9f3a"
            ],
            [
             0.8888888888888888,
             "#fdca26"
            ],
            [
             1,
             "#f0f921"
            ]
           ]
          },
          "colorway": [
           "#636efa",
           "#EF553B",
           "#00cc96",
           "#ab63fa",
           "#FFA15A",
           "#19d3f3",
           "#FF6692",
           "#B6E880",
           "#FF97FF",
           "#FECB52"
          ],
          "font": {
           "color": "#2a3f5f"
          },
          "geo": {
           "bgcolor": "white",
           "lakecolor": "white",
           "landcolor": "white",
           "showlakes": true,
           "showland": true,
           "subunitcolor": "#C8D4E3"
          },
          "hoverlabel": {
           "align": "left"
          },
          "hovermode": "closest",
          "mapbox": {
           "style": "light"
          },
          "paper_bgcolor": "white",
          "plot_bgcolor": "white",
          "polar": {
           "angularaxis": {
            "gridcolor": "#EBF0F8",
            "linecolor": "#EBF0F8",
            "ticks": ""
           },
           "bgcolor": "white",
           "radialaxis": {
            "gridcolor": "#EBF0F8",
            "linecolor": "#EBF0F8",
            "ticks": ""
           }
          },
          "scene": {
           "xaxis": {
            "backgroundcolor": "white",
            "gridcolor": "#DFE8F3",
            "gridwidth": 2,
            "linecolor": "#EBF0F8",
            "showbackground": true,
            "ticks": "",
            "zerolinecolor": "#EBF0F8"
           },
           "yaxis": {
            "backgroundcolor": "white",
            "gridcolor": "#DFE8F3",
            "gridwidth": 2,
            "linecolor": "#EBF0F8",
            "showbackground": true,
            "ticks": "",
            "zerolinecolor": "#EBF0F8"
           },
           "zaxis": {
            "backgroundcolor": "white",
            "gridcolor": "#DFE8F3",
            "gridwidth": 2,
            "linecolor": "#EBF0F8",
            "showbackground": true,
            "ticks": "",
            "zerolinecolor": "#EBF0F8"
           }
          },
          "shapedefaults": {
           "line": {
            "color": "#2a3f5f"
           }
          },
          "ternary": {
           "aaxis": {
            "gridcolor": "#DFE8F3",
            "linecolor": "#A2B1C6",
            "ticks": ""
           },
           "baxis": {
            "gridcolor": "#DFE8F3",
            "linecolor": "#A2B1C6",
            "ticks": ""
           },
           "bgcolor": "white",
           "caxis": {
            "gridcolor": "#DFE8F3",
            "linecolor": "#A2B1C6",
            "ticks": ""
           }
          },
          "title": {
           "x": 0.05
          },
          "xaxis": {
           "automargin": true,
           "gridcolor": "#EBF0F8",
           "linecolor": "#EBF0F8",
           "ticks": "",
           "title": {
            "standoff": 15
           },
           "zerolinecolor": "#EBF0F8",
           "zerolinewidth": 2
          },
          "yaxis": {
           "automargin": true,
           "gridcolor": "#EBF0F8",
           "linecolor": "#EBF0F8",
           "ticks": "",
           "title": {
            "standoff": 15
           },
           "zerolinecolor": "#EBF0F8",
           "zerolinewidth": 2
          }
         }
        },
        "title": {
         "font": {
          "size": 20
         },
         "text": "<b>France Electricity Generation Share by Source (2022–2024)</b>"
        },
        "width": 1200,
        "xaxis": {
         "tickmode": "array",
         "ticktext": [
          "2022",
          "2023",
          "2024"
         ],
         "tickvals": {
          "bdata": "5gfnB+gH",
          "dtype": "i2"
         },
         "title": {
          "text": "Year"
         }
        },
        "yaxis": {
         "title": {
          "text": "Generation Share (%)"
         }
        }
       }
      }
     },
     "metadata": {},
     "output_type": "display_data"
    }
   ],
   "source": [
    "plot_electricity_gen_share(df, \"France\", save_as_html=True)"
   ]
  },
  {
   "cell_type": "markdown",
   "id": "7696f6c0",
   "metadata": {},
   "source": [
    "## Plot 4 - Bar plot of electricity generation share by source for the world from 2022 to 2024"
   ]
  },
  {
   "cell_type": "code",
   "execution_count": 18,
   "id": "63df7af1",
   "metadata": {
    "ExecuteTime": {
     "end_time": "2025-09-20T22:28:26.919208Z",
     "start_time": "2025-09-20T22:28:26.855641Z"
    }
   },
   "outputs": [
    {
     "data": {
      "application/vnd.plotly.v1+json": {
       "config": {
        "plotlyServerURL": "https://plot.ly"
       },
       "data": [
        {
         "insidetextanchor": "middle",
         "name": "Bioenergy",
         "text": [
          "2.3%",
          "2.3%",
          "2.3%"
         ],
         "textposition": "inside",
         "type": "bar",
         "x": {
          "bdata": "5gfnB+gH",
          "dtype": "i2"
         },
         "y": {
          "bdata": "j8L1KFyPAkBSuB6F61ECQBSuR+F6FAJA",
          "dtype": "f8"
         }
        },
        {
         "insidetextanchor": "middle",
         "name": "Coal",
         "text": [
          "35.4%",
          "35.1%",
          "34.1%"
         ],
         "textposition": "inside",
         "type": "bar",
         "x": {
          "bdata": "5gfnB+gH",
          "dtype": "i2"
         },
         "y": {
          "bdata": "9ihcj8K1QUBI4XoUrodBQM3MzMzMDEFA",
          "dtype": "f8"
         }
        },
        {
         "insidetextanchor": "middle",
         "name": "Gas",
         "text": [
          "22.9%",
          "22.6%",
          "22.3%"
         ],
         "textposition": "inside",
         "type": "bar",
         "x": {
          "bdata": "5gfnB+gH",
          "dtype": "i2"
         },
         "y": {
          "bdata": "rkfhehTuNkCkcD0K16M2QArXo3A9SjZA",
          "dtype": "f8"
         }
        },
        {
         "insidetextanchor": "middle",
         "name": "Hydro",
         "text": [
          "15.0%",
          "14.3%",
          "14.3%"
         ],
         "textposition": "inside",
         "type": "bar",
         "x": {
          "bdata": "5gfnB+gH",
          "dtype": "i2"
         },
         "y": {
          "bdata": "ZmZmZmbmLUAK16NwPYosQIXrUbgehSxA",
          "dtype": "f8"
         }
        },
        {
         "insidetextanchor": "middle",
         "name": "Nuclear",
         "text": [
          "9.1%",
          "9.1%",
          "9.0%"
         ],
         "textposition": "inside",
         "type": "bar",
         "x": {
          "bdata": "5gfnB+gH",
          "dtype": "i2"
         },
         "y": {
          "bdata": "w/UoXI9CIkAzMzMzMzMiQHsUrkfh+iFA",
          "dtype": "f8"
         }
        },
        {
         "insidetextanchor": "middle",
         "name": "Other fossil",
         "text": [
          "3.1%",
          "3.0%",
          "2.8%"
         ],
         "textposition": "inside",
         "type": "bar",
         "x": {
          "bdata": "5gfnB+gH",
          "dtype": "i2"
         },
         "y": {
          "bdata": "j8L1KFyPCECamZmZmZkHQKRwPQrXowZA",
          "dtype": "f8"
         }
        },
        {
         "insidetextanchor": "middle",
         "name": "Other renewables",
         "text": [
          "0.3%",
          "0.3%",
          "0.3%"
         ],
         "textposition": "inside",
         "type": "bar",
         "x": {
          "bdata": "5gfnB+gH",
          "dtype": "i2"
         },
         "y": {
          "bdata": "MzMzMzMz0z8zMzMzMzPTP4/C9Shcj9I/",
          "dtype": "f8"
         }
        },
        {
         "insidetextanchor": "middle",
         "name": "Solar",
         "text": [
          "4.6%",
          "5.6%",
          "6.9%"
         ],
         "textposition": "inside",
         "type": "bar",
         "x": {
          "bdata": "5gfnB+gH",
          "dtype": "i2"
         },
         "y": {
          "bdata": "ZmZmZmZmEkBmZmZmZmYWQI/C9ShcjxtA",
          "dtype": "f8"
         }
        },
        {
         "insidetextanchor": "middle",
         "name": "Wind",
         "text": [
          "7.3%",
          "7.8%",
          "8.1%"
         ],
         "textposition": "inside",
         "type": "bar",
         "x": {
          "bdata": "5gfnB+gH",
          "dtype": "i2"
         },
         "y": {
          "bdata": "KVyPwvUoHUAzMzMzMzMfQDMzMzMzMyBA",
          "dtype": "f8"
         }
        }
       ],
       "layout": {
        "annotations": [
         {
          "align": "center",
          "font": {
           "color": "black",
           "size": 14
          },
          "showarrow": false,
          "text": "Total: 28918.3 TWh",
          "x": 2022,
          "y": 103.01
         },
         {
          "align": "center",
          "font": {
           "color": "black",
           "size": 14
          },
          "showarrow": false,
          "text": "Total: 29663.0 TWh",
          "x": 2023,
          "y": 103.00999999999999
         },
         {
          "align": "center",
          "font": {
           "color": "black",
           "size": 14
          },
          "showarrow": false,
          "text": "Total: 30913.9 TWh",
          "x": 2024,
          "y": 103.00999999999999
         }
        ],
        "barmode": "stack",
        "height": 800,
        "legend": {
         "title": {
          "text": "Source"
         }
        },
        "template": {
         "data": {
          "bar": [
           {
            "error_x": {
             "color": "#2a3f5f"
            },
            "error_y": {
             "color": "#2a3f5f"
            },
            "marker": {
             "line": {
              "color": "white",
              "width": 0.5
             },
             "pattern": {
              "fillmode": "overlay",
              "size": 10,
              "solidity": 0.2
             }
            },
            "type": "bar"
           }
          ],
          "barpolar": [
           {
            "marker": {
             "line": {
              "color": "white",
              "width": 0.5
             },
             "pattern": {
              "fillmode": "overlay",
              "size": 10,
              "solidity": 0.2
             }
            },
            "type": "barpolar"
           }
          ],
          "carpet": [
           {
            "aaxis": {
             "endlinecolor": "#2a3f5f",
             "gridcolor": "#C8D4E3",
             "linecolor": "#C8D4E3",
             "minorgridcolor": "#C8D4E3",
             "startlinecolor": "#2a3f5f"
            },
            "baxis": {
             "endlinecolor": "#2a3f5f",
             "gridcolor": "#C8D4E3",
             "linecolor": "#C8D4E3",
             "minorgridcolor": "#C8D4E3",
             "startlinecolor": "#2a3f5f"
            },
            "type": "carpet"
           }
          ],
          "choropleth": [
           {
            "colorbar": {
             "outlinewidth": 0,
             "ticks": ""
            },
            "type": "choropleth"
           }
          ],
          "contour": [
           {
            "colorbar": {
             "outlinewidth": 0,
             "ticks": ""
            },
            "colorscale": [
             [
              0,
              "#0d0887"
             ],
             [
              0.1111111111111111,
              "#46039f"
             ],
             [
              0.2222222222222222,
              "#7201a8"
             ],
             [
              0.3333333333333333,
              "#9c179e"
             ],
             [
              0.4444444444444444,
              "#bd3786"
             ],
             [
              0.5555555555555556,
              "#d8576b"
             ],
             [
              0.6666666666666666,
              "#ed7953"
             ],
             [
              0.7777777777777778,
              "#fb9f3a"
             ],
             [
              0.8888888888888888,
              "#fdca26"
             ],
             [
              1,
              "#f0f921"
             ]
            ],
            "type": "contour"
           }
          ],
          "contourcarpet": [
           {
            "colorbar": {
             "outlinewidth": 0,
             "ticks": ""
            },
            "type": "contourcarpet"
           }
          ],
          "heatmap": [
           {
            "colorbar": {
             "outlinewidth": 0,
             "ticks": ""
            },
            "colorscale": [
             [
              0,
              "#0d0887"
             ],
             [
              0.1111111111111111,
              "#46039f"
             ],
             [
              0.2222222222222222,
              "#7201a8"
             ],
             [
              0.3333333333333333,
              "#9c179e"
             ],
             [
              0.4444444444444444,
              "#bd3786"
             ],
             [
              0.5555555555555556,
              "#d8576b"
             ],
             [
              0.6666666666666666,
              "#ed7953"
             ],
             [
              0.7777777777777778,
              "#fb9f3a"
             ],
             [
              0.8888888888888888,
              "#fdca26"
             ],
             [
              1,
              "#f0f921"
             ]
            ],
            "type": "heatmap"
           }
          ],
          "histogram": [
           {
            "marker": {
             "pattern": {
              "fillmode": "overlay",
              "size": 10,
              "solidity": 0.2
             }
            },
            "type": "histogram"
           }
          ],
          "histogram2d": [
           {
            "colorbar": {
             "outlinewidth": 0,
             "ticks": ""
            },
            "colorscale": [
             [
              0,
              "#0d0887"
             ],
             [
              0.1111111111111111,
              "#46039f"
             ],
             [
              0.2222222222222222,
              "#7201a8"
             ],
             [
              0.3333333333333333,
              "#9c179e"
             ],
             [
              0.4444444444444444,
              "#bd3786"
             ],
             [
              0.5555555555555556,
              "#d8576b"
             ],
             [
              0.6666666666666666,
              "#ed7953"
             ],
             [
              0.7777777777777778,
              "#fb9f3a"
             ],
             [
              0.8888888888888888,
              "#fdca26"
             ],
             [
              1,
              "#f0f921"
             ]
            ],
            "type": "histogram2d"
           }
          ],
          "histogram2dcontour": [
           {
            "colorbar": {
             "outlinewidth": 0,
             "ticks": ""
            },
            "colorscale": [
             [
              0,
              "#0d0887"
             ],
             [
              0.1111111111111111,
              "#46039f"
             ],
             [
              0.2222222222222222,
              "#7201a8"
             ],
             [
              0.3333333333333333,
              "#9c179e"
             ],
             [
              0.4444444444444444,
              "#bd3786"
             ],
             [
              0.5555555555555556,
              "#d8576b"
             ],
             [
              0.6666666666666666,
              "#ed7953"
             ],
             [
              0.7777777777777778,
              "#fb9f3a"
             ],
             [
              0.8888888888888888,
              "#fdca26"
             ],
             [
              1,
              "#f0f921"
             ]
            ],
            "type": "histogram2dcontour"
           }
          ],
          "mesh3d": [
           {
            "colorbar": {
             "outlinewidth": 0,
             "ticks": ""
            },
            "type": "mesh3d"
           }
          ],
          "parcoords": [
           {
            "line": {
             "colorbar": {
              "outlinewidth": 0,
              "ticks": ""
             }
            },
            "type": "parcoords"
           }
          ],
          "pie": [
           {
            "automargin": true,
            "type": "pie"
           }
          ],
          "scatter": [
           {
            "fillpattern": {
             "fillmode": "overlay",
             "size": 10,
             "solidity": 0.2
            },
            "type": "scatter"
           }
          ],
          "scatter3d": [
           {
            "line": {
             "colorbar": {
              "outlinewidth": 0,
              "ticks": ""
             }
            },
            "marker": {
             "colorbar": {
              "outlinewidth": 0,
              "ticks": ""
             }
            },
            "type": "scatter3d"
           }
          ],
          "scattercarpet": [
           {
            "marker": {
             "colorbar": {
              "outlinewidth": 0,
              "ticks": ""
             }
            },
            "type": "scattercarpet"
           }
          ],
          "scattergeo": [
           {
            "marker": {
             "colorbar": {
              "outlinewidth": 0,
              "ticks": ""
             }
            },
            "type": "scattergeo"
           }
          ],
          "scattergl": [
           {
            "marker": {
             "colorbar": {
              "outlinewidth": 0,
              "ticks": ""
             }
            },
            "type": "scattergl"
           }
          ],
          "scattermap": [
           {
            "marker": {
             "colorbar": {
              "outlinewidth": 0,
              "ticks": ""
             }
            },
            "type": "scattermap"
           }
          ],
          "scattermapbox": [
           {
            "marker": {
             "colorbar": {
              "outlinewidth": 0,
              "ticks": ""
             }
            },
            "type": "scattermapbox"
           }
          ],
          "scatterpolar": [
           {
            "marker": {
             "colorbar": {
              "outlinewidth": 0,
              "ticks": ""
             }
            },
            "type": "scatterpolar"
           }
          ],
          "scatterpolargl": [
           {
            "marker": {
             "colorbar": {
              "outlinewidth": 0,
              "ticks": ""
             }
            },
            "type": "scatterpolargl"
           }
          ],
          "scatterternary": [
           {
            "marker": {
             "colorbar": {
              "outlinewidth": 0,
              "ticks": ""
             }
            },
            "type": "scatterternary"
           }
          ],
          "surface": [
           {
            "colorbar": {
             "outlinewidth": 0,
             "ticks": ""
            },
            "colorscale": [
             [
              0,
              "#0d0887"
             ],
             [
              0.1111111111111111,
              "#46039f"
             ],
             [
              0.2222222222222222,
              "#7201a8"
             ],
             [
              0.3333333333333333,
              "#9c179e"
             ],
             [
              0.4444444444444444,
              "#bd3786"
             ],
             [
              0.5555555555555556,
              "#d8576b"
             ],
             [
              0.6666666666666666,
              "#ed7953"
             ],
             [
              0.7777777777777778,
              "#fb9f3a"
             ],
             [
              0.8888888888888888,
              "#fdca26"
             ],
             [
              1,
              "#f0f921"
             ]
            ],
            "type": "surface"
           }
          ],
          "table": [
           {
            "cells": {
             "fill": {
              "color": "#EBF0F8"
             },
             "line": {
              "color": "white"
             }
            },
            "header": {
             "fill": {
              "color": "#C8D4E3"
             },
             "line": {
              "color": "white"
             }
            },
            "type": "table"
           }
          ]
         },
         "layout": {
          "annotationdefaults": {
           "arrowcolor": "#2a3f5f",
           "arrowhead": 0,
           "arrowwidth": 1
          },
          "autotypenumbers": "strict",
          "coloraxis": {
           "colorbar": {
            "outlinewidth": 0,
            "ticks": ""
           }
          },
          "colorscale": {
           "diverging": [
            [
             0,
             "#8e0152"
            ],
            [
             0.1,
             "#c51b7d"
            ],
            [
             0.2,
             "#de77ae"
            ],
            [
             0.3,
             "#f1b6da"
            ],
            [
             0.4,
             "#fde0ef"
            ],
            [
             0.5,
             "#f7f7f7"
            ],
            [
             0.6,
             "#e6f5d0"
            ],
            [
             0.7,
             "#b8e186"
            ],
            [
             0.8,
             "#7fbc41"
            ],
            [
             0.9,
             "#4d9221"
            ],
            [
             1,
             "#276419"
            ]
           ],
           "sequential": [
            [
             0,
             "#0d0887"
            ],
            [
             0.1111111111111111,
             "#46039f"
            ],
            [
             0.2222222222222222,
             "#7201a8"
            ],
            [
             0.3333333333333333,
             "#9c179e"
            ],
            [
             0.4444444444444444,
             "#bd3786"
            ],
            [
             0.5555555555555556,
             "#d8576b"
            ],
            [
             0.6666666666666666,
             "#ed7953"
            ],
            [
             0.7777777777777778,
             "#fb9f3a"
            ],
            [
             0.8888888888888888,
             "#fdca26"
            ],
            [
             1,
             "#f0f921"
            ]
           ],
           "sequentialminus": [
            [
             0,
             "#0d0887"
            ],
            [
             0.1111111111111111,
             "#46039f"
            ],
            [
             0.2222222222222222,
             "#7201a8"
            ],
            [
             0.3333333333333333,
             "#9c179e"
            ],
            [
             0.4444444444444444,
             "#bd3786"
            ],
            [
             0.5555555555555556,
             "#d8576b"
            ],
            [
             0.6666666666666666,
             "#ed7953"
            ],
            [
             0.7777777777777778,
             "#fb9f3a"
            ],
            [
             0.8888888888888888,
             "#fdca26"
            ],
            [
             1,
             "#f0f921"
            ]
           ]
          },
          "colorway": [
           "#636efa",
           "#EF553B",
           "#00cc96",
           "#ab63fa",
           "#FFA15A",
           "#19d3f3",
           "#FF6692",
           "#B6E880",
           "#FF97FF",
           "#FECB52"
          ],
          "font": {
           "color": "#2a3f5f"
          },
          "geo": {
           "bgcolor": "white",
           "lakecolor": "white",
           "landcolor": "white",
           "showlakes": true,
           "showland": true,
           "subunitcolor": "#C8D4E3"
          },
          "hoverlabel": {
           "align": "left"
          },
          "hovermode": "closest",
          "mapbox": {
           "style": "light"
          },
          "paper_bgcolor": "white",
          "plot_bgcolor": "white",
          "polar": {
           "angularaxis": {
            "gridcolor": "#EBF0F8",
            "linecolor": "#EBF0F8",
            "ticks": ""
           },
           "bgcolor": "white",
           "radialaxis": {
            "gridcolor": "#EBF0F8",
            "linecolor": "#EBF0F8",
            "ticks": ""
           }
          },
          "scene": {
           "xaxis": {
            "backgroundcolor": "white",
            "gridcolor": "#DFE8F3",
            "gridwidth": 2,
            "linecolor": "#EBF0F8",
            "showbackground": true,
            "ticks": "",
            "zerolinecolor": "#EBF0F8"
           },
           "yaxis": {
            "backgroundcolor": "white",
            "gridcolor": "#DFE8F3",
            "gridwidth": 2,
            "linecolor": "#EBF0F8",
            "showbackground": true,
            "ticks": "",
            "zerolinecolor": "#EBF0F8"
           },
           "zaxis": {
            "backgroundcolor": "white",
            "gridcolor": "#DFE8F3",
            "gridwidth": 2,
            "linecolor": "#EBF0F8",
            "showbackground": true,
            "ticks": "",
            "zerolinecolor": "#EBF0F8"
           }
          },
          "shapedefaults": {
           "line": {
            "color": "#2a3f5f"
           }
          },
          "ternary": {
           "aaxis": {
            "gridcolor": "#DFE8F3",
            "linecolor": "#A2B1C6",
            "ticks": ""
           },
           "baxis": {
            "gridcolor": "#DFE8F3",
            "linecolor": "#A2B1C6",
            "ticks": ""
           },
           "bgcolor": "white",
           "caxis": {
            "gridcolor": "#DFE8F3",
            "linecolor": "#A2B1C6",
            "ticks": ""
           }
          },
          "title": {
           "x": 0.05
          },
          "xaxis": {
           "automargin": true,
           "gridcolor": "#EBF0F8",
           "linecolor": "#EBF0F8",
           "ticks": "",
           "title": {
            "standoff": 15
           },
           "zerolinecolor": "#EBF0F8",
           "zerolinewidth": 2
          },
          "yaxis": {
           "automargin": true,
           "gridcolor": "#EBF0F8",
           "linecolor": "#EBF0F8",
           "ticks": "",
           "title": {
            "standoff": 15
           },
           "zerolinecolor": "#EBF0F8",
           "zerolinewidth": 2
          }
         }
        },
        "title": {
         "font": {
          "size": 20
         },
         "text": "<b>World Electricity Generation Share by Source (2022–2024)</b>"
        },
        "width": 1200,
        "xaxis": {
         "tickmode": "array",
         "ticktext": [
          "2022",
          "2023",
          "2024"
         ],
         "tickvals": {
          "bdata": "5gfnB+gH",
          "dtype": "i2"
         },
         "title": {
          "text": "Year"
         }
        },
        "yaxis": {
         "title": {
          "text": "Generation Share (%)"
         }
        }
       }
      }
     },
     "metadata": {},
     "output_type": "display_data"
    }
   ],
   "source": [
    "plot_electricity_gen_share(df, \"World\", save_as_html=True)"
   ]
  },
  {
   "cell_type": "code",
   "execution_count": 13,
   "id": "72962b8f",
   "metadata": {
    "ExecuteTime": {
     "end_time": "2025-09-20T22:28:26.973384Z",
     "start_time": "2025-09-20T22:28:26.924630Z"
    }
   },
   "outputs": [],
   "source": [
    "df[(df[\"entity\"].isin([\"Germany\", \"Denmark\", \"France\", \"World\"])) & (df[\"series\"] == \"Total generation\")][[\"entity\", \"date\", \"series\", \"generation_twh\"]].to_clipboard()"
   ]
  },
  {
   "cell_type": "markdown",
   "id": "ca5c078d3d6c986",
   "metadata": {},
   "source": [
    "# Plot 5 - Bar plot of every country's electricity generation share by source for every year from 2022 to 2024"
   ]
  },
  {
   "cell_type": "code",
   "execution_count": 31,
   "id": "060363c3",
   "metadata": {},
   "outputs": [
    {
     "data": {
      "application/vnd.plotly.v1+json": {
       "config": {
        "plotlyServerURL": "https://plot.ly"
       },
       "data": [
        {
         "insidetextanchor": "middle",
         "legendgroup": "Bioenergy",
         "marker": {
          "color": "#FF6692"
         },
         "name": "Bioenergy",
         "showlegend": true,
         "text": [
          "8.6%",
          "9.2%",
          "9.6%"
         ],
         "textposition": "inside",
         "type": "bar",
         "x": {
          "bdata": "5gfnB+gH",
          "dtype": "i2"
         },
         "xaxis": "x",
         "y": {
          "bdata": "pHA9CtcjIUDsUbgehWsiQClcj8L1KCNA",
          "dtype": "f8"
         },
         "yaxis": "y"
        },
        {
         "insidetextanchor": "middle",
         "legendgroup": "Coal",
         "marker": {
          "color": "#636EFA"
         },
         "name": "Coal",
         "showlegend": true,
         "text": [
          "31.7%",
          "25.1%",
          "21.8%"
         ],
         "textposition": "inside",
         "type": "bar",
         "x": {
          "bdata": "5gfnB+gH",
          "dtype": "i2"
         },
         "xaxis": "x",
         "y": {
          "bdata": "PQrXo3C9P0AUrkfhehQ5QEjhehSuxzVA",
          "dtype": "f8"
         },
         "yaxis": "y"
        },
        {
         "insidetextanchor": "middle",
         "legendgroup": "Gas",
         "marker": {
          "color": "#EF553B"
         },
         "name": "Gas",
         "showlegend": true,
         "text": [
          "13.9%",
          "15.4%",
          "16.4%"
         ],
         "textposition": "inside",
         "type": "bar",
         "x": {
          "bdata": "5gfnB+gH",
          "dtype": "i2"
         },
         "xaxis": "x",
         "y": {
          "bdata": "4XoUrkfhK0DD9Shcj8IuQJqZmZmZWTBA",
          "dtype": "f8"
         },
         "yaxis": "y"
        },
        {
         "insidetextanchor": "middle",
         "legendgroup": "Hydro",
         "marker": {
          "color": "#00CC96"
         },
         "name": "Hydro",
         "showlegend": true,
         "text": [
          "3.1%",
          "4.0%",
          "4.9%"
         ],
         "textposition": "inside",
         "type": "bar",
         "x": {
          "bdata": "5gfnB+gH",
          "dtype": "i2"
         },
         "xaxis": "x",
         "y": {
          "bdata": "4XoUrkfhCEDsUbgehesPQI/C9ShcjxNA",
          "dtype": "f8"
         },
         "yaxis": "y"
        },
        {
         "insidetextanchor": "middle",
         "legendgroup": "Nuclear",
         "marker": {
          "color": "#AB63FA"
         },
         "name": "Nuclear",
         "showlegend": true,
         "text": [
          "6.1%",
          "1.4%",
          "0.0%"
         ],
         "textposition": "inside",
         "type": "bar",
         "x": {
          "bdata": "5gfnB+gH",
          "dtype": "i2"
         },
         "xaxis": "x",
         "y": {
          "bdata": "exSuR+F6GEAzMzMzMzP3PwAAAAAAAAAA",
          "dtype": "f8"
         },
         "yaxis": "y"
        },
        {
         "insidetextanchor": "middle",
         "legendgroup": "Other fossil",
         "marker": {
          "color": "#B6E880"
         },
         "name": "Other fossil",
         "showlegend": true,
         "text": [
          "3.8%",
          "4.4%",
          "4.0%"
         ],
         "textposition": "inside",
         "type": "bar",
         "x": {
          "bdata": "5gfnB+gH",
          "dtype": "i2"
         },
         "xaxis": "x",
         "y": {
          "bdata": "j8L1KFyPDkC4HoXrUbgRQDMzMzMzMxBA",
          "dtype": "f8"
         },
         "yaxis": "y"
        },
        {
         "insidetextanchor": "middle",
         "legendgroup": "Other renewables",
         "marker": {
          "color": "#FF97FF"
         },
         "name": "Other renewables",
         "showlegend": true,
         "text": [
          "0.0%",
          "0.0%",
          "0.0%"
         ],
         "textposition": "inside",
         "type": "bar",
         "x": {
          "bdata": "5gfnB+gH",
          "dtype": "i2"
         },
         "xaxis": "x",
         "y": {
          "bdata": "exSuR+F6pD97FK5H4XqkP3sUrkfheqQ/",
          "dtype": "f8"
         },
         "yaxis": "y"
        },
        {
         "insidetextanchor": "middle",
         "legendgroup": "Solar",
         "marker": {
          "color": "#FFA15A"
         },
         "name": "Solar",
         "showlegend": true,
         "text": [
          "10.6%",
          "12.8%",
          "15.5%"
         ],
         "textposition": "inside",
         "type": "bar",
         "x": {
          "bdata": "5gfnB+gH",
          "dtype": "i2"
         },
         "xaxis": "x",
         "y": {
          "bdata": "SOF6FK5HJUCkcD0K16MpQOxRuB6F6y5A",
          "dtype": "f8"
         },
         "yaxis": "y"
        },
        {
         "insidetextanchor": "middle",
         "legendgroup": "Wind",
         "marker": {
          "color": "#19D3F3"
         },
         "name": "Wind",
         "showlegend": true,
         "text": [
          "22.0%",
          "27.6%",
          "27.8%"
         ],
         "textposition": "inside",
         "type": "bar",
         "x": {
          "bdata": "5gfnB+gH",
          "dtype": "i2"
         },
         "xaxis": "x",
         "y": {
          "bdata": "hetRuB4FNkCamZmZmZk7QJqZmZmZ2TtA",
          "dtype": "f8"
         },
         "yaxis": "y"
        },
        {
         "insidetextanchor": "middle",
         "legendgroup": "Bioenergy",
         "marker": {
          "color": "#FF6692"
         },
         "name": "Bioenergy",
         "showlegend": false,
         "text": [
          "20.8%",
          "19.1%",
          "18.8%"
         ],
         "textposition": "inside",
         "type": "bar",
         "x": {
          "bdata": "5gfnB+gH",
          "dtype": "i2"
         },
         "xaxis": "x2",
         "y": {
          "bdata": "SOF6FK7HNECamZmZmRkzQFK4HoXr0TJA",
          "dtype": "f8"
         },
         "yaxis": "y2"
        },
        {
         "insidetextanchor": "middle",
         "legendgroup": "Coal",
         "marker": {
          "color": "#636EFA"
         },
         "name": "Coal",
         "showlegend": false,
         "text": [
          "12.7%",
          "7.5%",
          "7.0%"
         ],
         "textposition": "inside",
         "type": "bar",
         "x": {
          "bdata": "5gfnB+gH",
          "dtype": "i2"
         },
         "xaxis": "x2",
         "y": {
          "bdata": "UrgehetRKUAK16NwPQoeQB+F61G4HhxA",
          "dtype": "f8"
         },
         "yaxis": "y2"
        },
        {
         "insidetextanchor": "middle",
         "legendgroup": "Gas",
         "marker": {
          "color": "#EF553B"
         },
         "name": "Gas",
         "showlegend": false,
         "text": [
          "2.9%",
          "3.0%",
          "2.5%"
         ],
         "textposition": "inside",
         "type": "bar",
         "x": {
          "bdata": "5gfnB+gH",
          "dtype": "i2"
         },
         "xaxis": "x2",
         "y": {
          "bdata": "XI/C9ShcB0DD9Shcj8IHQFK4HoXrUQRA",
          "dtype": "f8"
         },
         "yaxis": "y2"
        },
        {
         "insidetextanchor": "middle",
         "legendgroup": "Hydro",
         "marker": {
          "color": "#00CC96"
         },
         "name": "Hydro",
         "showlegend": false,
         "text": [
          "0.0%",
          "0.1%",
          "0.1%"
         ],
         "textposition": "inside",
         "type": "bar",
         "x": {
          "bdata": "5gfnB+gH",
          "dtype": "i2"
         },
         "xaxis": "x2",
         "y": {
          "bdata": "uB6F61G4nj+4HoXrUbiuP7gehetRuK4/",
          "dtype": "f8"
         },
         "yaxis": "y2"
        },
        {
         "insidetextanchor": "middle",
         "legendgroup": "Nuclear",
         "marker": {
          "color": "#AB63FA"
         },
         "name": "Nuclear",
         "showlegend": false,
         "text": [
          "0.0%",
          "0.0%",
          "0.0%"
         ],
         "textposition": "inside",
         "type": "bar",
         "x": {
          "bdata": "5gfnB+gH",
          "dtype": "i2"
         },
         "xaxis": "x2",
         "y": {
          "bdata": "AAAAAAAAAAAAAAAAAAAAAAAAAAAAAAAA",
          "dtype": "f8"
         },
         "yaxis": "y2"
        },
        {
         "insidetextanchor": "middle",
         "legendgroup": "Other fossil",
         "marker": {
          "color": "#B6E880"
         },
         "name": "Other fossil",
         "showlegend": false,
         "text": [
          "2.9%",
          "2.5%",
          "2.4%"
         ],
         "textposition": "inside",
         "type": "bar",
         "x": {
          "bdata": "5gfnB+gH",
          "dtype": "i2"
         },
         "xaxis": "x2",
         "y": {
          "bdata": "hetRuB6FB0ApXI/C9SgEQPYoXI/C9QJA",
          "dtype": "f8"
         },
         "yaxis": "y2"
        },
        {
         "insidetextanchor": "middle",
         "legendgroup": "Other renewables",
         "marker": {
          "color": "#FF97FF"
         },
         "name": "Other renewables",
         "showlegend": false,
         "text": [
          "0.0%",
          "0.0%",
          "0.0%"
         ],
         "textposition": "inside",
         "type": "bar",
         "x": {
          "bdata": "5gfnB+gH",
          "dtype": "i2"
         },
         "xaxis": "x2",
         "y": {
          "bdata": "AAAAAAAAAAAAAAAAAAAAAAAAAAAAAAAA",
          "dtype": "f8"
         },
         "yaxis": "y2"
        },
        {
         "insidetextanchor": "middle",
         "legendgroup": "Solar",
         "marker": {
          "color": "#FFA15A"
         },
         "name": "Solar",
         "showlegend": false,
         "text": [
          "6.3%",
          "10.0%",
          "11.3%"
         ],
         "textposition": "inside",
         "type": "bar",
         "x": {
          "bdata": "5gfnB+gH",
          "dtype": "i2"
         },
         "xaxis": "x2",
         "y": {
          "bdata": "KVyPwvUoGUBxPQrXo/AjQIXrUbgehSZA",
          "dtype": "f8"
         },
         "yaxis": "y2"
        },
        {
         "insidetextanchor": "middle",
         "legendgroup": "Wind",
         "marker": {
          "color": "#19D3F3"
         },
         "name": "Wind",
         "showlegend": false,
         "text": [
          "54.4%",
          "57.9%",
          "57.9%"
         ],
         "textposition": "inside",
         "type": "bar",
         "x": {
          "bdata": "5gfnB+gH",
          "dtype": "i2"
         },
         "xaxis": "x2",
         "y": {
          "bdata": "UrgehesxS0BxPQrXo/BMQNejcD0K90xA",
          "dtype": "f8"
         },
         "yaxis": "y2"
        },
        {
         "insidetextanchor": "middle",
         "legendgroup": "Bioenergy",
         "marker": {
          "color": "#FF6692"
         },
         "name": "Bioenergy",
         "showlegend": false,
         "text": [
          "2.1%",
          "1.9%",
          "1.8%"
         ],
         "textposition": "inside",
         "type": "bar",
         "x": {
          "bdata": "5gfnB+gH",
          "dtype": "i2"
         },
         "xaxis": "x3",
         "y": {
          "bdata": "exSuR+F6AECPwvUoXI/+PwAAAAAAAPw/",
          "dtype": "f8"
         },
         "yaxis": "y3"
        },
        {
         "insidetextanchor": "middle",
         "legendgroup": "Coal",
         "marker": {
          "color": "#636EFA"
         },
         "name": "Coal",
         "showlegend": false,
         "text": [
          "0.9%",
          "0.4%",
          "0.3%"
         ],
         "textposition": "inside",
         "type": "bar",
         "x": {
          "bdata": "5gfnB+gH",
          "dtype": "i2"
         },
         "xaxis": "x3",
         "y": {
          "bdata": "exSuR+F67D9SuB6F61HYPzMzMzMzM9M/",
          "dtype": "f8"
         },
         "yaxis": "y3"
        },
        {
         "insidetextanchor": "middle",
         "legendgroup": "Gas",
         "marker": {
          "color": "#EF553B"
         },
         "name": "Gas",
         "showlegend": false,
         "text": [
          "9.8%",
          "5.8%",
          "3.4%"
         ],
         "textposition": "inside",
         "type": "bar",
         "x": {
          "bdata": "5gfnB+gH",
          "dtype": "i2"
         },
         "xaxis": "x3",
         "y": {
          "bdata": "hetRuB6FI0AUrkfhehQXQFyPwvUoXAtA",
          "dtype": "f8"
         },
         "yaxis": "y3"
        },
        {
         "insidetextanchor": "middle",
         "legendgroup": "Hydro",
         "marker": {
          "color": "#00CC96"
         },
         "name": "Hydro",
         "showlegend": false,
         "text": [
          "9.7%",
          "11.0%",
          "12.4%"
         ],
         "textposition": "inside",
         "type": "bar",
         "x": {
          "bdata": "5gfnB+gH",
          "dtype": "i2"
         },
         "xaxis": "x3",
         "y": {
          "bdata": "cT0K16NwI0BmZmZmZuYlQFyPwvUo3ChA",
          "dtype": "f8"
         },
         "yaxis": "y3"
        },
        {
         "insidetextanchor": "middle",
         "legendgroup": "Nuclear",
         "marker": {
          "color": "#AB63FA"
         },
         "name": "Nuclear",
         "showlegend": false,
         "text": [
          "62.9%",
          "65.3%",
          "68.0%"
         ],
         "textposition": "inside",
         "type": "bar",
         "x": {
          "bdata": "5gfnB+gH",
          "dtype": "i2"
         },
         "xaxis": "x3",
         "y": {
          "bdata": "FK5H4Xp0T0D2KFyPwlVQQMP1KFyPAlFA",
          "dtype": "f8"
         },
         "yaxis": "y3"
        },
        {
         "insidetextanchor": "middle",
         "legendgroup": "Other fossil",
         "marker": {
          "color": "#B6E880"
         },
         "name": "Other fossil",
         "showlegend": false,
         "text": [
          "2.2%",
          "2.0%",
          "2.0%"
         ],
         "textposition": "inside",
         "type": "bar",
         "x": {
          "bdata": "5gfnB+gH",
          "dtype": "i2"
         },
         "xaxis": "x3",
         "y": {
          "bdata": "16NwPQrXAUBSuB6F61EAQClcj8L1KABA",
          "dtype": "f8"
         },
         "yaxis": "y3"
        },
        {
         "insidetextanchor": "middle",
         "legendgroup": "Other renewables",
         "marker": {
          "color": "#FF97FF"
         },
         "name": "Other renewables",
         "showlegend": false,
         "text": [
          "0.1%",
          "0.1%",
          "0.1%"
         ],
         "textposition": "inside",
         "type": "bar",
         "x": {
          "bdata": "5gfnB+gH",
          "dtype": "i2"
         },
         "xaxis": "x3",
         "y": {
          "bdata": "pHA9CtejwD8pXI/C9Si8P5qZmZmZmbk/",
          "dtype": "f8"
         },
         "yaxis": "y3"
        },
        {
         "insidetextanchor": "middle",
         "legendgroup": "Solar",
         "marker": {
          "color": "#FFA15A"
         },
         "name": "Solar",
         "showlegend": false,
         "text": [
          "4.2%",
          "4.2%",
          "4.2%"
         ],
         "textposition": "inside",
         "type": "bar",
         "x": {
          "bdata": "5gfnB+gH",
          "dtype": "i2"
         },
         "xaxis": "x3",
         "y": {
          "bdata": "w/UoXI/CEEDhehSuR+EQQOF6FK5H4RBA",
          "dtype": "f8"
         },
         "yaxis": "y3"
        },
        {
         "insidetextanchor": "middle",
         "legendgroup": "Wind",
         "marker": {
          "color": "#19D3F3"
         },
         "name": "Wind",
         "showlegend": false,
         "text": [
          "8.1%",
          "9.3%",
          "7.7%"
         ],
         "textposition": "inside",
         "type": "bar",
         "x": {
          "bdata": "5gfnB+gH",
          "dtype": "i2"
         },
         "xaxis": "x3",
         "y": {
          "bdata": "uB6F61E4IECPwvUoXI8iQNejcD0K1x5A",
          "dtype": "f8"
         },
         "yaxis": "y3"
        },
        {
         "insidetextanchor": "middle",
         "legendgroup": "Bioenergy",
         "marker": {
          "color": "#FF6692"
         },
         "name": "Bioenergy",
         "showlegend": false,
         "text": [
          "2.3%",
          "2.3%",
          "2.3%"
         ],
         "textposition": "inside",
         "type": "bar",
         "x": {
          "bdata": "5gfnB+gH",
          "dtype": "i2"
         },
         "xaxis": "x4",
         "y": {
          "bdata": "j8L1KFyPAkBSuB6F61ECQBSuR+F6FAJA",
          "dtype": "f8"
         },
         "yaxis": "y4"
        },
        {
         "insidetextanchor": "middle",
         "legendgroup": "Coal",
         "marker": {
          "color": "#636EFA"
         },
         "name": "Coal",
         "showlegend": false,
         "text": [
          "35.4%",
          "35.1%",
          "34.1%"
         ],
         "textposition": "inside",
         "type": "bar",
         "x": {
          "bdata": "5gfnB+gH",
          "dtype": "i2"
         },
         "xaxis": "x4",
         "y": {
          "bdata": "9ihcj8K1QUBI4XoUrodBQM3MzMzMDEFA",
          "dtype": "f8"
         },
         "yaxis": "y4"
        },
        {
         "insidetextanchor": "middle",
         "legendgroup": "Gas",
         "marker": {
          "color": "#EF553B"
         },
         "name": "Gas",
         "showlegend": false,
         "text": [
          "22.9%",
          "22.6%",
          "22.3%"
         ],
         "textposition": "inside",
         "type": "bar",
         "x": {
          "bdata": "5gfnB+gH",
          "dtype": "i2"
         },
         "xaxis": "x4",
         "y": {
          "bdata": "rkfhehTuNkCkcD0K16M2QArXo3A9SjZA",
          "dtype": "f8"
         },
         "yaxis": "y4"
        },
        {
         "insidetextanchor": "middle",
         "legendgroup": "Hydro",
         "marker": {
          "color": "#00CC96"
         },
         "name": "Hydro",
         "showlegend": false,
         "text": [
          "15.0%",
          "14.3%",
          "14.3%"
         ],
         "textposition": "inside",
         "type": "bar",
         "x": {
          "bdata": "5gfnB+gH",
          "dtype": "i2"
         },
         "xaxis": "x4",
         "y": {
          "bdata": "ZmZmZmbmLUAK16NwPYosQIXrUbgehSxA",
          "dtype": "f8"
         },
         "yaxis": "y4"
        },
        {
         "insidetextanchor": "middle",
         "legendgroup": "Nuclear",
         "marker": {
          "color": "#AB63FA"
         },
         "name": "Nuclear",
         "showlegend": false,
         "text": [
          "9.1%",
          "9.1%",
          "9.0%"
         ],
         "textposition": "inside",
         "type": "bar",
         "x": {
          "bdata": "5gfnB+gH",
          "dtype": "i2"
         },
         "xaxis": "x4",
         "y": {
          "bdata": "w/UoXI9CIkAzMzMzMzMiQHsUrkfh+iFA",
          "dtype": "f8"
         },
         "yaxis": "y4"
        },
        {
         "insidetextanchor": "middle",
         "legendgroup": "Other fossil",
         "marker": {
          "color": "#B6E880"
         },
         "name": "Other fossil",
         "showlegend": false,
         "text": [
          "3.1%",
          "3.0%",
          "2.8%"
         ],
         "textposition": "inside",
         "type": "bar",
         "x": {
          "bdata": "5gfnB+gH",
          "dtype": "i2"
         },
         "xaxis": "x4",
         "y": {
          "bdata": "j8L1KFyPCECamZmZmZkHQKRwPQrXowZA",
          "dtype": "f8"
         },
         "yaxis": "y4"
        },
        {
         "insidetextanchor": "middle",
         "legendgroup": "Other renewables",
         "marker": {
          "color": "#FF97FF"
         },
         "name": "Other renewables",
         "showlegend": false,
         "text": [
          "0.3%",
          "0.3%",
          "0.3%"
         ],
         "textposition": "inside",
         "type": "bar",
         "x": {
          "bdata": "5gfnB+gH",
          "dtype": "i2"
         },
         "xaxis": "x4",
         "y": {
          "bdata": "MzMzMzMz0z8zMzMzMzPTP4/C9Shcj9I/",
          "dtype": "f8"
         },
         "yaxis": "y4"
        },
        {
         "insidetextanchor": "middle",
         "legendgroup": "Solar",
         "marker": {
          "color": "#FFA15A"
         },
         "name": "Solar",
         "showlegend": false,
         "text": [
          "4.6%",
          "5.6%",
          "6.9%"
         ],
         "textposition": "inside",
         "type": "bar",
         "x": {
          "bdata": "5gfnB+gH",
          "dtype": "i2"
         },
         "xaxis": "x4",
         "y": {
          "bdata": "ZmZmZmZmEkBmZmZmZmYWQI/C9ShcjxtA",
          "dtype": "f8"
         },
         "yaxis": "y4"
        },
        {
         "insidetextanchor": "middle",
         "legendgroup": "Wind",
         "marker": {
          "color": "#19D3F3"
         },
         "name": "Wind",
         "showlegend": false,
         "text": [
          "7.3%",
          "7.8%",
          "8.1%"
         ],
         "textposition": "inside",
         "type": "bar",
         "x": {
          "bdata": "5gfnB+gH",
          "dtype": "i2"
         },
         "xaxis": "x4",
         "y": {
          "bdata": "KVyPwvUoHUAzMzMzMzMfQDMzMzMzMyBA",
          "dtype": "f8"
         },
         "yaxis": "y4"
        }
       ],
       "layout": {
        "annotations": [
         {
          "font": {
           "size": 16
          },
          "showarrow": false,
          "text": "<b>Germany</b>",
          "x": 0.225,
          "xanchor": "center",
          "xref": "paper",
          "y": 1,
          "yanchor": "bottom",
          "yref": "paper"
         },
         {
          "font": {
           "size": 16
          },
          "showarrow": false,
          "text": "<b>Denmark</b>",
          "x": 0.775,
          "xanchor": "center",
          "xref": "paper",
          "y": 1,
          "yanchor": "bottom",
          "yref": "paper"
         },
         {
          "font": {
           "size": 16
          },
          "showarrow": false,
          "text": "<b>France</b>",
          "x": 0.225,
          "xanchor": "center",
          "xref": "paper",
          "y": 0.4375,
          "yanchor": "bottom",
          "yref": "paper"
         },
         {
          "font": {
           "size": 16
          },
          "showarrow": false,
          "text": "<b>World</b>",
          "x": 0.775,
          "xanchor": "center",
          "xref": "paper",
          "y": 0.4375,
          "yanchor": "bottom",
          "yref": "paper"
         },
         {
          "align": "center",
          "font": {
           "color": "black",
           "size": 13
          },
          "showarrow": false,
          "text": "566.9 TWh",
          "x": 2022,
          "xref": "x",
          "y": 102.99999999999999,
          "yref": "y"
         },
         {
          "align": "center",
          "font": {
           "color": "black",
           "size": 13
          },
          "showarrow": false,
          "text": "498.3 TWh",
          "x": 2023,
          "xref": "x",
          "y": 103,
          "yref": "y"
         },
         {
          "align": "center",
          "font": {
           "color": "black",
           "size": 13
          },
          "showarrow": false,
          "text": "479.6 TWh",
          "x": 2024,
          "xref": "x",
          "y": 103,
          "yref": "y"
         },
         {
          "align": "center",
          "font": {
           "color": "black",
           "size": 13
          },
          "showarrow": false,
          "text": "35.0 TWh",
          "x": 2022,
          "xref": "x2",
          "y": 103.01,
          "yref": "y2"
         },
         {
          "align": "center",
          "font": {
           "color": "black",
           "size": 13
          },
          "showarrow": false,
          "text": "33.7 TWh",
          "x": 2023,
          "xref": "x2",
          "y": 103.01,
          "yref": "y2"
         },
         {
          "align": "center",
          "font": {
           "color": "black",
           "size": 13
          },
          "showarrow": false,
          "text": "35.4 TWh",
          "x": 2024,
          "xref": "x2",
          "y": 103.00999999999999,
          "yref": "y2"
         },
         {
          "align": "center",
          "font": {
           "color": "black",
           "size": 13
          },
          "showarrow": false,
          "text": "468.5 TWh",
          "x": 2022,
          "xref": "x3",
          "y": 103.00000000000001,
          "yref": "y3"
         },
         {
          "align": "center",
          "font": {
           "color": "black",
           "size": 13
          },
          "showarrow": false,
          "text": "517.6 TWh",
          "x": 2023,
          "xref": "x3",
          "y": 103,
          "yref": "y3"
         },
         {
          "align": "center",
          "font": {
           "color": "black",
           "size": 13
          },
          "showarrow": false,
          "text": "557.6 TWh",
          "x": 2024,
          "xref": "x3",
          "y": 102.99,
          "yref": "y3"
         },
         {
          "align": "center",
          "font": {
           "color": "black",
           "size": 13
          },
          "showarrow": false,
          "text": "28918.3 TWh",
          "x": 2022,
          "xref": "x4",
          "y": 103.01,
          "yref": "y4"
         },
         {
          "align": "center",
          "font": {
           "color": "black",
           "size": 13
          },
          "showarrow": false,
          "text": "29663.0 TWh",
          "x": 2023,
          "xref": "x4",
          "y": 103.00999999999999,
          "yref": "y4"
         },
         {
          "align": "center",
          "font": {
           "color": "black",
           "size": 13
          },
          "showarrow": false,
          "text": "30913.9 TWh",
          "x": 2024,
          "xref": "x4",
          "y": 103.00999999999999,
          "yref": "y4"
         }
        ],
        "autosize": true,
        "barmode": "stack",
        "height": 1300,
        "legend": {
         "title": {
          "text": "Source"
         }
        },
        "template": {
         "data": {
          "bar": [
           {
            "error_x": {
             "color": "#2a3f5f"
            },
            "error_y": {
             "color": "#2a3f5f"
            },
            "marker": {
             "line": {
              "color": "white",
              "width": 0.5
             },
             "pattern": {
              "fillmode": "overlay",
              "size": 10,
              "solidity": 0.2
             }
            },
            "type": "bar"
           }
          ],
          "barpolar": [
           {
            "marker": {
             "line": {
              "color": "white",
              "width": 0.5
             },
             "pattern": {
              "fillmode": "overlay",
              "size": 10,
              "solidity": 0.2
             }
            },
            "type": "barpolar"
           }
          ],
          "carpet": [
           {
            "aaxis": {
             "endlinecolor": "#2a3f5f",
             "gridcolor": "#C8D4E3",
             "linecolor": "#C8D4E3",
             "minorgridcolor": "#C8D4E3",
             "startlinecolor": "#2a3f5f"
            },
            "baxis": {
             "endlinecolor": "#2a3f5f",
             "gridcolor": "#C8D4E3",
             "linecolor": "#C8D4E3",
             "minorgridcolor": "#C8D4E3",
             "startlinecolor": "#2a3f5f"
            },
            "type": "carpet"
           }
          ],
          "choropleth": [
           {
            "colorbar": {
             "outlinewidth": 0,
             "ticks": ""
            },
            "type": "choropleth"
           }
          ],
          "contour": [
           {
            "colorbar": {
             "outlinewidth": 0,
             "ticks": ""
            },
            "colorscale": [
             [
              0,
              "#0d0887"
             ],
             [
              0.1111111111111111,
              "#46039f"
             ],
             [
              0.2222222222222222,
              "#7201a8"
             ],
             [
              0.3333333333333333,
              "#9c179e"
             ],
             [
              0.4444444444444444,
              "#bd3786"
             ],
             [
              0.5555555555555556,
              "#d8576b"
             ],
             [
              0.6666666666666666,
              "#ed7953"
             ],
             [
              0.7777777777777778,
              "#fb9f3a"
             ],
             [
              0.8888888888888888,
              "#fdca26"
             ],
             [
              1,
              "#f0f921"
             ]
            ],
            "type": "contour"
           }
          ],
          "contourcarpet": [
           {
            "colorbar": {
             "outlinewidth": 0,
             "ticks": ""
            },
            "type": "contourcarpet"
           }
          ],
          "heatmap": [
           {
            "colorbar": {
             "outlinewidth": 0,
             "ticks": ""
            },
            "colorscale": [
             [
              0,
              "#0d0887"
             ],
             [
              0.1111111111111111,
              "#46039f"
             ],
             [
              0.2222222222222222,
              "#7201a8"
             ],
             [
              0.3333333333333333,
              "#9c179e"
             ],
             [
              0.4444444444444444,
              "#bd3786"
             ],
             [
              0.5555555555555556,
              "#d8576b"
             ],
             [
              0.6666666666666666,
              "#ed7953"
             ],
             [
              0.7777777777777778,
              "#fb9f3a"
             ],
             [
              0.8888888888888888,
              "#fdca26"
             ],
             [
              1,
              "#f0f921"
             ]
            ],
            "type": "heatmap"
           }
          ],
          "histogram": [
           {
            "marker": {
             "pattern": {
              "fillmode": "overlay",
              "size": 10,
              "solidity": 0.2
             }
            },
            "type": "histogram"
           }
          ],
          "histogram2d": [
           {
            "colorbar": {
             "outlinewidth": 0,
             "ticks": ""
            },
            "colorscale": [
             [
              0,
              "#0d0887"
             ],
             [
              0.1111111111111111,
              "#46039f"
             ],
             [
              0.2222222222222222,
              "#7201a8"
             ],
             [
              0.3333333333333333,
              "#9c179e"
             ],
             [
              0.4444444444444444,
              "#bd3786"
             ],
             [
              0.5555555555555556,
              "#d8576b"
             ],
             [
              0.6666666666666666,
              "#ed7953"
             ],
             [
              0.7777777777777778,
              "#fb9f3a"
             ],
             [
              0.8888888888888888,
              "#fdca26"
             ],
             [
              1,
              "#f0f921"
             ]
            ],
            "type": "histogram2d"
           }
          ],
          "histogram2dcontour": [
           {
            "colorbar": {
             "outlinewidth": 0,
             "ticks": ""
            },
            "colorscale": [
             [
              0,
              "#0d0887"
             ],
             [
              0.1111111111111111,
              "#46039f"
             ],
             [
              0.2222222222222222,
              "#7201a8"
             ],
             [
              0.3333333333333333,
              "#9c179e"
             ],
             [
              0.4444444444444444,
              "#bd3786"
             ],
             [
              0.5555555555555556,
              "#d8576b"
             ],
             [
              0.6666666666666666,
              "#ed7953"
             ],
             [
              0.7777777777777778,
              "#fb9f3a"
             ],
             [
              0.8888888888888888,
              "#fdca26"
             ],
             [
              1,
              "#f0f921"
             ]
            ],
            "type": "histogram2dcontour"
           }
          ],
          "mesh3d": [
           {
            "colorbar": {
             "outlinewidth": 0,
             "ticks": ""
            },
            "type": "mesh3d"
           }
          ],
          "parcoords": [
           {
            "line": {
             "colorbar": {
              "outlinewidth": 0,
              "ticks": ""
             }
            },
            "type": "parcoords"
           }
          ],
          "pie": [
           {
            "automargin": true,
            "type": "pie"
           }
          ],
          "scatter": [
           {
            "fillpattern": {
             "fillmode": "overlay",
             "size": 10,
             "solidity": 0.2
            },
            "type": "scatter"
           }
          ],
          "scatter3d": [
           {
            "line": {
             "colorbar": {
              "outlinewidth": 0,
              "ticks": ""
             }
            },
            "marker": {
             "colorbar": {
              "outlinewidth": 0,
              "ticks": ""
             }
            },
            "type": "scatter3d"
           }
          ],
          "scattercarpet": [
           {
            "marker": {
             "colorbar": {
              "outlinewidth": 0,
              "ticks": ""
             }
            },
            "type": "scattercarpet"
           }
          ],
          "scattergeo": [
           {
            "marker": {
             "colorbar": {
              "outlinewidth": 0,
              "ticks": ""
             }
            },
            "type": "scattergeo"
           }
          ],
          "scattergl": [
           {
            "marker": {
             "colorbar": {
              "outlinewidth": 0,
              "ticks": ""
             }
            },
            "type": "scattergl"
           }
          ],
          "scattermap": [
           {
            "marker": {
             "colorbar": {
              "outlinewidth": 0,
              "ticks": ""
             }
            },
            "type": "scattermap"
           }
          ],
          "scattermapbox": [
           {
            "marker": {
             "colorbar": {
              "outlinewidth": 0,
              "ticks": ""
             }
            },
            "type": "scattermapbox"
           }
          ],
          "scatterpolar": [
           {
            "marker": {
             "colorbar": {
              "outlinewidth": 0,
              "ticks": ""
             }
            },
            "type": "scatterpolar"
           }
          ],
          "scatterpolargl": [
           {
            "marker": {
             "colorbar": {
              "outlinewidth": 0,
              "ticks": ""
             }
            },
            "type": "scatterpolargl"
           }
          ],
          "scatterternary": [
           {
            "marker": {
             "colorbar": {
              "outlinewidth": 0,
              "ticks": ""
             }
            },
            "type": "scatterternary"
           }
          ],
          "surface": [
           {
            "colorbar": {
             "outlinewidth": 0,
             "ticks": ""
            },
            "colorscale": [
             [
              0,
              "#0d0887"
             ],
             [
              0.1111111111111111,
              "#46039f"
             ],
             [
              0.2222222222222222,
              "#7201a8"
             ],
             [
              0.3333333333333333,
              "#9c179e"
             ],
             [
              0.4444444444444444,
              "#bd3786"
             ],
             [
              0.5555555555555556,
              "#d8576b"
             ],
             [
              0.6666666666666666,
              "#ed7953"
             ],
             [
              0.7777777777777778,
              "#fb9f3a"
             ],
             [
              0.8888888888888888,
              "#fdca26"
             ],
             [
              1,
              "#f0f921"
             ]
            ],
            "type": "surface"
           }
          ],
          "table": [
           {
            "cells": {
             "fill": {
              "color": "#EBF0F8"
             },
             "line": {
              "color": "white"
             }
            },
            "header": {
             "fill": {
              "color": "#C8D4E3"
             },
             "line": {
              "color": "white"
             }
            },
            "type": "table"
           }
          ]
         },
         "layout": {
          "annotationdefaults": {
           "arrowcolor": "#2a3f5f",
           "arrowhead": 0,
           "arrowwidth": 1
          },
          "autotypenumbers": "strict",
          "coloraxis": {
           "colorbar": {
            "outlinewidth": 0,
            "ticks": ""
           }
          },
          "colorscale": {
           "diverging": [
            [
             0,
             "#8e0152"
            ],
            [
             0.1,
             "#c51b7d"
            ],
            [
             0.2,
             "#de77ae"
            ],
            [
             0.3,
             "#f1b6da"
            ],
            [
             0.4,
             "#fde0ef"
            ],
            [
             0.5,
             "#f7f7f7"
            ],
            [
             0.6,
             "#e6f5d0"
            ],
            [
             0.7,
             "#b8e186"
            ],
            [
             0.8,
             "#7fbc41"
            ],
            [
             0.9,
             "#4d9221"
            ],
            [
             1,
             "#276419"
            ]
           ],
           "sequential": [
            [
             0,
             "#0d0887"
            ],
            [
             0.1111111111111111,
             "#46039f"
            ],
            [
             0.2222222222222222,
             "#7201a8"
            ],
            [
             0.3333333333333333,
             "#9c179e"
            ],
            [
             0.4444444444444444,
             "#bd3786"
            ],
            [
             0.5555555555555556,
             "#d8576b"
            ],
            [
             0.6666666666666666,
             "#ed7953"
            ],
            [
             0.7777777777777778,
             "#fb9f3a"
            ],
            [
             0.8888888888888888,
             "#fdca26"
            ],
            [
             1,
             "#f0f921"
            ]
           ],
           "sequentialminus": [
            [
             0,
             "#0d0887"
            ],
            [
             0.1111111111111111,
             "#46039f"
            ],
            [
             0.2222222222222222,
             "#7201a8"
            ],
            [
             0.3333333333333333,
             "#9c179e"
            ],
            [
             0.4444444444444444,
             "#bd3786"
            ],
            [
             0.5555555555555556,
             "#d8576b"
            ],
            [
             0.6666666666666666,
             "#ed7953"
            ],
            [
             0.7777777777777778,
             "#fb9f3a"
            ],
            [
             0.8888888888888888,
             "#fdca26"
            ],
            [
             1,
             "#f0f921"
            ]
           ]
          },
          "colorway": [
           "#636efa",
           "#EF553B",
           "#00cc96",
           "#ab63fa",
           "#FFA15A",
           "#19d3f3",
           "#FF6692",
           "#B6E880",
           "#FF97FF",
           "#FECB52"
          ],
          "font": {
           "color": "#2a3f5f"
          },
          "geo": {
           "bgcolor": "white",
           "lakecolor": "white",
           "landcolor": "white",
           "showlakes": true,
           "showland": true,
           "subunitcolor": "#C8D4E3"
          },
          "hoverlabel": {
           "align": "left"
          },
          "hovermode": "closest",
          "mapbox": {
           "style": "light"
          },
          "paper_bgcolor": "white",
          "plot_bgcolor": "white",
          "polar": {
           "angularaxis": {
            "gridcolor": "#EBF0F8",
            "linecolor": "#EBF0F8",
            "ticks": ""
           },
           "bgcolor": "white",
           "radialaxis": {
            "gridcolor": "#EBF0F8",
            "linecolor": "#EBF0F8",
            "ticks": ""
           }
          },
          "scene": {
           "xaxis": {
            "backgroundcolor": "white",
            "gridcolor": "#DFE8F3",
            "gridwidth": 2,
            "linecolor": "#EBF0F8",
            "showbackground": true,
            "ticks": "",
            "zerolinecolor": "#EBF0F8"
           },
           "yaxis": {
            "backgroundcolor": "white",
            "gridcolor": "#DFE8F3",
            "gridwidth": 2,
            "linecolor": "#EBF0F8",
            "showbackground": true,
            "ticks": "",
            "zerolinecolor": "#EBF0F8"
           },
           "zaxis": {
            "backgroundcolor": "white",
            "gridcolor": "#DFE8F3",
            "gridwidth": 2,
            "linecolor": "#EBF0F8",
            "showbackground": true,
            "ticks": "",
            "zerolinecolor": "#EBF0F8"
           }
          },
          "shapedefaults": {
           "line": {
            "color": "#2a3f5f"
           }
          },
          "ternary": {
           "aaxis": {
            "gridcolor": "#DFE8F3",
            "linecolor": "#A2B1C6",
            "ticks": ""
           },
           "baxis": {
            "gridcolor": "#DFE8F3",
            "linecolor": "#A2B1C6",
            "ticks": ""
           },
           "bgcolor": "white",
           "caxis": {
            "gridcolor": "#DFE8F3",
            "linecolor": "#A2B1C6",
            "ticks": ""
           }
          },
          "title": {
           "x": 0.05
          },
          "xaxis": {
           "automargin": true,
           "gridcolor": "#EBF0F8",
           "linecolor": "#EBF0F8",
           "ticks": "",
           "title": {
            "standoff": 15
           },
           "zerolinecolor": "#EBF0F8",
           "zerolinewidth": 2
          },
          "yaxis": {
           "automargin": true,
           "gridcolor": "#EBF0F8",
           "linecolor": "#EBF0F8",
           "ticks": "",
           "title": {
            "standoff": 15
           },
           "zerolinecolor": "#EBF0F8",
           "zerolinewidth": 2
          }
         }
        },
        "title": {
         "font": {
          "size": 22
         },
         "text": "<b>Electricity Generation Share by Source (2022–2024)</b>",
         "x": 0.5
        },
        "xaxis": {
         "anchor": "y",
         "domain": [
          0,
          0.45
         ],
         "tickmode": "array",
         "ticktext": [
          "2022",
          "2023",
          "2024"
         ],
         "tickvals": [
          "2022",
          "2023",
          "2024"
         ]
        },
        "xaxis2": {
         "anchor": "y2",
         "domain": [
          0.55,
          1
         ],
         "tickmode": "array",
         "ticktext": [
          "2022",
          "2023",
          "2024"
         ],
         "tickvals": [
          "2022",
          "2023",
          "2024"
         ]
        },
        "xaxis3": {
         "anchor": "y3",
         "domain": [
          0,
          0.45
         ],
         "tickmode": "array",
         "ticktext": [
          "2022",
          "2023",
          "2024"
         ],
         "tickvals": [
          "2022",
          "2023",
          "2024"
         ],
         "title": {
          "standoff": 10,
          "text": "Year"
         }
        },
        "xaxis4": {
         "anchor": "y4",
         "domain": [
          0.55,
          1
         ],
         "tickmode": "array",
         "ticktext": [
          "2022",
          "2023",
          "2024"
         ],
         "tickvals": [
          "2022",
          "2023",
          "2024"
         ],
         "title": {
          "standoff": 10,
          "text": "Year"
         }
        },
        "yaxis": {
         "anchor": "x",
         "domain": [
          0.5625,
          1
         ],
         "title": {
          "text": "Generation Share (%)"
         }
        },
        "yaxis2": {
         "anchor": "x2",
         "domain": [
          0.5625,
          1
         ]
        },
        "yaxis3": {
         "anchor": "x3",
         "domain": [
          0,
          0.4375
         ],
         "title": {
          "text": "Generation Share (%)"
         }
        },
        "yaxis4": {
         "anchor": "x4",
         "domain": [
          0,
          0.4375
         ]
        }
       }
      }
     },
     "metadata": {},
     "output_type": "display_data"
    }
   ],
   "source": [
    "from plotly.subplots import make_subplots\n",
    "from plotly.express import colors\n",
    "import plotly.graph_objects as go\n",
    "\n",
    "df_ger = df[(df[\"entity\"] == \"Germany\") & (df[\"series\"] != \"Total generation\")]\n",
    "df_den = df[(df[\"entity\"] == \"Denmark\") & (df[\"series\"] != \"Total generation\")]\n",
    "df_fra = df[(df[\"entity\"] == \"France\") & (df[\"series\"] != \"Total generation\")]\n",
    "df_wrld = df[(df[\"entity\"] == \"World\") & (df[\"series\"] != \"Total generation\")]\n",
    "\n",
    "df_ger_totals = df[(df[\"entity\"] == \"Germany\") & (df[\"series\"] == \"Total generation\")]\n",
    "df_den_totals = df[(df[\"entity\"] == \"Denmark\") & (df[\"series\"] == \"Total generation\")]\n",
    "df_fra_totals = df[(df[\"entity\"] == \"France\") & (df[\"series\"] == \"Total generation\")]\n",
    "df_wrld_totals = df[(df[\"entity\"] == \"World\") & (df[\"series\"] == \"Total generation\")]\n",
    "\n",
    "fig = make_subplots(\n",
    "    rows=2, cols=2,\n",
    "    subplot_titles=(f\"<b>Germany</b>\", f\"<b>Denmark</b>\", f\"<b>France</b>\", f\"<b>World</b>\"),\n",
    "    shared_xaxes=False,\n",
    "    shared_yaxes=False,\n",
    "    vertical_spacing=0.125\n",
    ")\n",
    "\n",
    "datasets = [\n",
    "    (df_ger, df_ger_totals, \"Germany\", 1, 1),\n",
    "    (df_den, df_den_totals, \"Denmark\", 1, 2),\n",
    "    (df_fra, df_fra_totals, \"France\", 2, 1),\n",
    "    (df_wrld, df_wrld_totals, \"World\", 2, 2),\n",
    "]\n",
    "\n",
    "color_map = {\n",
    "    \"Coal\": colors.qualitative.Plotly[0],\n",
    "    \"Gas\": colors.qualitative.Plotly[1],\n",
    "    \"Hydro\": colors.qualitative.Plotly[2],\n",
    "    \"Nuclear\": colors.qualitative.Plotly[3],\n",
    "    \"Solar\": colors.qualitative.Plotly[4],\n",
    "    \"Wind\": colors.qualitative.Plotly[5],\n",
    "    \"Bioenergy\": colors.qualitative.Plotly[6],\n",
    "    \"Other fossil\": colors.qualitative.Plotly[7],\n",
    "    \"Other renewables\": colors.qualitative.Plotly[8],\n",
    "}\n",
    "\n",
    "for df_country, df_totals, country_name, row, col in datasets:\n",
    "    for source in df_country[\"series\"].unique():\n",
    "        subset = df_country[df_country[\"series\"] == source]\n",
    "        fig.add_trace(\n",
    "            go.Bar(\n",
    "                x=subset[\"date\"],\n",
    "                y=subset[\"generation_share_pct\"],\n",
    "                name=source,\n",
    "                text=subset[\"generation_share_pct\"].round(1).astype(str) + \"%\",\n",
    "                textposition=\"inside\",\n",
    "                insidetextanchor=\"middle\",\n",
    "                legendgroup=source,\n",
    "                showlegend=(row == 1 and col == 1), \n",
    "                marker=dict(color=color_map.get(source, \"#CCCCCC\"))\n",
    "            ),\n",
    "            row=row, col=col\n",
    "        )\n",
    "\n",
    "    for _, row_total in df_totals.iterrows():\n",
    "        year = row_total[\"date\"]\n",
    "        total = row_total[\"generation_twh\"]\n",
    "\n",
    "        total_height = df_country[df_country[\"date\"] == year][\"generation_share_pct\"].sum()\n",
    "\n",
    "        fig.add_annotation(\n",
    "            x=year,\n",
    "            y=total_height + 3,  \n",
    "            text=f\"{total:.1f} TWh\",\n",
    "            showarrow=False,\n",
    "            font=dict(size=13, color=\"black\"),\n",
    "            align=\"center\",\n",
    "            row=row, col=col\n",
    "        )\n",
    "\n",
    "fig.update_layout(\n",
    "    height=1300,\n",
    "    autosize=True,\n",
    "    title=dict(\n",
    "        text=\"<b>Electricity Generation Share by Source (2022–2024)</b>\",\n",
    "        font=dict(size=22),\n",
    "        x=0.5\n",
    "    ),\n",
    "    barmode=\"stack\",\n",
    "    template=\"plotly_white\",\n",
    "    legend_title=\"Source\",\n",
    ")\n",
    "\n",
    "for r in range(1, 3):\n",
    "    for c in range(1, 3):\n",
    "        fig.update_xaxes(\n",
    "            tickmode=\"array\",\n",
    "            tickvals=[\"2022\", \"2023\", \"2024\"],\n",
    "            ticktext=[\"2022\", \"2023\", \"2024\"],\n",
    "            row=r, col=c\n",
    "        )\n",
    "\n",
    "fig.update_xaxes(title_text=\"Year\", row=2, col=1, title_standoff=10)\n",
    "fig.update_xaxes(title_text=\"Year\", row=2, col=2, title_standoff=10)\n",
    "fig.update_yaxes(title_text=\"Generation Share (%)\", row=1, col=1)\n",
    "fig.update_yaxes(title_text=\"Generation Share (%)\", row=2, col=1)\n",
    "\n",
    "fig.show()\n",
    "#fig.write_html(\"all_entities_electricity_gen_share.html\", include_plotlyjs=\"cdn\", full_html=True)\n",
    "fig.write_image(\"all_entities_electricity_gen_share.png\", format=\"png\", height=1300, width=2000)"
   ]
  },
  {
   "cell_type": "markdown",
   "id": "6e458d14",
   "metadata": {},
   "source": [
    "# Plot 7 Per Capita"
   ]
  },
  {
   "cell_type": "code",
   "execution_count": 20,
   "id": "b383f3a3",
   "metadata": {},
   "outputs": [],
   "source": [
    "import pandas as pd \n",
    "\n",
    "df_1 = pd.read_csv(\"ember_yearly_electricity-generation_per_capita.csv\")"
   ]
  },
  {
   "cell_type": "code",
   "execution_count": 21,
   "id": "0987e1fc",
   "metadata": {},
   "outputs": [
    {
     "data": {
      "application/vnd.microsoft.datawrangler.viewer.v0+json": {
       "columns": [
        {
         "name": "index",
         "rawType": "int64",
         "type": "integer"
        },
        {
         "name": "entity",
         "rawType": "object",
         "type": "string"
        },
        {
         "name": "entity_code",
         "rawType": "object",
         "type": "unknown"
        },
        {
         "name": "is_aggregate_entity",
         "rawType": "bool",
         "type": "boolean"
        },
        {
         "name": "date",
         "rawType": "int64",
         "type": "integer"
        },
        {
         "name": "series",
         "rawType": "object",
         "type": "string"
        },
        {
         "name": "is_aggregate_series",
         "rawType": "bool",
         "type": "boolean"
        },
        {
         "name": "generation_twh",
         "rawType": "float64",
         "type": "float"
        },
        {
         "name": "generation_share_pct",
         "rawType": "float64",
         "type": "float"
        },
        {
         "name": "generation_kwh_per_capita",
         "rawType": "float64",
         "type": "float"
        },
        {
         "name": "generation_yoy_change_twh",
         "rawType": "float64",
         "type": "float"
        },
        {
         "name": "generation_yoy_change_pct",
         "rawType": "float64",
         "type": "float"
        },
        {
         "name": "generation_share_yoy_change_pct_points",
         "rawType": "float64",
         "type": "float"
        },
        {
         "name": "generation_yoy_change_kwh_per_capita",
         "rawType": "float64",
         "type": "float"
        }
       ],
       "ref": "2324d488-d127-49b2-adfa-0136829e8035",
       "rows": [
        [
         "0",
         "Germany",
         "DEU",
         "False",
         "2022",
         "Bioenergy",
         "False",
         "48.6",
         "8.57",
         "577.98",
         "-0.5",
         "-1.02",
         "0.09",
         "-5.95"
        ],
        [
         "1",
         "Germany",
         "DEU",
         "False",
         "2022",
         "Coal",
         "False",
         "179.93",
         "31.74",
         "2139.83",
         "15.28",
         "9.28",
         "3.29",
         "181.72"
        ],
        [
         "2",
         "Germany",
         "DEU",
         "False",
         "2022",
         "Gas",
         "False",
         "79.05",
         "13.94",
         "940.11",
         "-11.26",
         "-12.47",
         "-1.66",
         "-133.91"
        ],
        [
         "3",
         "Germany",
         "DEU",
         "False",
         "2022",
         "Hydro",
         "False",
         "17.62",
         "3.11",
         "209.55",
         "-2.04",
         "-10.38",
         "-0.29",
         "-24.26"
        ],
        [
         "4",
         "Germany",
         "DEU",
         "False",
         "2022",
         "Nuclear",
         "False",
         "34.71",
         "6.12",
         "412.79",
         "-34.42",
         "-49.79",
         "-5.82",
         "-409.34"
        ],
        [
         "5",
         "Germany",
         "DEU",
         "False",
         "2022",
         "Other fossil",
         "False",
         "21.65",
         "3.82",
         "257.47",
         "-0.59",
         "-2.65",
         "-0.02",
         "-7.02"
        ],
        [
         "6",
         "Germany",
         "DEU",
         "False",
         "2022",
         "Other renewables",
         "False",
         "0.21",
         "0.04",
         "2.5",
         "-0.03",
         "-12.5",
         "0.0",
         "-0.36"
        ],
        [
         "7",
         "Germany",
         "DEU",
         "False",
         "2022",
         "Solar",
         "False",
         "60.3",
         "10.64",
         "717.12",
         "10.96",
         "22.21",
         "2.12",
         "130.34"
        ],
        [
         "8",
         "Germany",
         "DEU",
         "False",
         "2022",
         "Total generation",
         "True",
         "566.88",
         "100.0",
         "6741.65",
         "-11.95",
         "-2.06",
         "0.0",
         "-142.12"
        ],
        [
         "9",
         "Germany",
         "DEU",
         "False",
         "2022",
         "Wind",
         "False",
         "124.81",
         "22.02",
         "1484.31",
         "10.65",
         "9.33",
         "2.3",
         "126.66"
        ],
        [
         "10",
         "Germany",
         "DEU",
         "False",
         "2023",
         "Bioenergy",
         "False",
         "45.91",
         "9.21",
         "543.0",
         "-2.69",
         "-5.53",
         "0.64",
         "-31.82"
        ],
        [
         "11",
         "Germany",
         "DEU",
         "False",
         "2023",
         "Coal",
         "False",
         "124.97",
         "25.08",
         "1478.09",
         "-54.96",
         "-30.55",
         "-6.66",
         "-650.04"
        ],
        [
         "12",
         "Germany",
         "DEU",
         "False",
         "2023",
         "Gas",
         "False",
         "76.66",
         "15.38",
         "906.7",
         "-2.39",
         "-3.02",
         "1.44",
         "-28.27"
        ],
        [
         "13",
         "Germany",
         "DEU",
         "False",
         "2023",
         "Hydro",
         "False",
         "19.89",
         "3.99",
         "235.25",
         "2.27",
         "12.88",
         "0.88",
         "26.85"
        ],
        [
         "14",
         "Germany",
         "DEU",
         "False",
         "2023",
         "Nuclear",
         "False",
         "7.22",
         "1.45",
         "85.4",
         "-27.49",
         "-79.2",
         "-4.67",
         "-325.14"
        ],
        [
         "15",
         "Germany",
         "DEU",
         "False",
         "2023",
         "Other fossil",
         "False",
         "22.09",
         "4.43",
         "261.27",
         "0.44",
         "2.03",
         "0.61",
         "5.2"
        ],
        [
         "16",
         "Germany",
         "DEU",
         "False",
         "2023",
         "Other renewables",
         "False",
         "0.19",
         "0.04",
         "2.25",
         "-0.02",
         "-9.52",
         "0.0",
         "-0.24"
        ],
        [
         "17",
         "Germany",
         "DEU",
         "False",
         "2023",
         "Solar",
         "False",
         "63.87",
         "12.82",
         "755.43",
         "3.57",
         "5.92",
         "2.18",
         "42.22"
        ],
        [
         "18",
         "Germany",
         "DEU",
         "False",
         "2023",
         "Total generation",
         "True",
         "498.31",
         "100.0",
         "5893.8",
         "-68.57",
         "-12.1",
         "0.0",
         "-811.02"
        ],
        [
         "19",
         "Germany",
         "DEU",
         "False",
         "2023",
         "Wind",
         "False",
         "137.51",
         "27.6",
         "1626.41",
         "12.7",
         "10.18",
         "5.58",
         "150.21"
        ],
        [
         "20",
         "Germany",
         "DEU",
         "False",
         "2024",
         "Bioenergy",
         "False",
         "45.96",
         "9.58",
         "543.57",
         "0.05",
         "0.11",
         "0.37",
         "0.59"
        ],
        [
         "21",
         "Germany",
         "DEU",
         "False",
         "2024",
         "Coal",
         "False",
         "104.47",
         "21.78",
         "1235.57",
         "-20.5",
         "-16.4",
         "-3.3",
         "-242.45"
        ],
        [
         "22",
         "Germany",
         "DEU",
         "False",
         "2024",
         "Gas",
         "False",
         "78.41",
         "16.35",
         "927.36",
         "1.75",
         "2.28",
         "0.97",
         "20.7"
        ],
        [
         "23",
         "Germany",
         "DEU",
         "False",
         "2024",
         "Hydro",
         "False",
         "23.45",
         "4.89",
         "277.34",
         "3.56",
         "17.9",
         "0.9",
         "42.1"
        ],
        [
         "24",
         "Germany",
         "DEU",
         "False",
         "2024",
         "Nuclear",
         "False",
         "0.0",
         "0.0",
         "0.0",
         "-7.22",
         "-100.0",
         "-1.45",
         "-85.39"
        ],
        [
         "25",
         "Germany",
         "DEU",
         "False",
         "2024",
         "Other fossil",
         "False",
         "19.44",
         "4.05",
         "229.92",
         "-2.65",
         "-12.0",
         "-0.38",
         "-31.34"
        ],
        [
         "26",
         "Germany",
         "DEU",
         "False",
         "2024",
         "Other renewables",
         "False",
         "0.19",
         "0.04",
         "2.25",
         "0.0",
         "0.0",
         "0.0",
         "0.0"
        ],
        [
         "27",
         "Germany",
         "DEU",
         "False",
         "2024",
         "Solar",
         "False",
         "74.13",
         "15.46",
         "876.74",
         "10.26",
         "16.06",
         "2.64",
         "121.35"
        ],
        [
         "28",
         "Germany",
         "DEU",
         "False",
         "2024",
         "Total generation",
         "True",
         "479.65",
         "100.0",
         "5672.82",
         "-18.66",
         "-3.74",
         "0.0",
         "-220.69"
        ],
        [
         "29",
         "Germany",
         "DEU",
         "False",
         "2024",
         "Wind",
         "False",
         "133.6",
         "27.85",
         "1580.09",
         "-3.91",
         "-2.84",
         "0.25",
         "-46.24"
        ],
        [
         "30",
         "Denmark",
         "DNK",
         "False",
         "2022",
         "Bioenergy",
         "False",
         "7.27",
         "20.78",
         "1231.6",
         "-1.45",
         "-16.63",
         "-5.71",
         "-245.64"
        ],
        [
         "31",
         "Denmark",
         "DNK",
         "False",
         "2022",
         "Coal",
         "False",
         "4.43",
         "12.66",
         "750.48",
         "0.06",
         "1.37",
         "-0.61",
         "10.16"
        ],
        [
         "32",
         "Denmark",
         "DNK",
         "False",
         "2022",
         "Gas",
         "False",
         "1.02",
         "2.92",
         "172.8",
         "-0.52",
         "-33.77",
         "-1.76",
         "-88.09"
        ],
        [
         "33",
         "Denmark",
         "DNK",
         "False",
         "2022",
         "Hydro",
         "False",
         "0.01",
         "0.03",
         "1.69",
         "-0.01",
         "-50.0",
         "-0.03",
         "-1.69"
        ],
        [
         "34",
         "Denmark",
         "DNK",
         "False",
         "2022",
         "Nuclear",
         "False",
         "0.0",
         "0.0",
         "0.0",
         "0.0",
         null,
         "0.0",
         "0.0"
        ],
        [
         "35",
         "Denmark",
         "DNK",
         "False",
         "2022",
         "Other fossil",
         "False",
         "1.03",
         "2.94",
         "174.49",
         "0.12",
         "13.19",
         "0.18",
         "20.33"
        ],
        [
         "36",
         "Denmark",
         "DNK",
         "False",
         "2022",
         "Other renewables",
         "False",
         "0.0",
         "0.0",
         "0.0",
         "0.0",
         null,
         "0.0",
         "0.0"
        ],
        [
         "37",
         "Denmark",
         "DNK",
         "False",
         "2022",
         "Solar",
         "False",
         "2.2",
         "6.29",
         "372.7",
         "0.89",
         "67.94",
         "2.31",
         "150.77"
        ],
        [
         "38",
         "Denmark",
         "DNK",
         "False",
         "2022",
         "Total generation",
         "True",
         "34.99",
         "100.0",
         "5927.59",
         "2.07",
         "6.29",
         "0.0",
         "350.67"
        ],
        [
         "39",
         "Denmark",
         "DNK",
         "False",
         "2022",
         "Wind",
         "False",
         "19.03",
         "54.39",
         "3223.84",
         "2.98",
         "18.57",
         "5.64",
         "504.84"
        ],
        [
         "40",
         "Denmark",
         "DNK",
         "False",
         "2023",
         "Bioenergy",
         "False",
         "6.44",
         "19.1",
         "1082.69",
         "-0.83",
         "-11.42",
         "-1.68",
         "-139.54"
        ],
        [
         "41",
         "Denmark",
         "DNK",
         "False",
         "2023",
         "Coal",
         "False",
         "2.53",
         "7.51",
         "425.34",
         "-1.9",
         "-42.89",
         "-5.15",
         "-319.43"
        ],
        [
         "42",
         "Denmark",
         "DNK",
         "False",
         "2023",
         "Gas",
         "False",
         "1.0",
         "2.97",
         "168.12",
         "-0.02",
         "-1.96",
         "0.05",
         "-3.36"
        ],
        [
         "43",
         "Denmark",
         "DNK",
         "False",
         "2023",
         "Hydro",
         "False",
         "0.02",
         "0.06",
         "3.36",
         "0.01",
         "100.0",
         "0.03",
         "1.68"
        ],
        [
         "44",
         "Denmark",
         "DNK",
         "False",
         "2023",
         "Nuclear",
         "False",
         "0.0",
         "0.0",
         "0.0",
         "0.0",
         null,
         "0.0",
         "0.0"
        ],
        [
         "45",
         "Denmark",
         "DNK",
         "False",
         "2023",
         "Other fossil",
         "False",
         "0.85",
         "2.52",
         "142.9",
         "-0.18",
         "-17.48",
         "-0.42",
         "-30.26"
        ],
        [
         "46",
         "Denmark",
         "DNK",
         "False",
         "2023",
         "Other renewables",
         "False",
         "0.0",
         "0.0",
         "0.0",
         "0.0",
         null,
         "0.0",
         "0.0"
        ],
        [
         "47",
         "Denmark",
         "DNK",
         "False",
         "2023",
         "Solar",
         "False",
         "3.36",
         "9.97",
         "564.88",
         "1.16",
         "52.73",
         "3.68",
         "195.02"
        ],
        [
         "48",
         "Denmark",
         "DNK",
         "False",
         "2023",
         "Total generation",
         "True",
         "33.71",
         "100.0",
         "5667.32",
         "-1.28",
         "-3.66",
         "0.0",
         "-215.19"
        ],
        [
         "49",
         "Denmark",
         "DNK",
         "False",
         "2023",
         "Wind",
         "False",
         "19.51",
         "57.88",
         "3280.02",
         "0.48",
         "2.52",
         "3.49",
         "80.7"
        ]
       ],
       "shape": {
        "columns": 13,
        "rows": 120
       }
      },
      "text/html": [
       "<div>\n",
       "<style scoped>\n",
       "    .dataframe tbody tr th:only-of-type {\n",
       "        vertical-align: middle;\n",
       "    }\n",
       "\n",
       "    .dataframe tbody tr th {\n",
       "        vertical-align: top;\n",
       "    }\n",
       "\n",
       "    .dataframe thead th {\n",
       "        text-align: right;\n",
       "    }\n",
       "</style>\n",
       "<table border=\"1\" class=\"dataframe\">\n",
       "  <thead>\n",
       "    <tr style=\"text-align: right;\">\n",
       "      <th></th>\n",
       "      <th>entity</th>\n",
       "      <th>entity_code</th>\n",
       "      <th>is_aggregate_entity</th>\n",
       "      <th>date</th>\n",
       "      <th>series</th>\n",
       "      <th>is_aggregate_series</th>\n",
       "      <th>generation_twh</th>\n",
       "      <th>generation_share_pct</th>\n",
       "      <th>generation_kwh_per_capita</th>\n",
       "      <th>generation_yoy_change_twh</th>\n",
       "      <th>generation_yoy_change_pct</th>\n",
       "      <th>generation_share_yoy_change_pct_points</th>\n",
       "      <th>generation_yoy_change_kwh_per_capita</th>\n",
       "    </tr>\n",
       "  </thead>\n",
       "  <tbody>\n",
       "    <tr>\n",
       "      <th>0</th>\n",
       "      <td>Germany</td>\n",
       "      <td>DEU</td>\n",
       "      <td>False</td>\n",
       "      <td>2022</td>\n",
       "      <td>Bioenergy</td>\n",
       "      <td>False</td>\n",
       "      <td>48.60</td>\n",
       "      <td>8.57</td>\n",
       "      <td>577.98</td>\n",
       "      <td>-0.50</td>\n",
       "      <td>-1.02</td>\n",
       "      <td>0.09</td>\n",
       "      <td>-5.95</td>\n",
       "    </tr>\n",
       "    <tr>\n",
       "      <th>1</th>\n",
       "      <td>Germany</td>\n",
       "      <td>DEU</td>\n",
       "      <td>False</td>\n",
       "      <td>2022</td>\n",
       "      <td>Coal</td>\n",
       "      <td>False</td>\n",
       "      <td>179.93</td>\n",
       "      <td>31.74</td>\n",
       "      <td>2139.83</td>\n",
       "      <td>15.28</td>\n",
       "      <td>9.28</td>\n",
       "      <td>3.29</td>\n",
       "      <td>181.72</td>\n",
       "    </tr>\n",
       "    <tr>\n",
       "      <th>2</th>\n",
       "      <td>Germany</td>\n",
       "      <td>DEU</td>\n",
       "      <td>False</td>\n",
       "      <td>2022</td>\n",
       "      <td>Gas</td>\n",
       "      <td>False</td>\n",
       "      <td>79.05</td>\n",
       "      <td>13.94</td>\n",
       "      <td>940.11</td>\n",
       "      <td>-11.26</td>\n",
       "      <td>-12.47</td>\n",
       "      <td>-1.66</td>\n",
       "      <td>-133.91</td>\n",
       "    </tr>\n",
       "    <tr>\n",
       "      <th>3</th>\n",
       "      <td>Germany</td>\n",
       "      <td>DEU</td>\n",
       "      <td>False</td>\n",
       "      <td>2022</td>\n",
       "      <td>Hydro</td>\n",
       "      <td>False</td>\n",
       "      <td>17.62</td>\n",
       "      <td>3.11</td>\n",
       "      <td>209.55</td>\n",
       "      <td>-2.04</td>\n",
       "      <td>-10.38</td>\n",
       "      <td>-0.29</td>\n",
       "      <td>-24.26</td>\n",
       "    </tr>\n",
       "    <tr>\n",
       "      <th>4</th>\n",
       "      <td>Germany</td>\n",
       "      <td>DEU</td>\n",
       "      <td>False</td>\n",
       "      <td>2022</td>\n",
       "      <td>Nuclear</td>\n",
       "      <td>False</td>\n",
       "      <td>34.71</td>\n",
       "      <td>6.12</td>\n",
       "      <td>412.79</td>\n",
       "      <td>-34.42</td>\n",
       "      <td>-49.79</td>\n",
       "      <td>-5.82</td>\n",
       "      <td>-409.34</td>\n",
       "    </tr>\n",
       "    <tr>\n",
       "      <th>...</th>\n",
       "      <td>...</td>\n",
       "      <td>...</td>\n",
       "      <td>...</td>\n",
       "      <td>...</td>\n",
       "      <td>...</td>\n",
       "      <td>...</td>\n",
       "      <td>...</td>\n",
       "      <td>...</td>\n",
       "      <td>...</td>\n",
       "      <td>...</td>\n",
       "      <td>...</td>\n",
       "      <td>...</td>\n",
       "      <td>...</td>\n",
       "    </tr>\n",
       "    <tr>\n",
       "      <th>115</th>\n",
       "      <td>World</td>\n",
       "      <td>NaN</td>\n",
       "      <td>True</td>\n",
       "      <td>2024</td>\n",
       "      <td>Other fossil</td>\n",
       "      <td>False</td>\n",
       "      <td>874.71</td>\n",
       "      <td>2.83</td>\n",
       "      <td>107.19</td>\n",
       "      <td>0.56</td>\n",
       "      <td>0.06</td>\n",
       "      <td>-0.12</td>\n",
       "      <td>0.07</td>\n",
       "    </tr>\n",
       "    <tr>\n",
       "      <th>116</th>\n",
       "      <td>World</td>\n",
       "      <td>NaN</td>\n",
       "      <td>True</td>\n",
       "      <td>2024</td>\n",
       "      <td>Other renewables</td>\n",
       "      <td>False</td>\n",
       "      <td>88.67</td>\n",
       "      <td>0.29</td>\n",
       "      <td>10.87</td>\n",
       "      <td>-0.25</td>\n",
       "      <td>-0.28</td>\n",
       "      <td>-0.01</td>\n",
       "      <td>-0.03</td>\n",
       "    </tr>\n",
       "    <tr>\n",
       "      <th>117</th>\n",
       "      <td>World</td>\n",
       "      <td>NaN</td>\n",
       "      <td>True</td>\n",
       "      <td>2024</td>\n",
       "      <td>Solar</td>\n",
       "      <td>False</td>\n",
       "      <td>2128.58</td>\n",
       "      <td>6.89</td>\n",
       "      <td>260.83</td>\n",
       "      <td>468.83</td>\n",
       "      <td>28.25</td>\n",
       "      <td>1.29</td>\n",
       "      <td>57.45</td>\n",
       "    </tr>\n",
       "    <tr>\n",
       "      <th>118</th>\n",
       "      <td>World</td>\n",
       "      <td>NaN</td>\n",
       "      <td>True</td>\n",
       "      <td>2024</td>\n",
       "      <td>Total generation</td>\n",
       "      <td>True</td>\n",
       "      <td>30913.94</td>\n",
       "      <td>100.00</td>\n",
       "      <td>3788.17</td>\n",
       "      <td>1250.91</td>\n",
       "      <td>4.22</td>\n",
       "      <td>0.00</td>\n",
       "      <td>153.29</td>\n",
       "    </tr>\n",
       "    <tr>\n",
       "      <th>119</th>\n",
       "      <td>World</td>\n",
       "      <td>NaN</td>\n",
       "      <td>True</td>\n",
       "      <td>2024</td>\n",
       "      <td>Wind</td>\n",
       "      <td>False</td>\n",
       "      <td>2502.85</td>\n",
       "      <td>8.10</td>\n",
       "      <td>306.70</td>\n",
       "      <td>188.91</td>\n",
       "      <td>8.16</td>\n",
       "      <td>0.30</td>\n",
       "      <td>23.15</td>\n",
       "    </tr>\n",
       "  </tbody>\n",
       "</table>\n",
       "<p>120 rows × 13 columns</p>\n",
       "</div>"
      ],
      "text/plain": [
       "      entity entity_code  is_aggregate_entity  date            series  \\\n",
       "0    Germany         DEU                False  2022         Bioenergy   \n",
       "1    Germany         DEU                False  2022              Coal   \n",
       "2    Germany         DEU                False  2022               Gas   \n",
       "3    Germany         DEU                False  2022             Hydro   \n",
       "4    Germany         DEU                False  2022           Nuclear   \n",
       "..       ...         ...                  ...   ...               ...   \n",
       "115    World         NaN                 True  2024      Other fossil   \n",
       "116    World         NaN                 True  2024  Other renewables   \n",
       "117    World         NaN                 True  2024             Solar   \n",
       "118    World         NaN                 True  2024  Total generation   \n",
       "119    World         NaN                 True  2024              Wind   \n",
       "\n",
       "     is_aggregate_series  generation_twh  generation_share_pct  \\\n",
       "0                  False           48.60                  8.57   \n",
       "1                  False          179.93                 31.74   \n",
       "2                  False           79.05                 13.94   \n",
       "3                  False           17.62                  3.11   \n",
       "4                  False           34.71                  6.12   \n",
       "..                   ...             ...                   ...   \n",
       "115                False          874.71                  2.83   \n",
       "116                False           88.67                  0.29   \n",
       "117                False         2128.58                  6.89   \n",
       "118                 True        30913.94                100.00   \n",
       "119                False         2502.85                  8.10   \n",
       "\n",
       "     generation_kwh_per_capita  generation_yoy_change_twh  \\\n",
       "0                       577.98                      -0.50   \n",
       "1                      2139.83                      15.28   \n",
       "2                       940.11                     -11.26   \n",
       "3                       209.55                      -2.04   \n",
       "4                       412.79                     -34.42   \n",
       "..                         ...                        ...   \n",
       "115                     107.19                       0.56   \n",
       "116                      10.87                      -0.25   \n",
       "117                     260.83                     468.83   \n",
       "118                    3788.17                    1250.91   \n",
       "119                     306.70                     188.91   \n",
       "\n",
       "     generation_yoy_change_pct  generation_share_yoy_change_pct_points  \\\n",
       "0                        -1.02                                    0.09   \n",
       "1                         9.28                                    3.29   \n",
       "2                       -12.47                                   -1.66   \n",
       "3                       -10.38                                   -0.29   \n",
       "4                       -49.79                                   -5.82   \n",
       "..                         ...                                     ...   \n",
       "115                       0.06                                   -0.12   \n",
       "116                      -0.28                                   -0.01   \n",
       "117                      28.25                                    1.29   \n",
       "118                       4.22                                    0.00   \n",
       "119                       8.16                                    0.30   \n",
       "\n",
       "     generation_yoy_change_kwh_per_capita  \n",
       "0                                   -5.95  \n",
       "1                                  181.72  \n",
       "2                                 -133.91  \n",
       "3                                  -24.26  \n",
       "4                                 -409.34  \n",
       "..                                    ...  \n",
       "115                                  0.07  \n",
       "116                                 -0.03  \n",
       "117                                 57.45  \n",
       "118                                153.29  \n",
       "119                                 23.15  \n",
       "\n",
       "[120 rows x 13 columns]"
      ]
     },
     "execution_count": 21,
     "metadata": {},
     "output_type": "execute_result"
    }
   ],
   "source": [
    "df_1"
   ]
  },
  {
   "cell_type": "code",
   "execution_count": 32,
   "id": "f7819056",
   "metadata": {},
   "outputs": [
    {
     "data": {
      "application/vnd.plotly.v1+json": {
       "config": {
        "plotlyServerURL": "https://plot.ly"
       },
       "data": [
        {
         "insidetextanchor": "middle",
         "legendgroup": "Bioenergy",
         "marker": {
          "color": "#FF6692"
         },
         "name": "Bioenergy",
         "showlegend": true,
         "text": [
          "8.6%",
          "9.2%",
          "9.6%"
         ],
         "textposition": "inside",
         "type": "bar",
         "x": {
          "bdata": "5gfnB+gH",
          "dtype": "i2"
         },
         "xaxis": "x",
         "y": {
          "bdata": "pHA9CtcPgkAAAAAAAPiAQMP1KFyP/IBA",
          "dtype": "f8"
         },
         "yaxis": "y"
        },
        {
         "insidetextanchor": "middle",
         "legendgroup": "Coal",
         "marker": {
          "color": "#636EFA"
         },
         "name": "Coal",
         "showlegend": true,
         "text": [
          "31.7%",
          "25.1%",
          "21.8%"
         ],
         "textposition": "inside",
         "type": "bar",
         "x": {
          "bdata": "5gfnB+gH",
          "dtype": "i2"
         },
         "xaxis": "x",
         "y": {
          "bdata": "XI/C9ai3oECPwvUoXBiXQOF6FK5HTpNA",
          "dtype": "f8"
         },
         "yaxis": "y"
        },
        {
         "insidetextanchor": "middle",
         "legendgroup": "Gas",
         "marker": {
          "color": "#EF553B"
         },
         "name": "Gas",
         "showlegend": true,
         "text": [
          "13.9%",
          "15.4%",
          "16.4%"
         ],
         "textposition": "inside",
         "type": "bar",
         "x": {
          "bdata": "5gfnB+gH",
          "dtype": "i2"
         },
         "xaxis": "x",
         "y": {
          "bdata": "exSuR+FgjUCamZmZmVWMQHsUrkfh+oxA",
          "dtype": "f8"
         },
         "yaxis": "y"
        },
        {
         "insidetextanchor": "middle",
         "legendgroup": "Hydro",
         "marker": {
          "color": "#00CC96"
         },
         "name": "Hydro",
         "showlegend": true,
         "text": [
          "3.1%",
          "4.0%",
          "4.9%"
         ],
         "textposition": "inside",
         "type": "bar",
         "x": {
          "bdata": "5gfnB+gH",
          "dtype": "i2"
         },
         "xaxis": "x",
         "y": {
          "bdata": "mpmZmZkxakAAAAAAAGhtQD0K16NwVXFA",
          "dtype": "f8"
         },
         "yaxis": "y"
        },
        {
         "insidetextanchor": "middle",
         "legendgroup": "Nuclear",
         "marker": {
          "color": "#AB63FA"
         },
         "name": "Nuclear",
         "showlegend": true,
         "text": [
          "6.1%",
          "1.4%",
          "0.0%"
         ],
         "textposition": "inside",
         "type": "bar",
         "x": {
          "bdata": "5gfnB+gH",
          "dtype": "i2"
         },
         "xaxis": "x",
         "y": {
          "bdata": "cT0K16PMeUCamZmZmVlVQAAAAAAAAAAA",
          "dtype": "f8"
         },
         "yaxis": "y"
        },
        {
         "insidetextanchor": "middle",
         "legendgroup": "Other fossil",
         "marker": {
          "color": "#B6E880"
         },
         "name": "Other fossil",
         "showlegend": true,
         "text": [
          "3.8%",
          "4.4%",
          "4.0%"
         ],
         "textposition": "inside",
         "type": "bar",
         "x": {
          "bdata": "5gfnB+gH",
          "dtype": "i2"
         },
         "xaxis": "x",
         "y": {
          "bdata": "7FG4HoUXcEC4HoXrUVRwQD0K16NwvWxA",
          "dtype": "f8"
         },
         "yaxis": "y"
        },
        {
         "insidetextanchor": "middle",
         "legendgroup": "Other renewables",
         "marker": {
          "color": "#FF97FF"
         },
         "name": "Other renewables",
         "showlegend": true,
         "text": [
          "0.0%",
          "0.0%",
          "0.0%"
         ],
         "textposition": "inside",
         "type": "bar",
         "x": {
          "bdata": "5gfnB+gH",
          "dtype": "i2"
         },
         "xaxis": "x",
         "y": {
          "bdata": "AAAAAAAABEAAAAAAAAACQAAAAAAAAAJA",
          "dtype": "f8"
         },
         "yaxis": "y"
        },
        {
         "insidetextanchor": "middle",
         "legendgroup": "Solar",
         "marker": {
          "color": "#FFA15A"
         },
         "name": "Solar",
         "showlegend": true,
         "text": [
          "10.6%",
          "12.8%",
          "15.5%"
         ],
         "textposition": "inside",
         "type": "bar",
         "x": {
          "bdata": "5gfnB+gH",
          "dtype": "i2"
         },
         "xaxis": "x",
         "y": {
          "bdata": "KVyPwvVohkA9CtejcJuHQFK4HoXrZYtA",
          "dtype": "f8"
         },
         "yaxis": "y"
        },
        {
         "insidetextanchor": "middle",
         "legendgroup": "Wind",
         "marker": {
          "color": "#19D3F3"
         },
         "name": "Wind",
         "showlegend": true,
         "text": [
          "22.0%",
          "27.6%",
          "27.8%"
         ],
         "textposition": "inside",
         "type": "bar",
         "x": {
          "bdata": "5gfnB+gH",
          "dtype": "i2"
         },
         "xaxis": "x",
         "y": {
          "bdata": "CtejcD0xl0BxPQrXo2mZQI/C9ShcsJhA",
          "dtype": "f8"
         },
         "yaxis": "y"
        },
        {
         "insidetextanchor": "middle",
         "legendgroup": "Bioenergy",
         "marker": {
          "color": "#FF6692"
         },
         "name": "Bioenergy",
         "showlegend": false,
         "text": [
          "20.8%",
          "19.1%",
          "18.8%"
         ],
         "textposition": "inside",
         "type": "bar",
         "x": {
          "bdata": "5gfnB+gH",
          "dtype": "i2"
         },
         "xaxis": "x2",
         "y": {
          "bdata": "ZmZmZmY+k0D2KFyPwuqQQBSuR+F6b5FA",
          "dtype": "f8"
         },
         "yaxis": "y2"
        },
        {
         "insidetextanchor": "middle",
         "legendgroup": "Coal",
         "marker": {
          "color": "#636EFA"
         },
         "name": "Coal",
         "showlegend": false,
         "text": [
          "12.7%",
          "7.5%",
          "7.0%"
         ],
         "textposition": "inside",
         "type": "bar",
         "x": {
          "bdata": "5gfnB+gH",
          "dtype": "i2"
         },
         "xaxis": "x2",
         "y": {
          "bdata": "pHA9Ctdzh0A9CtejcJV6QIXrUbgeCXpA",
          "dtype": "f8"
         },
         "yaxis": "y2"
        },
        {
         "insidetextanchor": "middle",
         "legendgroup": "Gas",
         "marker": {
          "color": "#EF553B"
         },
         "name": "Gas",
         "showlegend": false,
         "text": [
          "2.9%",
          "3.0%",
          "2.5%"
         ],
         "textposition": "inside",
         "type": "bar",
         "x": {
          "bdata": "5gfnB+gH",
          "dtype": "i2"
         },
         "xaxis": "x2",
         "y": {
          "bdata": "mpmZmZmZZUCkcD0K1wNlQArXo3A90mJA",
          "dtype": "f8"
         },
         "yaxis": "y2"
        },
        {
         "insidetextanchor": "middle",
         "legendgroup": "Hydro",
         "marker": {
          "color": "#00CC96"
         },
         "name": "Hydro",
         "showlegend": false,
         "text": [
          "0.0%",
          "0.1%",
          "0.1%"
         ],
         "textposition": "inside",
         "type": "bar",
         "x": {
          "bdata": "5gfnB+gH",
          "dtype": "i2"
         },
         "xaxis": "x2",
         "y": {
          "bdata": "CtejcD0K+z/hehSuR+EKQM3MzMzMzApA",
          "dtype": "f8"
         },
         "yaxis": "y2"
        },
        {
         "insidetextanchor": "middle",
         "legendgroup": "Nuclear",
         "marker": {
          "color": "#AB63FA"
         },
         "name": "Nuclear",
         "showlegend": false,
         "text": [
          "0.0%",
          "0.0%",
          "0.0%"
         ],
         "textposition": "inside",
         "type": "bar",
         "x": {
          "bdata": "5gfnB+gH",
          "dtype": "i2"
         },
         "xaxis": "x2",
         "y": {
          "bdata": "AAAAAAAAAAAAAAAAAAAAAAAAAAAAAAAA",
          "dtype": "f8"
         },
         "yaxis": "y2"
        },
        {
         "insidetextanchor": "middle",
         "legendgroup": "Other fossil",
         "marker": {
          "color": "#B6E880"
         },
         "name": "Other fossil",
         "showlegend": false,
         "text": [
          "2.9%",
          "2.5%",
          "2.4%"
         ],
         "textposition": "inside",
         "type": "bar",
         "x": {
          "bdata": "5gfnB+gH",
          "dtype": "i2"
         },
         "xaxis": "x2",
         "y": {
          "bdata": "SOF6FK7PZUDNzMzMzNxhQClcj8L1kGFA",
          "dtype": "f8"
         },
         "yaxis": "y2"
        },
        {
         "insidetextanchor": "middle",
         "legendgroup": "Other renewables",
         "marker": {
          "color": "#FF97FF"
         },
         "name": "Other renewables",
         "showlegend": false,
         "text": [
          "0.0%",
          "0.0%",
          "0.0%"
         ],
         "textposition": "inside",
         "type": "bar",
         "x": {
          "bdata": "5gfnB+gH",
          "dtype": "i2"
         },
         "xaxis": "x2",
         "y": {
          "bdata": "AAAAAAAAAAAAAAAAAAAAAAAAAAAAAAAA",
          "dtype": "f8"
         },
         "yaxis": "y2"
        },
        {
         "insidetextanchor": "middle",
         "legendgroup": "Solar",
         "marker": {
          "color": "#FFA15A"
         },
         "name": "Solar",
         "showlegend": false,
         "text": [
          "6.3%",
          "10.0%",
          "11.3%"
         ],
         "textposition": "inside",
         "type": "bar",
         "x": {
          "bdata": "5gfnB+gH",
          "dtype": "i2"
         },
         "xaxis": "x2",
         "y": {
          "bdata": "MzMzMzNLd0DXo3A9CqeBQK5H4XoU3IRA",
          "dtype": "f8"
         },
         "yaxis": "y2"
        },
        {
         "insidetextanchor": "middle",
         "legendgroup": "Wind",
         "marker": {
          "color": "#19D3F3"
         },
         "name": "Wind",
         "showlegend": false,
         "text": [
          "54.4%",
          "57.9%",
          "57.9%"
         ],
         "textposition": "inside",
         "type": "bar",
         "x": {
          "bdata": "5gfnB+gH",
          "dtype": "i2"
         },
         "xaxis": "x2",
         "y": {
          "bdata": "SOF6FK4vqUDXo3A9CqCpQDMzMzMz1apA",
          "dtype": "f8"
         },
         "yaxis": "y2"
        },
        {
         "insidetextanchor": "middle",
         "legendgroup": "Bioenergy",
         "marker": {
          "color": "#FF6692"
         },
         "name": "Bioenergy",
         "showlegend": false,
         "text": [
          "2.1%",
          "1.9%",
          "1.8%"
         ],
         "textposition": "inside",
         "type": "bar",
         "x": {
          "bdata": "5gfnB+gH",
          "dtype": "i2"
         },
         "xaxis": "x3",
         "y": {
          "bdata": "AAAAAAA4YkC4HoXrUaBiQOxRuB6FS2JA",
          "dtype": "f8"
         },
         "yaxis": "y3"
        },
        {
         "insidetextanchor": "middle",
         "legendgroup": "Coal",
         "marker": {
          "color": "#636EFA"
         },
         "name": "Coal",
         "showlegend": false,
         "text": [
          "0.9%",
          "0.4%",
          "0.3%"
         ],
         "textposition": "inside",
         "type": "bar",
         "x": {
          "bdata": "5gfnB+gH",
          "dtype": "i2"
         },
         "xaxis": "x3",
         "y": {
          "bdata": "w/UoXI9iT0DNzMzMzMw9QM3MzMzMjDlA",
          "dtype": "f8"
         },
         "yaxis": "y3"
        },
        {
         "insidetextanchor": "middle",
         "legendgroup": "Gas",
         "marker": {
          "color": "#EF553B"
         },
         "name": "Gas",
         "showlegend": false,
         "text": [
          "9.8%",
          "5.8%",
          "3.4%"
         ],
         "textposition": "inside",
         "type": "bar",
         "x": {
          "bdata": "5gfnB+gH",
          "dtype": "i2"
         },
         "xaxis": "x3",
         "y": {
          "bdata": "16NwPQqRhUCuR+F6FBJ8QClcj8L16HFA",
          "dtype": "f8"
         },
         "yaxis": "y3"
        },
        {
         "insidetextanchor": "middle",
         "legendgroup": "Hydro",
         "marker": {
          "color": "#00CC96"
         },
         "name": "Hydro",
         "showlegend": false,
         "text": [
          "9.7%",
          "11.0%",
          "12.4%"
         ],
         "textposition": "inside",
         "type": "bar",
         "x": {
          "bdata": "5gfnB+gH",
          "dtype": "i2"
         },
         "xaxis": "x3",
         "y": {
          "bdata": "FK5H4Xp2hUAUrkfheqaKQGZmZmZmRZBA",
          "dtype": "f8"
         },
         "yaxis": "y3"
        },
        {
         "insidetextanchor": "middle",
         "legendgroup": "Nuclear",
         "marker": {
          "color": "#AB63FA"
         },
         "name": "Nuclear",
         "showlegend": false,
         "text": [
          "62.9%",
          "65.3%",
          "68.0%"
         ],
         "textposition": "inside",
         "type": "bar",
         "x": {
          "bdata": "5gfnB+gH",
          "dtype": "i2"
         },
         "xaxis": "x3",
         "y": {
          "bdata": "UrgehetesUBmZmZmZuKzQDMzMzMzRLZA",
          "dtype": "f8"
         },
         "yaxis": "y3"
        },
        {
         "insidetextanchor": "middle",
         "legendgroup": "Other fossil",
         "marker": {
          "color": "#B6E880"
         },
         "name": "Other fossil",
         "showlegend": false,
         "text": [
          "2.2%",
          "2.0%",
          "2.0%"
         ],
         "textposition": "inside",
         "type": "bar",
         "x": {
          "bdata": "5gfnB+gH",
          "dtype": "i2"
         },
         "xaxis": "x3",
         "y": {
          "bdata": "PQrXo3C1Y0CuR+F6FN5jQAAAAAAAMGVA",
          "dtype": "f8"
         },
         "yaxis": "y3"
        },
        {
         "insidetextanchor": "middle",
         "legendgroup": "Other renewables",
         "marker": {
          "color": "#FF97FF"
         },
         "name": "Other renewables",
         "showlegend": false,
         "text": [
          "0.1%",
          "0.1%",
          "0.1%"
         ],
         "textposition": "inside",
         "type": "bar",
         "x": {
          "bdata": "5gfnB+gH",
          "dtype": "i2"
         },
         "xaxis": "x3",
         "y": {
          "bdata": "mpmZmZkZIkD2KFyPwnUhQHE9CtejcCFA",
          "dtype": "f8"
         },
         "yaxis": "y3"
        },
        {
         "insidetextanchor": "middle",
         "legendgroup": "Solar",
         "marker": {
          "color": "#FFA15A"
         },
         "name": "Solar",
         "showlegend": false,
         "text": [
          "4.2%",
          "4.2%",
          "4.2%"
         ],
         "textposition": "inside",
         "type": "bar",
         "x": {
          "bdata": "5gfnB+gH",
          "dtype": "i2"
         },
         "xaxis": "x3",
         "y": {
          "bdata": "exSuR+GCckAfhetRuIZ0QK5H4XoUHnZA",
          "dtype": "f8"
         },
         "yaxis": "y3"
        },
        {
         "insidetextanchor": "middle",
         "legendgroup": "Wind",
         "marker": {
          "color": "#19D3F3"
         },
         "name": "Wind",
         "showlegend": false,
         "text": [
          "8.1%",
          "9.3%",
          "7.7%"
         ],
         "textposition": "inside",
         "type": "bar",
         "x": {
          "bdata": "5gfnB+gH",
          "dtype": "i2"
         },
         "xaxis": "x3",
         "y": {
          "bdata": "zczMzMzqgUD2KFyPwpmGQDMzMzMzMYRA",
          "dtype": "f8"
         },
         "yaxis": "y3"
        },
        {
         "insidetextanchor": "middle",
         "legendgroup": "Bioenergy",
         "marker": {
          "color": "#FF6692"
         },
         "name": "Bioenergy",
         "showlegend": false,
         "text": [
          "2.3%",
          "2.3%",
          "2.3%"
         ],
         "textposition": "inside",
         "type": "bar",
         "x": {
          "bdata": "5gfnB+gH",
          "dtype": "i2"
         },
         "xaxis": "x4",
         "y": {
          "bdata": "w/UoXI/iVEDD9Shcj/JUQFK4HoXrcVVA",
          "dtype": "f8"
         },
         "yaxis": "y4"
        },
        {
         "insidetextanchor": "middle",
         "legendgroup": "Coal",
         "marker": {
          "color": "#636EFA"
         },
         "name": "Coal",
         "showlegend": false,
         "text": [
          "35.4%",
          "35.1%",
          "34.1%"
         ],
         "textposition": "inside",
         "type": "bar",
         "x": {
          "bdata": "5gfnB+gH",
          "dtype": "i2"
         },
         "xaxis": "x4",
         "y": {
          "bdata": "cT0K16P0k0AUrkfhehaUQFK4HoXrLpRA",
          "dtype": "f8"
         },
         "yaxis": "y4"
        },
        {
         "insidetextanchor": "middle",
         "legendgroup": "Gas",
         "marker": {
          "color": "#EF553B"
         },
         "name": "Gas",
         "showlegend": false,
         "text": [
          "22.9%",
          "22.6%",
          "22.3%"
         ],
         "textposition": "inside",
         "type": "bar",
         "x": {
          "bdata": "5gfnB+gH",
          "dtype": "i2"
         },
         "xaxis": "x4",
         "y": {
          "bdata": "hetRuB7ViUB7FK5H4fCJQFK4HoXrY4pA",
          "dtype": "f8"
         },
         "yaxis": "y4"
        },
        {
         "insidetextanchor": "middle",
         "legendgroup": "Hydro",
         "marker": {
          "color": "#00CC96"
         },
         "name": "Hydro",
         "showlegend": false,
         "text": [
          "15.0%",
          "14.3%",
          "14.3%"
         ],
         "textposition": "inside",
         "type": "bar",
         "x": {
          "bdata": "5gfnB+gH",
          "dtype": "i2"
         },
         "xaxis": "x4",
         "y": {
          "bdata": "pHA9CtfXgEBxPQrXo1iAQEjhehSu4YBA",
          "dtype": "f8"
         },
         "yaxis": "y4"
        },
        {
         "insidetextanchor": "middle",
         "legendgroup": "Nuclear",
         "marker": {
          "color": "#AB63FA"
         },
         "name": "Nuclear",
         "showlegend": false,
         "text": [
          "9.1%",
          "9.1%",
          "9.0%"
         ],
         "textposition": "inside",
         "type": "bar",
         "x": {
          "bdata": "5gfnB+gH",
          "dtype": "i2"
         },
         "xaxis": "x4",
         "y": {
          "bdata": "rkfhehSSdEBmZmZmZtp0QK5H4XoURnVA",
          "dtype": "f8"
         },
         "yaxis": "y4"
        },
        {
         "insidetextanchor": "middle",
         "legendgroup": "Other fossil",
         "marker": {
          "color": "#B6E880"
         },
         "name": "Other fossil",
         "showlegend": false,
         "text": [
          "3.1%",
          "3.0%",
          "2.8%"
         ],
         "textposition": "inside",
         "type": "bar",
         "x": {
          "bdata": "5gfnB+gH",
          "dtype": "i2"
         },
         "xaxis": "x4",
         "y": {
          "bdata": "H4XrUbiuW0AzMzMzMwNbQFyPwvUozFpA",
          "dtype": "f8"
         },
         "yaxis": "y4"
        },
        {
         "insidetextanchor": "middle",
         "legendgroup": "Other renewables",
         "marker": {
          "color": "#FF97FF"
         },
         "name": "Other renewables",
         "showlegend": false,
         "text": [
          "0.3%",
          "0.3%",
          "0.3%"
         ],
         "textposition": "inside",
         "type": "bar",
         "x": {
          "bdata": "5gfnB+gH",
          "dtype": "i2"
         },
         "xaxis": "x4",
         "y": {
          "bdata": "7FG4HoXrJUB7FK5H4folQD0K16NwvSVA",
          "dtype": "f8"
         },
         "yaxis": "y4"
        },
        {
         "insidetextanchor": "middle",
         "legendgroup": "Solar",
         "marker": {
          "color": "#FFA15A"
         },
         "name": "Solar",
         "showlegend": false,
         "text": [
          "4.6%",
          "5.6%",
          "6.9%"
         ],
         "textposition": "inside",
         "type": "bar",
         "x": {
          "bdata": "5gfnB+gH",
          "dtype": "i2"
         },
         "xaxis": "x4",
         "y": {
          "bdata": "MzMzMzO7ZEDNzMzMzKRpQOF6FK5HTXBA",
          "dtype": "f8"
         },
         "yaxis": "y4"
        },
        {
         "insidetextanchor": "middle",
         "legendgroup": "Wind",
         "marker": {
          "color": "#19D3F3"
         },
         "name": "Wind",
         "showlegend": false,
         "text": [
          "7.3%",
          "7.8%",
          "8.1%"
         ],
         "textposition": "inside",
         "type": "bar",
         "x": {
          "bdata": "5gfnB+gH",
          "dtype": "i2"
         },
         "xaxis": "x4",
         "y": {
          "bdata": "pHA9CtdrcEBcj8L1KOBxQDMzMzMzK3NA",
          "dtype": "f8"
         },
         "yaxis": "y4"
        }
       ],
       "layout": {
        "annotations": [
         {
          "font": {
           "size": 16
          },
          "showarrow": false,
          "text": "<b>Germany</b>",
          "x": 0.225,
          "xanchor": "center",
          "xref": "paper",
          "y": 1,
          "yanchor": "bottom",
          "yref": "paper"
         },
         {
          "font": {
           "size": 16
          },
          "showarrow": false,
          "text": "<b>Denmark</b>",
          "x": 0.775,
          "xanchor": "center",
          "xref": "paper",
          "y": 1,
          "yanchor": "bottom",
          "yref": "paper"
         },
         {
          "font": {
           "size": 16
          },
          "showarrow": false,
          "text": "<b>France</b>",
          "x": 0.225,
          "xanchor": "center",
          "xref": "paper",
          "y": 0.4375,
          "yanchor": "bottom",
          "yref": "paper"
         },
         {
          "font": {
           "size": 16
          },
          "showarrow": false,
          "text": "<b>World</b>",
          "x": 0.775,
          "xanchor": "center",
          "xref": "paper",
          "y": 0.4375,
          "yanchor": "bottom",
          "yref": "paper"
         },
         {
          "align": "center",
          "font": {
           "color": "black",
           "size": 13
          },
          "showarrow": false,
          "text": "6741.6 TWh",
          "x": 2022,
          "xref": "x",
          "y": 6748.66,
          "yref": "y"
         },
         {
          "align": "center",
          "font": {
           "color": "black",
           "size": 13
          },
          "showarrow": false,
          "text": "5893.8 TWh",
          "x": 2023,
          "xref": "x",
          "y": 5900.799999999999,
          "yref": "y"
         },
         {
          "align": "center",
          "font": {
           "color": "black",
           "size": 13
          },
          "showarrow": false,
          "text": "5672.8 TWh",
          "x": 2024,
          "xref": "x",
          "y": 5679.84,
          "yref": "y"
         },
         {
          "align": "center",
          "font": {
           "color": "black",
           "size": 13
          },
          "showarrow": false,
          "text": "5927.6 TWh",
          "x": 2022,
          "xref": "x2",
          "y": 5934.6,
          "yref": "y2"
         },
         {
          "align": "center",
          "font": {
           "color": "black",
           "size": 13
          },
          "showarrow": false,
          "text": "5667.3 TWh",
          "x": 2023,
          "xref": "x2",
          "y": 5674.3099999999995,
          "yref": "y2"
         },
         {
          "align": "center",
          "font": {
           "color": "black",
           "size": 13
          },
          "showarrow": false,
          "text": "5929.0 TWh",
          "x": 2024,
          "xref": "x2",
          "y": 5936,
          "yref": "y2"
         },
         {
          "align": "center",
          "font": {
           "color": "black",
           "size": 13
          },
          "showarrow": false,
          "text": "7068.6 TWh",
          "x": 2022,
          "xref": "x3",
          "y": 7075.63,
          "yref": "y3"
         },
         {
          "align": "center",
          "font": {
           "color": "black",
           "size": 13
          },
          "showarrow": false,
          "text": "7790.5 TWh",
          "x": 2023,
          "xref": "x3",
          "y": 7797.459999999999,
          "yref": "y3"
         },
         {
          "align": "center",
          "font": {
           "color": "black",
           "size": 13
          },
          "showarrow": false,
          "text": "8378.2 TWh",
          "x": 2024,
          "xref": "x3",
          "y": 8385.27,
          "yref": "y3"
         },
         {
          "align": "center",
          "font": {
           "color": "black",
           "size": 13
          },
          "showarrow": false,
          "text": "3605.7 TWh",
          "x": 2022,
          "xref": "x4",
          "y": 3612.7299999999996,
          "yref": "y4"
         },
         {
          "align": "center",
          "font": {
           "color": "black",
           "size": 13
          },
          "showarrow": false,
          "text": "3666.4 TWh",
          "x": 2023,
          "xref": "x4",
          "y": 3673.45,
          "yref": "y4"
         },
         {
          "align": "center",
          "font": {
           "color": "black",
           "size": 13
          },
          "showarrow": false,
          "text": "3788.2 TWh",
          "x": 2024,
          "xref": "x4",
          "y": 3795.18,
          "yref": "y4"
         }
        ],
        "autosize": true,
        "barmode": "stack",
        "height": 1300,
        "legend": {
         "title": {
          "text": "Source"
         }
        },
        "template": {
         "data": {
          "bar": [
           {
            "error_x": {
             "color": "#2a3f5f"
            },
            "error_y": {
             "color": "#2a3f5f"
            },
            "marker": {
             "line": {
              "color": "white",
              "width": 0.5
             },
             "pattern": {
              "fillmode": "overlay",
              "size": 10,
              "solidity": 0.2
             }
            },
            "type": "bar"
           }
          ],
          "barpolar": [
           {
            "marker": {
             "line": {
              "color": "white",
              "width": 0.5
             },
             "pattern": {
              "fillmode": "overlay",
              "size": 10,
              "solidity": 0.2
             }
            },
            "type": "barpolar"
           }
          ],
          "carpet": [
           {
            "aaxis": {
             "endlinecolor": "#2a3f5f",
             "gridcolor": "#C8D4E3",
             "linecolor": "#C8D4E3",
             "minorgridcolor": "#C8D4E3",
             "startlinecolor": "#2a3f5f"
            },
            "baxis": {
             "endlinecolor": "#2a3f5f",
             "gridcolor": "#C8D4E3",
             "linecolor": "#C8D4E3",
             "minorgridcolor": "#C8D4E3",
             "startlinecolor": "#2a3f5f"
            },
            "type": "carpet"
           }
          ],
          "choropleth": [
           {
            "colorbar": {
             "outlinewidth": 0,
             "ticks": ""
            },
            "type": "choropleth"
           }
          ],
          "contour": [
           {
            "colorbar": {
             "outlinewidth": 0,
             "ticks": ""
            },
            "colorscale": [
             [
              0,
              "#0d0887"
             ],
             [
              0.1111111111111111,
              "#46039f"
             ],
             [
              0.2222222222222222,
              "#7201a8"
             ],
             [
              0.3333333333333333,
              "#9c179e"
             ],
             [
              0.4444444444444444,
              "#bd3786"
             ],
             [
              0.5555555555555556,
              "#d8576b"
             ],
             [
              0.6666666666666666,
              "#ed7953"
             ],
             [
              0.7777777777777778,
              "#fb9f3a"
             ],
             [
              0.8888888888888888,
              "#fdca26"
             ],
             [
              1,
              "#f0f921"
             ]
            ],
            "type": "contour"
           }
          ],
          "contourcarpet": [
           {
            "colorbar": {
             "outlinewidth": 0,
             "ticks": ""
            },
            "type": "contourcarpet"
           }
          ],
          "heatmap": [
           {
            "colorbar": {
             "outlinewidth": 0,
             "ticks": ""
            },
            "colorscale": [
             [
              0,
              "#0d0887"
             ],
             [
              0.1111111111111111,
              "#46039f"
             ],
             [
              0.2222222222222222,
              "#7201a8"
             ],
             [
              0.3333333333333333,
              "#9c179e"
             ],
             [
              0.4444444444444444,
              "#bd3786"
             ],
             [
              0.5555555555555556,
              "#d8576b"
             ],
             [
              0.6666666666666666,
              "#ed7953"
             ],
             [
              0.7777777777777778,
              "#fb9f3a"
             ],
             [
              0.8888888888888888,
              "#fdca26"
             ],
             [
              1,
              "#f0f921"
             ]
            ],
            "type": "heatmap"
           }
          ],
          "histogram": [
           {
            "marker": {
             "pattern": {
              "fillmode": "overlay",
              "size": 10,
              "solidity": 0.2
             }
            },
            "type": "histogram"
           }
          ],
          "histogram2d": [
           {
            "colorbar": {
             "outlinewidth": 0,
             "ticks": ""
            },
            "colorscale": [
             [
              0,
              "#0d0887"
             ],
             [
              0.1111111111111111,
              "#46039f"
             ],
             [
              0.2222222222222222,
              "#7201a8"
             ],
             [
              0.3333333333333333,
              "#9c179e"
             ],
             [
              0.4444444444444444,
              "#bd3786"
             ],
             [
              0.5555555555555556,
              "#d8576b"
             ],
             [
              0.6666666666666666,
              "#ed7953"
             ],
             [
              0.7777777777777778,
              "#fb9f3a"
             ],
             [
              0.8888888888888888,
              "#fdca26"
             ],
             [
              1,
              "#f0f921"
             ]
            ],
            "type": "histogram2d"
           }
          ],
          "histogram2dcontour": [
           {
            "colorbar": {
             "outlinewidth": 0,
             "ticks": ""
            },
            "colorscale": [
             [
              0,
              "#0d0887"
             ],
             [
              0.1111111111111111,
              "#46039f"
             ],
             [
              0.2222222222222222,
              "#7201a8"
             ],
             [
              0.3333333333333333,
              "#9c179e"
             ],
             [
              0.4444444444444444,
              "#bd3786"
             ],
             [
              0.5555555555555556,
              "#d8576b"
             ],
             [
              0.6666666666666666,
              "#ed7953"
             ],
             [
              0.7777777777777778,
              "#fb9f3a"
             ],
             [
              0.8888888888888888,
              "#fdca26"
             ],
             [
              1,
              "#f0f921"
             ]
            ],
            "type": "histogram2dcontour"
           }
          ],
          "mesh3d": [
           {
            "colorbar": {
             "outlinewidth": 0,
             "ticks": ""
            },
            "type": "mesh3d"
           }
          ],
          "parcoords": [
           {
            "line": {
             "colorbar": {
              "outlinewidth": 0,
              "ticks": ""
             }
            },
            "type": "parcoords"
           }
          ],
          "pie": [
           {
            "automargin": true,
            "type": "pie"
           }
          ],
          "scatter": [
           {
            "fillpattern": {
             "fillmode": "overlay",
             "size": 10,
             "solidity": 0.2
            },
            "type": "scatter"
           }
          ],
          "scatter3d": [
           {
            "line": {
             "colorbar": {
              "outlinewidth": 0,
              "ticks": ""
             }
            },
            "marker": {
             "colorbar": {
              "outlinewidth": 0,
              "ticks": ""
             }
            },
            "type": "scatter3d"
           }
          ],
          "scattercarpet": [
           {
            "marker": {
             "colorbar": {
              "outlinewidth": 0,
              "ticks": ""
             }
            },
            "type": "scattercarpet"
           }
          ],
          "scattergeo": [
           {
            "marker": {
             "colorbar": {
              "outlinewidth": 0,
              "ticks": ""
             }
            },
            "type": "scattergeo"
           }
          ],
          "scattergl": [
           {
            "marker": {
             "colorbar": {
              "outlinewidth": 0,
              "ticks": ""
             }
            },
            "type": "scattergl"
           }
          ],
          "scattermap": [
           {
            "marker": {
             "colorbar": {
              "outlinewidth": 0,
              "ticks": ""
             }
            },
            "type": "scattermap"
           }
          ],
          "scattermapbox": [
           {
            "marker": {
             "colorbar": {
              "outlinewidth": 0,
              "ticks": ""
             }
            },
            "type": "scattermapbox"
           }
          ],
          "scatterpolar": [
           {
            "marker": {
             "colorbar": {
              "outlinewidth": 0,
              "ticks": ""
             }
            },
            "type": "scatterpolar"
           }
          ],
          "scatterpolargl": [
           {
            "marker": {
             "colorbar": {
              "outlinewidth": 0,
              "ticks": ""
             }
            },
            "type": "scatterpolargl"
           }
          ],
          "scatterternary": [
           {
            "marker": {
             "colorbar": {
              "outlinewidth": 0,
              "ticks": ""
             }
            },
            "type": "scatterternary"
           }
          ],
          "surface": [
           {
            "colorbar": {
             "outlinewidth": 0,
             "ticks": ""
            },
            "colorscale": [
             [
              0,
              "#0d0887"
             ],
             [
              0.1111111111111111,
              "#46039f"
             ],
             [
              0.2222222222222222,
              "#7201a8"
             ],
             [
              0.3333333333333333,
              "#9c179e"
             ],
             [
              0.4444444444444444,
              "#bd3786"
             ],
             [
              0.5555555555555556,
              "#d8576b"
             ],
             [
              0.6666666666666666,
              "#ed7953"
             ],
             [
              0.7777777777777778,
              "#fb9f3a"
             ],
             [
              0.8888888888888888,
              "#fdca26"
             ],
             [
              1,
              "#f0f921"
             ]
            ],
            "type": "surface"
           }
          ],
          "table": [
           {
            "cells": {
             "fill": {
              "color": "#EBF0F8"
             },
             "line": {
              "color": "white"
             }
            },
            "header": {
             "fill": {
              "color": "#C8D4E3"
             },
             "line": {
              "color": "white"
             }
            },
            "type": "table"
           }
          ]
         },
         "layout": {
          "annotationdefaults": {
           "arrowcolor": "#2a3f5f",
           "arrowhead": 0,
           "arrowwidth": 1
          },
          "autotypenumbers": "strict",
          "coloraxis": {
           "colorbar": {
            "outlinewidth": 0,
            "ticks": ""
           }
          },
          "colorscale": {
           "diverging": [
            [
             0,
             "#8e0152"
            ],
            [
             0.1,
             "#c51b7d"
            ],
            [
             0.2,
             "#de77ae"
            ],
            [
             0.3,
             "#f1b6da"
            ],
            [
             0.4,
             "#fde0ef"
            ],
            [
             0.5,
             "#f7f7f7"
            ],
            [
             0.6,
             "#e6f5d0"
            ],
            [
             0.7,
             "#b8e186"
            ],
            [
             0.8,
             "#7fbc41"
            ],
            [
             0.9,
             "#4d9221"
            ],
            [
             1,
             "#276419"
            ]
           ],
           "sequential": [
            [
             0,
             "#0d0887"
            ],
            [
             0.1111111111111111,
             "#46039f"
            ],
            [
             0.2222222222222222,
             "#7201a8"
            ],
            [
             0.3333333333333333,
             "#9c179e"
            ],
            [
             0.4444444444444444,
             "#bd3786"
            ],
            [
             0.5555555555555556,
             "#d8576b"
            ],
            [
             0.6666666666666666,
             "#ed7953"
            ],
            [
             0.7777777777777778,
             "#fb9f3a"
            ],
            [
             0.8888888888888888,
             "#fdca26"
            ],
            [
             1,
             "#f0f921"
            ]
           ],
           "sequentialminus": [
            [
             0,
             "#0d0887"
            ],
            [
             0.1111111111111111,
             "#46039f"
            ],
            [
             0.2222222222222222,
             "#7201a8"
            ],
            [
             0.3333333333333333,
             "#9c179e"
            ],
            [
             0.4444444444444444,
             "#bd3786"
            ],
            [
             0.5555555555555556,
             "#d8576b"
            ],
            [
             0.6666666666666666,
             "#ed7953"
            ],
            [
             0.7777777777777778,
             "#fb9f3a"
            ],
            [
             0.8888888888888888,
             "#fdca26"
            ],
            [
             1,
             "#f0f921"
            ]
           ]
          },
          "colorway": [
           "#636efa",
           "#EF553B",
           "#00cc96",
           "#ab63fa",
           "#FFA15A",
           "#19d3f3",
           "#FF6692",
           "#B6E880",
           "#FF97FF",
           "#FECB52"
          ],
          "font": {
           "color": "#2a3f5f"
          },
          "geo": {
           "bgcolor": "white",
           "lakecolor": "white",
           "landcolor": "white",
           "showlakes": true,
           "showland": true,
           "subunitcolor": "#C8D4E3"
          },
          "hoverlabel": {
           "align": "left"
          },
          "hovermode": "closest",
          "mapbox": {
           "style": "light"
          },
          "paper_bgcolor": "white",
          "plot_bgcolor": "white",
          "polar": {
           "angularaxis": {
            "gridcolor": "#EBF0F8",
            "linecolor": "#EBF0F8",
            "ticks": ""
           },
           "bgcolor": "white",
           "radialaxis": {
            "gridcolor": "#EBF0F8",
            "linecolor": "#EBF0F8",
            "ticks": ""
           }
          },
          "scene": {
           "xaxis": {
            "backgroundcolor": "white",
            "gridcolor": "#DFE8F3",
            "gridwidth": 2,
            "linecolor": "#EBF0F8",
            "showbackground": true,
            "ticks": "",
            "zerolinecolor": "#EBF0F8"
           },
           "yaxis": {
            "backgroundcolor": "white",
            "gridcolor": "#DFE8F3",
            "gridwidth": 2,
            "linecolor": "#EBF0F8",
            "showbackground": true,
            "ticks": "",
            "zerolinecolor": "#EBF0F8"
           },
           "zaxis": {
            "backgroundcolor": "white",
            "gridcolor": "#DFE8F3",
            "gridwidth": 2,
            "linecolor": "#EBF0F8",
            "showbackground": true,
            "ticks": "",
            "zerolinecolor": "#EBF0F8"
           }
          },
          "shapedefaults": {
           "line": {
            "color": "#2a3f5f"
           }
          },
          "ternary": {
           "aaxis": {
            "gridcolor": "#DFE8F3",
            "linecolor": "#A2B1C6",
            "ticks": ""
           },
           "baxis": {
            "gridcolor": "#DFE8F3",
            "linecolor": "#A2B1C6",
            "ticks": ""
           },
           "bgcolor": "white",
           "caxis": {
            "gridcolor": "#DFE8F3",
            "linecolor": "#A2B1C6",
            "ticks": ""
           }
          },
          "title": {
           "x": 0.05
          },
          "xaxis": {
           "automargin": true,
           "gridcolor": "#EBF0F8",
           "linecolor": "#EBF0F8",
           "ticks": "",
           "title": {
            "standoff": 15
           },
           "zerolinecolor": "#EBF0F8",
           "zerolinewidth": 2
          },
          "yaxis": {
           "automargin": true,
           "gridcolor": "#EBF0F8",
           "linecolor": "#EBF0F8",
           "ticks": "",
           "title": {
            "standoff": 15
           },
           "zerolinecolor": "#EBF0F8",
           "zerolinewidth": 2
          }
         }
        },
        "title": {
         "font": {
          "size": 22
         },
         "text": "<b>Electricity Generation per Capita by Source (2022–2024)</b>",
         "x": 0.5
        },
        "xaxis": {
         "anchor": "y",
         "domain": [
          0,
          0.45
         ],
         "tickmode": "array",
         "ticktext": [
          "2022",
          "2023",
          "2024"
         ],
         "tickvals": [
          "2022",
          "2023",
          "2024"
         ]
        },
        "xaxis2": {
         "anchor": "y2",
         "domain": [
          0.55,
          1
         ],
         "tickmode": "array",
         "ticktext": [
          "2022",
          "2023",
          "2024"
         ],
         "tickvals": [
          "2022",
          "2023",
          "2024"
         ]
        },
        "xaxis3": {
         "anchor": "y3",
         "domain": [
          0,
          0.45
         ],
         "tickmode": "array",
         "ticktext": [
          "2022",
          "2023",
          "2024"
         ],
         "tickvals": [
          "2022",
          "2023",
          "2024"
         ],
         "title": {
          "standoff": 10,
          "text": "Year"
         }
        },
        "xaxis4": {
         "anchor": "y4",
         "domain": [
          0.55,
          1
         ],
         "tickmode": "array",
         "ticktext": [
          "2022",
          "2023",
          "2024"
         ],
         "tickvals": [
          "2022",
          "2023",
          "2024"
         ],
         "title": {
          "standoff": 10,
          "text": "Year"
         }
        },
        "yaxis": {
         "anchor": "x",
         "domain": [
          0.5625,
          1
         ],
         "title": {
          "text": "Generation per Capita (%)"
         }
        },
        "yaxis2": {
         "anchor": "x2",
         "domain": [
          0.5625,
          1
         ]
        },
        "yaxis3": {
         "anchor": "x3",
         "domain": [
          0,
          0.4375
         ],
         "title": {
          "text": "Generation per Capita (%)"
         }
        },
        "yaxis4": {
         "anchor": "x4",
         "domain": [
          0,
          0.4375
         ]
        }
       }
      }
     },
     "metadata": {},
     "output_type": "display_data"
    }
   ],
   "source": [
    "from plotly.subplots import make_subplots\n",
    "from plotly.express import colors\n",
    "import plotly.graph_objects as go\n",
    "\n",
    "df_1_ger = df_1[(df_1[\"entity\"] == \"Germany\") & (df_1[\"series\"] != \"Total generation\")]\n",
    "df_1_den = df_1[(df_1[\"entity\"] == \"Denmark\") & (df_1[\"series\"] != \"Total generation\")]\n",
    "df_1_fra = df_1[(df_1[\"entity\"] == \"France\") & (df_1[\"series\"] != \"Total generation\")]\n",
    "df_1_wrld = df_1[(df_1[\"entity\"] == \"World\") & (df_1[\"series\"] != \"Total generation\")]\n",
    "\n",
    "df_1_ger_totals = df_1[(df_1[\"entity\"] == \"Germany\") & (df_1[\"series\"] == \"Total generation\")]\n",
    "df_1_den_totals = df_1[(df_1[\"entity\"] == \"Denmark\") & (df_1[\"series\"] == \"Total generation\")]\n",
    "df_1_fra_totals = df_1[(df_1[\"entity\"] == \"France\") & (df_1[\"series\"] == \"Total generation\")]\n",
    "df_1_wrld_totals = df_1[(df_1[\"entity\"] == \"World\") & (df_1[\"series\"] == \"Total generation\")]\n",
    "\n",
    "fig = make_subplots(\n",
    "    rows=2, cols=2,\n",
    "    subplot_titles=(f\"<b>Germany</b>\", f\"<b>Denmark</b>\", f\"<b>France</b>\", f\"<b>World</b>\"),\n",
    "    shared_xaxes=False,\n",
    "    shared_yaxes=False,\n",
    "    vertical_spacing=0.125\n",
    ")\n",
    "\n",
    "datasets = [\n",
    "    (df_1_ger, df_1_ger_totals, \"Germany\", 1, 1),\n",
    "    (df_1_den, df_1_den_totals, \"Denmark\", 1, 2),\n",
    "    (df_1_fra, df_1_fra_totals, \"France\", 2, 1),\n",
    "    (df_1_wrld, df_1_wrld_totals, \"World\", 2, 2),\n",
    "]\n",
    "\n",
    "color_map = {\n",
    "    \"Coal\": colors.qualitative.Plotly[0],\n",
    "    \"Gas\": colors.qualitative.Plotly[1],\n",
    "    \"Hydro\": colors.qualitative.Plotly[2],\n",
    "    \"Nuclear\": colors.qualitative.Plotly[3],\n",
    "    \"Solar\": colors.qualitative.Plotly[4],\n",
    "    \"Wind\": colors.qualitative.Plotly[5],\n",
    "    \"Bioenergy\": colors.qualitative.Plotly[6],\n",
    "    \"Other fossil\": colors.qualitative.Plotly[7],\n",
    "    \"Other renewables\": colors.qualitative.Plotly[8],\n",
    "}\n",
    "\n",
    "for df_1_country, df_1_totals, country_name, row, col in datasets:\n",
    "    for source in df_1_country[\"series\"].unique():\n",
    "        subset = df_1_country[df_1_country[\"series\"] == source]\n",
    "        fig.add_trace(\n",
    "            go.Bar(\n",
    "                x=subset[\"date\"],\n",
    "                y=subset[\"generation_kwh_per_capita\"],\n",
    "                name=source,\n",
    "                text=subset[\"generation_share_pct\"].round(1).astype(str) + \"%\",\n",
    "                textposition=\"inside\",\n",
    "                insidetextanchor=\"middle\",\n",
    "                legendgroup=source,\n",
    "                showlegend=(row == 1 and col == 1), \n",
    "                marker=dict(color=color_map.get(source, \"#CCCCCC\"))\n",
    "            ),\n",
    "            row=row, col=col\n",
    "        )\n",
    "\n",
    "    for _, row_total in df_1_totals.iterrows():\n",
    "        year = row_total[\"date\"]\n",
    "        total = row_total[\"generation_kwh_per_capita\"]\n",
    "\n",
    "        total_height = df_1_country[df_1_country[\"date\"] == year][\"generation_kwh_per_capita\"].sum()\n",
    "\n",
    "        fig.add_annotation(\n",
    "            x=year,\n",
    "            y=total_height + 7,  \n",
    "            text=f\"{total:.1f} TWh\",\n",
    "            showarrow=False,\n",
    "            font=dict(size=13, color=\"black\"),\n",
    "            align=\"center\",\n",
    "            row=row, col=col\n",
    "        )\n",
    "\n",
    "fig.update_layout(\n",
    "    height=1300,\n",
    "    autosize=True,\n",
    "    title=dict(\n",
    "        text=\"<b>Electricity Generation per Capita by Source (2022–2024)</b>\",\n",
    "        font=dict(size=22),\n",
    "        x=0.5\n",
    "    ),\n",
    "    barmode=\"stack\",\n",
    "    template=\"plotly_white\",\n",
    "    legend_title=\"Source\",\n",
    ")\n",
    "\n",
    "for r in range(1, 3):\n",
    "    for c in range(1, 3):\n",
    "        fig.update_xaxes(\n",
    "            tickmode=\"array\",\n",
    "            tickvals=[\"2022\", \"2023\", \"2024\"],\n",
    "            ticktext=[\"2022\", \"2023\", \"2024\"],\n",
    "            row=r, col=c\n",
    "        )\n",
    "\n",
    "fig.update_xaxes(title_text=\"Year\", row=2, col=1, title_standoff=10)\n",
    "fig.update_xaxes(title_text=\"Year\", row=2, col=2, title_standoff=10)\n",
    "fig.update_yaxes(title_text=\"Generation per Capita (%)\", row=1, col=1)\n",
    "fig.update_yaxes(title_text=\"Generation per Capita (%)\", row=2, col=1)\n",
    "\n",
    "fig.show()\n",
    "fig.write_html(\"all_entities_electricity_gen_capita.html\", include_plotlyjs=\"cdn\", full_html=True)\n",
    "fig.write_image(\"all_entities_electricity_gen_capita.png\", format=\"png\", height=1300, width=2000)"
   ]
  }
 ],
 "metadata": {
  "kernelspec": {
   "display_name": "qmas",
   "language": "python",
   "name": "python3"
  },
  "language_info": {
   "codemirror_mode": {
    "name": "ipython",
    "version": 3
   },
   "file_extension": ".py",
   "mimetype": "text/x-python",
   "name": "python",
   "nbconvert_exporter": "python",
   "pygments_lexer": "ipython3",
   "version": "3.12.2"
  }
 },
 "nbformat": 4,
 "nbformat_minor": 5
}
