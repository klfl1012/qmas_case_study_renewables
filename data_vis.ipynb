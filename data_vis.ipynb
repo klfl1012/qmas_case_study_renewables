{
 "cells": [
  {
   "cell_type": "code",
   "execution_count": 27,
   "id": "initial_id",
   "metadata": {
    "ExecuteTime": {
     "end_time": "2025-09-18T12:25:39.571369Z",
     "start_time": "2025-09-18T12:25:38.421228Z"
    },
    "collapsed": true
   },
   "outputs": [],
   "source": [
    "import pandas as pd\n",
    "import plotly.graph_objects as go"
   ]
  },
  {
   "cell_type": "code",
   "execution_count": 28,
   "id": "403885ac98722424",
   "metadata": {
    "ExecuteTime": {
     "end_time": "2025-09-18T12:25:39.582064Z",
     "start_time": "2025-09-18T12:25:39.575107Z"
    }
   },
   "outputs": [],
   "source": [
    "df = pd.read_csv(\"ember_yearly_electricity-generation_share.csv\")"
   ]
  },
  {
   "cell_type": "code",
   "execution_count": 29,
   "id": "f2b097ca2dde8e47",
   "metadata": {
    "ExecuteTime": {
     "end_time": "2025-09-18T12:25:39.597035Z",
     "start_time": "2025-09-18T12:25:39.586406Z"
    }
   },
   "outputs": [
    {
     "data": {
      "application/vnd.microsoft.datawrangler.viewer.v0+json": {
       "columns": [
        {
         "name": "index",
         "rawType": "int64",
         "type": "integer"
        },
        {
         "name": "entity",
         "rawType": "object",
         "type": "string"
        },
        {
         "name": "entity_code",
         "rawType": "object",
         "type": "string"
        },
        {
         "name": "is_aggregate_entity",
         "rawType": "bool",
         "type": "boolean"
        },
        {
         "name": "date",
         "rawType": "int64",
         "type": "integer"
        },
        {
         "name": "series",
         "rawType": "object",
         "type": "string"
        },
        {
         "name": "is_aggregate_series",
         "rawType": "bool",
         "type": "boolean"
        },
        {
         "name": "generation_twh",
         "rawType": "float64",
         "type": "float"
        },
        {
         "name": "generation_share_pct",
         "rawType": "float64",
         "type": "float"
        },
        {
         "name": "generation_kwh_per_capita",
         "rawType": "float64",
         "type": "float"
        },
        {
         "name": "generation_yoy_change_twh",
         "rawType": "float64",
         "type": "float"
        },
        {
         "name": "generation_yoy_change_pct",
         "rawType": "float64",
         "type": "float"
        },
        {
         "name": "generation_share_yoy_change_pct_points",
         "rawType": "float64",
         "type": "float"
        },
        {
         "name": "generation_yoy_change_kwh_per_capita",
         "rawType": "float64",
         "type": "float"
        }
       ],
       "ref": "40885b5d-63e7-4e64-9f35-d726ea1d6fb0",
       "rows": [
        [
         "0",
         "Germany",
         "DEU",
         "False",
         "2022",
         "Bioenergy",
         "False",
         "48.6",
         "8.57",
         "577.98",
         "-0.5",
         "-1.02",
         "0.09",
         "-5.95"
        ],
        [
         "1",
         "Germany",
         "DEU",
         "False",
         "2022",
         "Coal",
         "False",
         "179.93",
         "31.74",
         "2139.83",
         "15.28",
         "9.28",
         "3.29",
         "181.72"
        ],
        [
         "2",
         "Germany",
         "DEU",
         "False",
         "2022",
         "Gas",
         "False",
         "79.05",
         "13.94",
         "940.11",
         "-11.26",
         "-12.47",
         "-1.66",
         "-133.91"
        ],
        [
         "3",
         "Germany",
         "DEU",
         "False",
         "2022",
         "Hydro",
         "False",
         "17.62",
         "3.11",
         "209.55",
         "-2.04",
         "-10.38",
         "-0.29",
         "-24.26"
        ],
        [
         "4",
         "Germany",
         "DEU",
         "False",
         "2022",
         "Nuclear",
         "False",
         "34.71",
         "6.12",
         "412.79",
         "-34.42",
         "-49.79",
         "-5.82",
         "-409.34"
        ]
       ],
       "shape": {
        "columns": 13,
        "rows": 5
       }
      },
      "text/html": [
       "<div>\n",
       "<style scoped>\n",
       "    .dataframe tbody tr th:only-of-type {\n",
       "        vertical-align: middle;\n",
       "    }\n",
       "\n",
       "    .dataframe tbody tr th {\n",
       "        vertical-align: top;\n",
       "    }\n",
       "\n",
       "    .dataframe thead th {\n",
       "        text-align: right;\n",
       "    }\n",
       "</style>\n",
       "<table border=\"1\" class=\"dataframe\">\n",
       "  <thead>\n",
       "    <tr style=\"text-align: right;\">\n",
       "      <th></th>\n",
       "      <th>entity</th>\n",
       "      <th>entity_code</th>\n",
       "      <th>is_aggregate_entity</th>\n",
       "      <th>date</th>\n",
       "      <th>series</th>\n",
       "      <th>is_aggregate_series</th>\n",
       "      <th>generation_twh</th>\n",
       "      <th>generation_share_pct</th>\n",
       "      <th>generation_kwh_per_capita</th>\n",
       "      <th>generation_yoy_change_twh</th>\n",
       "      <th>generation_yoy_change_pct</th>\n",
       "      <th>generation_share_yoy_change_pct_points</th>\n",
       "      <th>generation_yoy_change_kwh_per_capita</th>\n",
       "    </tr>\n",
       "  </thead>\n",
       "  <tbody>\n",
       "    <tr>\n",
       "      <th>0</th>\n",
       "      <td>Germany</td>\n",
       "      <td>DEU</td>\n",
       "      <td>False</td>\n",
       "      <td>2022</td>\n",
       "      <td>Bioenergy</td>\n",
       "      <td>False</td>\n",
       "      <td>48.60</td>\n",
       "      <td>8.57</td>\n",
       "      <td>577.98</td>\n",
       "      <td>-0.50</td>\n",
       "      <td>-1.02</td>\n",
       "      <td>0.09</td>\n",
       "      <td>-5.95</td>\n",
       "    </tr>\n",
       "    <tr>\n",
       "      <th>1</th>\n",
       "      <td>Germany</td>\n",
       "      <td>DEU</td>\n",
       "      <td>False</td>\n",
       "      <td>2022</td>\n",
       "      <td>Coal</td>\n",
       "      <td>False</td>\n",
       "      <td>179.93</td>\n",
       "      <td>31.74</td>\n",
       "      <td>2139.83</td>\n",
       "      <td>15.28</td>\n",
       "      <td>9.28</td>\n",
       "      <td>3.29</td>\n",
       "      <td>181.72</td>\n",
       "    </tr>\n",
       "    <tr>\n",
       "      <th>2</th>\n",
       "      <td>Germany</td>\n",
       "      <td>DEU</td>\n",
       "      <td>False</td>\n",
       "      <td>2022</td>\n",
       "      <td>Gas</td>\n",
       "      <td>False</td>\n",
       "      <td>79.05</td>\n",
       "      <td>13.94</td>\n",
       "      <td>940.11</td>\n",
       "      <td>-11.26</td>\n",
       "      <td>-12.47</td>\n",
       "      <td>-1.66</td>\n",
       "      <td>-133.91</td>\n",
       "    </tr>\n",
       "    <tr>\n",
       "      <th>3</th>\n",
       "      <td>Germany</td>\n",
       "      <td>DEU</td>\n",
       "      <td>False</td>\n",
       "      <td>2022</td>\n",
       "      <td>Hydro</td>\n",
       "      <td>False</td>\n",
       "      <td>17.62</td>\n",
       "      <td>3.11</td>\n",
       "      <td>209.55</td>\n",
       "      <td>-2.04</td>\n",
       "      <td>-10.38</td>\n",
       "      <td>-0.29</td>\n",
       "      <td>-24.26</td>\n",
       "    </tr>\n",
       "    <tr>\n",
       "      <th>4</th>\n",
       "      <td>Germany</td>\n",
       "      <td>DEU</td>\n",
       "      <td>False</td>\n",
       "      <td>2022</td>\n",
       "      <td>Nuclear</td>\n",
       "      <td>False</td>\n",
       "      <td>34.71</td>\n",
       "      <td>6.12</td>\n",
       "      <td>412.79</td>\n",
       "      <td>-34.42</td>\n",
       "      <td>-49.79</td>\n",
       "      <td>-5.82</td>\n",
       "      <td>-409.34</td>\n",
       "    </tr>\n",
       "  </tbody>\n",
       "</table>\n",
       "</div>"
      ],
      "text/plain": [
       "    entity entity_code  is_aggregate_entity  date     series  \\\n",
       "0  Germany         DEU                False  2022  Bioenergy   \n",
       "1  Germany         DEU                False  2022       Coal   \n",
       "2  Germany         DEU                False  2022        Gas   \n",
       "3  Germany         DEU                False  2022      Hydro   \n",
       "4  Germany         DEU                False  2022    Nuclear   \n",
       "\n",
       "   is_aggregate_series  generation_twh  generation_share_pct  \\\n",
       "0                False           48.60                  8.57   \n",
       "1                False          179.93                 31.74   \n",
       "2                False           79.05                 13.94   \n",
       "3                False           17.62                  3.11   \n",
       "4                False           34.71                  6.12   \n",
       "\n",
       "   generation_kwh_per_capita  generation_yoy_change_twh  \\\n",
       "0                     577.98                      -0.50   \n",
       "1                    2139.83                      15.28   \n",
       "2                     940.11                     -11.26   \n",
       "3                     209.55                      -2.04   \n",
       "4                     412.79                     -34.42   \n",
       "\n",
       "   generation_yoy_change_pct  generation_share_yoy_change_pct_points  \\\n",
       "0                      -1.02                                    0.09   \n",
       "1                       9.28                                    3.29   \n",
       "2                     -12.47                                   -1.66   \n",
       "3                     -10.38                                   -0.29   \n",
       "4                     -49.79                                   -5.82   \n",
       "\n",
       "   generation_yoy_change_kwh_per_capita  \n",
       "0                                 -5.95  \n",
       "1                                181.72  \n",
       "2                               -133.91  \n",
       "3                                -24.26  \n",
       "4                               -409.34  "
      ]
     },
     "execution_count": 29,
     "metadata": {},
     "output_type": "execute_result"
    }
   ],
   "source": [
    "df.head()"
   ]
  },
  {
   "cell_type": "code",
   "execution_count": null,
   "id": "7a401c25",
   "metadata": {
    "ExecuteTime": {
     "end_time": "2025-09-18T12:25:39.605728Z",
     "start_time": "2025-09-18T12:25:39.602848Z"
    }
   },
   "outputs": [],
   "source": [
    "def plot_electricity_gen_share(df, country_name, save_as_html=False):\n",
    "\n",
    "    fig = go.Figure()\n",
    "\n",
    "    for source in df[\"series\"].unique():\n",
    "        subset = df[df[\"series\"] == source]\n",
    "        fig.add_trace(go.Bar(\n",
    "            x=subset[\"date\"],\n",
    "            y=subset[\"generation_share_pct\"],\n",
    "            name=source,\n",
    "            text=subset[\"generation_share_pct\"].round(1).astype(str) + \"%\",\n",
    "            textposition=\"inside\",\n",
    "            insidetextanchor=\"middle\"\n",
    "        ))\n",
    "\n",
    "    fig.update_layout(\n",
    "        height=800,\n",
    "        width=1200,\n",
    "        xaxis=dict(\n",
    "            title=\"Year\",\n",
    "            tickmode=\"array\",\n",
    "            tickvals=df[\"date\"].unique(),\n",
    "            ticktext=[str(year) for year in df[\"date\"].unique()]\n",
    "        ),\n",
    "        title=dict(\n",
    "            text=f\"<b>{country_name} Electricity Generation Share by Source from 2022 to 2024</b>\",\n",
    "            font=dict(size=20),\n",
    "        ),\n",
    "        yaxis_title=\"Generation Share (%)\",\n",
    "        barmode=\"stack\",\n",
    "        template=\"plotly_white\",\n",
    "        legend_title=\"Generation Share (%)\",\n",
    "    )\n",
    "    if save_as_html:\n",
    "        fig.write_html(f\"{country_name}_electricity_gen_share.html\")\n",
    "    fig.show()"
   ]
  },
  {
   "cell_type": "markdown",
   "id": "82102e6c0f644e",
   "metadata": {},
   "source": [
    "## Plot 1 - Bar plot of electricity generation share by source for germany from 2022 to 2024 "
   ]
  },
  {
   "cell_type": "code",
   "execution_count": 31,
   "id": "abf27179abb3e796",
   "metadata": {
    "ExecuteTime": {
     "end_time": "2025-09-18T12:25:39.619883Z",
     "start_time": "2025-09-18T12:25:39.611411Z"
    }
   },
   "outputs": [
    {
     "data": {
      "application/vnd.microsoft.datawrangler.viewer.v0+json": {
       "columns": [
        {
         "name": "index",
         "rawType": "int64",
         "type": "integer"
        },
        {
         "name": "entity",
         "rawType": "object",
         "type": "string"
        },
        {
         "name": "entity_code",
         "rawType": "object",
         "type": "string"
        },
        {
         "name": "is_aggregate_entity",
         "rawType": "bool",
         "type": "boolean"
        },
        {
         "name": "date",
         "rawType": "int64",
         "type": "integer"
        },
        {
         "name": "series",
         "rawType": "object",
         "type": "string"
        },
        {
         "name": "is_aggregate_series",
         "rawType": "bool",
         "type": "boolean"
        },
        {
         "name": "generation_twh",
         "rawType": "float64",
         "type": "float"
        },
        {
         "name": "generation_share_pct",
         "rawType": "float64",
         "type": "float"
        },
        {
         "name": "generation_kwh_per_capita",
         "rawType": "float64",
         "type": "float"
        },
        {
         "name": "generation_yoy_change_twh",
         "rawType": "float64",
         "type": "float"
        },
        {
         "name": "generation_yoy_change_pct",
         "rawType": "float64",
         "type": "float"
        },
        {
         "name": "generation_share_yoy_change_pct_points",
         "rawType": "float64",
         "type": "float"
        },
        {
         "name": "generation_yoy_change_kwh_per_capita",
         "rawType": "float64",
         "type": "float"
        }
       ],
       "ref": "8e07853a-f8ce-4949-bac0-a6fb99382dac",
       "rows": [
        [
         "0",
         "Germany",
         "DEU",
         "False",
         "2022",
         "Bioenergy",
         "False",
         "48.6",
         "8.57",
         "577.98",
         "-0.5",
         "-1.02",
         "0.09",
         "-5.95"
        ],
        [
         "1",
         "Germany",
         "DEU",
         "False",
         "2022",
         "Coal",
         "False",
         "179.93",
         "31.74",
         "2139.83",
         "15.28",
         "9.28",
         "3.29",
         "181.72"
        ],
        [
         "2",
         "Germany",
         "DEU",
         "False",
         "2022",
         "Gas",
         "False",
         "79.05",
         "13.94",
         "940.11",
         "-11.26",
         "-12.47",
         "-1.66",
         "-133.91"
        ],
        [
         "3",
         "Germany",
         "DEU",
         "False",
         "2022",
         "Hydro",
         "False",
         "17.62",
         "3.11",
         "209.55",
         "-2.04",
         "-10.38",
         "-0.29",
         "-24.26"
        ],
        [
         "4",
         "Germany",
         "DEU",
         "False",
         "2022",
         "Nuclear",
         "False",
         "34.71",
         "6.12",
         "412.79",
         "-34.42",
         "-49.79",
         "-5.82",
         "-409.34"
        ]
       ],
       "shape": {
        "columns": 13,
        "rows": 5
       }
      },
      "text/html": [
       "<div>\n",
       "<style scoped>\n",
       "    .dataframe tbody tr th:only-of-type {\n",
       "        vertical-align: middle;\n",
       "    }\n",
       "\n",
       "    .dataframe tbody tr th {\n",
       "        vertical-align: top;\n",
       "    }\n",
       "\n",
       "    .dataframe thead th {\n",
       "        text-align: right;\n",
       "    }\n",
       "</style>\n",
       "<table border=\"1\" class=\"dataframe\">\n",
       "  <thead>\n",
       "    <tr style=\"text-align: right;\">\n",
       "      <th></th>\n",
       "      <th>entity</th>\n",
       "      <th>entity_code</th>\n",
       "      <th>is_aggregate_entity</th>\n",
       "      <th>date</th>\n",
       "      <th>series</th>\n",
       "      <th>is_aggregate_series</th>\n",
       "      <th>generation_twh</th>\n",
       "      <th>generation_share_pct</th>\n",
       "      <th>generation_kwh_per_capita</th>\n",
       "      <th>generation_yoy_change_twh</th>\n",
       "      <th>generation_yoy_change_pct</th>\n",
       "      <th>generation_share_yoy_change_pct_points</th>\n",
       "      <th>generation_yoy_change_kwh_per_capita</th>\n",
       "    </tr>\n",
       "  </thead>\n",
       "  <tbody>\n",
       "    <tr>\n",
       "      <th>0</th>\n",
       "      <td>Germany</td>\n",
       "      <td>DEU</td>\n",
       "      <td>False</td>\n",
       "      <td>2022</td>\n",
       "      <td>Bioenergy</td>\n",
       "      <td>False</td>\n",
       "      <td>48.60</td>\n",
       "      <td>8.57</td>\n",
       "      <td>577.98</td>\n",
       "      <td>-0.50</td>\n",
       "      <td>-1.02</td>\n",
       "      <td>0.09</td>\n",
       "      <td>-5.95</td>\n",
       "    </tr>\n",
       "    <tr>\n",
       "      <th>1</th>\n",
       "      <td>Germany</td>\n",
       "      <td>DEU</td>\n",
       "      <td>False</td>\n",
       "      <td>2022</td>\n",
       "      <td>Coal</td>\n",
       "      <td>False</td>\n",
       "      <td>179.93</td>\n",
       "      <td>31.74</td>\n",
       "      <td>2139.83</td>\n",
       "      <td>15.28</td>\n",
       "      <td>9.28</td>\n",
       "      <td>3.29</td>\n",
       "      <td>181.72</td>\n",
       "    </tr>\n",
       "    <tr>\n",
       "      <th>2</th>\n",
       "      <td>Germany</td>\n",
       "      <td>DEU</td>\n",
       "      <td>False</td>\n",
       "      <td>2022</td>\n",
       "      <td>Gas</td>\n",
       "      <td>False</td>\n",
       "      <td>79.05</td>\n",
       "      <td>13.94</td>\n",
       "      <td>940.11</td>\n",
       "      <td>-11.26</td>\n",
       "      <td>-12.47</td>\n",
       "      <td>-1.66</td>\n",
       "      <td>-133.91</td>\n",
       "    </tr>\n",
       "    <tr>\n",
       "      <th>3</th>\n",
       "      <td>Germany</td>\n",
       "      <td>DEU</td>\n",
       "      <td>False</td>\n",
       "      <td>2022</td>\n",
       "      <td>Hydro</td>\n",
       "      <td>False</td>\n",
       "      <td>17.62</td>\n",
       "      <td>3.11</td>\n",
       "      <td>209.55</td>\n",
       "      <td>-2.04</td>\n",
       "      <td>-10.38</td>\n",
       "      <td>-0.29</td>\n",
       "      <td>-24.26</td>\n",
       "    </tr>\n",
       "    <tr>\n",
       "      <th>4</th>\n",
       "      <td>Germany</td>\n",
       "      <td>DEU</td>\n",
       "      <td>False</td>\n",
       "      <td>2022</td>\n",
       "      <td>Nuclear</td>\n",
       "      <td>False</td>\n",
       "      <td>34.71</td>\n",
       "      <td>6.12</td>\n",
       "      <td>412.79</td>\n",
       "      <td>-34.42</td>\n",
       "      <td>-49.79</td>\n",
       "      <td>-5.82</td>\n",
       "      <td>-409.34</td>\n",
       "    </tr>\n",
       "  </tbody>\n",
       "</table>\n",
       "</div>"
      ],
      "text/plain": [
       "    entity entity_code  is_aggregate_entity  date     series  \\\n",
       "0  Germany         DEU                False  2022  Bioenergy   \n",
       "1  Germany         DEU                False  2022       Coal   \n",
       "2  Germany         DEU                False  2022        Gas   \n",
       "3  Germany         DEU                False  2022      Hydro   \n",
       "4  Germany         DEU                False  2022    Nuclear   \n",
       "\n",
       "   is_aggregate_series  generation_twh  generation_share_pct  \\\n",
       "0                False           48.60                  8.57   \n",
       "1                False          179.93                 31.74   \n",
       "2                False           79.05                 13.94   \n",
       "3                False           17.62                  3.11   \n",
       "4                False           34.71                  6.12   \n",
       "\n",
       "   generation_kwh_per_capita  generation_yoy_change_twh  \\\n",
       "0                     577.98                      -0.50   \n",
       "1                    2139.83                      15.28   \n",
       "2                     940.11                     -11.26   \n",
       "3                     209.55                      -2.04   \n",
       "4                     412.79                     -34.42   \n",
       "\n",
       "   generation_yoy_change_pct  generation_share_yoy_change_pct_points  \\\n",
       "0                      -1.02                                    0.09   \n",
       "1                       9.28                                    3.29   \n",
       "2                     -12.47                                   -1.66   \n",
       "3                     -10.38                                   -0.29   \n",
       "4                     -49.79                                   -5.82   \n",
       "\n",
       "   generation_yoy_change_kwh_per_capita  \n",
       "0                                 -5.95  \n",
       "1                                181.72  \n",
       "2                               -133.91  \n",
       "3                                -24.26  \n",
       "4                               -409.34  "
      ]
     },
     "execution_count": 31,
     "metadata": {},
     "output_type": "execute_result"
    }
   ],
   "source": [
    "df_ger = df[df[\"entity\"] == \"Germany\"]\n",
    "df_ger = df_ger[df_ger[\"series\"] != \"Total generation\"]\n",
    "df_ger.head()"
   ]
  },
  {
   "cell_type": "code",
   "execution_count": 32,
   "id": "aa83e854c980f59",
   "metadata": {
    "ExecuteTime": {
     "end_time": "2025-09-18T12:25:39.998278Z",
     "start_time": "2025-09-18T12:25:39.626029Z"
    }
   },
   "outputs": [
    {
     "data": {
      "application/vnd.plotly.v1+json": {
       "config": {
        "plotlyServerURL": "https://plot.ly"
       },
       "data": [
        {
         "insidetextanchor": "middle",
         "name": "Bioenergy",
         "text": [
          "8.6%",
          "9.2%",
          "9.6%"
         ],
         "textposition": "inside",
         "type": "bar",
         "x": {
          "bdata": "5gfnB+gH",
          "dtype": "i2"
         },
         "y": {
          "bdata": "pHA9CtcjIUDsUbgehWsiQClcj8L1KCNA",
          "dtype": "f8"
         }
        },
        {
         "insidetextanchor": "middle",
         "name": "Coal",
         "text": [
          "31.7%",
          "25.1%",
          "21.8%"
         ],
         "textposition": "inside",
         "type": "bar",
         "x": {
          "bdata": "5gfnB+gH",
          "dtype": "i2"
         },
         "y": {
          "bdata": "PQrXo3C9P0AUrkfhehQ5QEjhehSuxzVA",
          "dtype": "f8"
         }
        },
        {
         "insidetextanchor": "middle",
         "name": "Gas",
         "text": [
          "13.9%",
          "15.4%",
          "16.4%"
         ],
         "textposition": "inside",
         "type": "bar",
         "x": {
          "bdata": "5gfnB+gH",
          "dtype": "i2"
         },
         "y": {
          "bdata": "4XoUrkfhK0DD9Shcj8IuQJqZmZmZWTBA",
          "dtype": "f8"
         }
        },
        {
         "insidetextanchor": "middle",
         "name": "Hydro",
         "text": [
          "3.1%",
          "4.0%",
          "4.9%"
         ],
         "textposition": "inside",
         "type": "bar",
         "x": {
          "bdata": "5gfnB+gH",
          "dtype": "i2"
         },
         "y": {
          "bdata": "4XoUrkfhCEDsUbgehesPQI/C9ShcjxNA",
          "dtype": "f8"
         }
        },
        {
         "insidetextanchor": "middle",
         "name": "Nuclear",
         "text": [
          "6.1%",
          "1.4%",
          "0.0%"
         ],
         "textposition": "inside",
         "type": "bar",
         "x": {
          "bdata": "5gfnB+gH",
          "dtype": "i2"
         },
         "y": {
          "bdata": "exSuR+F6GEAzMzMzMzP3PwAAAAAAAAAA",
          "dtype": "f8"
         }
        },
        {
         "insidetextanchor": "middle",
         "name": "Other fossil",
         "text": [
          "3.8%",
          "4.4%",
          "4.0%"
         ],
         "textposition": "inside",
         "type": "bar",
         "x": {
          "bdata": "5gfnB+gH",
          "dtype": "i2"
         },
         "y": {
          "bdata": "j8L1KFyPDkC4HoXrUbgRQDMzMzMzMxBA",
          "dtype": "f8"
         }
        },
        {
         "insidetextanchor": "middle",
         "name": "Other renewables",
         "text": [
          "0.0%",
          "0.0%",
          "0.0%"
         ],
         "textposition": "inside",
         "type": "bar",
         "x": {
          "bdata": "5gfnB+gH",
          "dtype": "i2"
         },
         "y": {
          "bdata": "exSuR+F6pD97FK5H4XqkP3sUrkfheqQ/",
          "dtype": "f8"
         }
        },
        {
         "insidetextanchor": "middle",
         "name": "Solar",
         "text": [
          "10.6%",
          "12.8%",
          "15.5%"
         ],
         "textposition": "inside",
         "type": "bar",
         "x": {
          "bdata": "5gfnB+gH",
          "dtype": "i2"
         },
         "y": {
          "bdata": "SOF6FK5HJUCkcD0K16MpQOxRuB6F6y5A",
          "dtype": "f8"
         }
        },
        {
         "insidetextanchor": "middle",
         "name": "Wind",
         "text": [
          "22.0%",
          "27.6%",
          "27.8%"
         ],
         "textposition": "inside",
         "type": "bar",
         "x": {
          "bdata": "5gfnB+gH",
          "dtype": "i2"
         },
         "y": {
          "bdata": "hetRuB4FNkCamZmZmZk7QJqZmZmZ2TtA",
          "dtype": "f8"
         }
        }
       ],
       "layout": {
        "barmode": "stack",
        "height": 800,
        "legend": {
         "title": {
          "text": "Generation Share (%)"
         }
        },
        "template": {
         "data": {
          "bar": [
           {
            "error_x": {
             "color": "#2a3f5f"
            },
            "error_y": {
             "color": "#2a3f5f"
            },
            "marker": {
             "line": {
              "color": "white",
              "width": 0.5
             },
             "pattern": {
              "fillmode": "overlay",
              "size": 10,
              "solidity": 0.2
             }
            },
            "type": "bar"
           }
          ],
          "barpolar": [
           {
            "marker": {
             "line": {
              "color": "white",
              "width": 0.5
             },
             "pattern": {
              "fillmode": "overlay",
              "size": 10,
              "solidity": 0.2
             }
            },
            "type": "barpolar"
           }
          ],
          "carpet": [
           {
            "aaxis": {
             "endlinecolor": "#2a3f5f",
             "gridcolor": "#C8D4E3",
             "linecolor": "#C8D4E3",
             "minorgridcolor": "#C8D4E3",
             "startlinecolor": "#2a3f5f"
            },
            "baxis": {
             "endlinecolor": "#2a3f5f",
             "gridcolor": "#C8D4E3",
             "linecolor": "#C8D4E3",
             "minorgridcolor": "#C8D4E3",
             "startlinecolor": "#2a3f5f"
            },
            "type": "carpet"
           }
          ],
          "choropleth": [
           {
            "colorbar": {
             "outlinewidth": 0,
             "ticks": ""
            },
            "type": "choropleth"
           }
          ],
          "contour": [
           {
            "colorbar": {
             "outlinewidth": 0,
             "ticks": ""
            },
            "colorscale": [
             [
              0,
              "#0d0887"
             ],
             [
              0.1111111111111111,
              "#46039f"
             ],
             [
              0.2222222222222222,
              "#7201a8"
             ],
             [
              0.3333333333333333,
              "#9c179e"
             ],
             [
              0.4444444444444444,
              "#bd3786"
             ],
             [
              0.5555555555555556,
              "#d8576b"
             ],
             [
              0.6666666666666666,
              "#ed7953"
             ],
             [
              0.7777777777777778,
              "#fb9f3a"
             ],
             [
              0.8888888888888888,
              "#fdca26"
             ],
             [
              1,
              "#f0f921"
             ]
            ],
            "type": "contour"
           }
          ],
          "contourcarpet": [
           {
            "colorbar": {
             "outlinewidth": 0,
             "ticks": ""
            },
            "type": "contourcarpet"
           }
          ],
          "heatmap": [
           {
            "colorbar": {
             "outlinewidth": 0,
             "ticks": ""
            },
            "colorscale": [
             [
              0,
              "#0d0887"
             ],
             [
              0.1111111111111111,
              "#46039f"
             ],
             [
              0.2222222222222222,
              "#7201a8"
             ],
             [
              0.3333333333333333,
              "#9c179e"
             ],
             [
              0.4444444444444444,
              "#bd3786"
             ],
             [
              0.5555555555555556,
              "#d8576b"
             ],
             [
              0.6666666666666666,
              "#ed7953"
             ],
             [
              0.7777777777777778,
              "#fb9f3a"
             ],
             [
              0.8888888888888888,
              "#fdca26"
             ],
             [
              1,
              "#f0f921"
             ]
            ],
            "type": "heatmap"
           }
          ],
          "histogram": [
           {
            "marker": {
             "pattern": {
              "fillmode": "overlay",
              "size": 10,
              "solidity": 0.2
             }
            },
            "type": "histogram"
           }
          ],
          "histogram2d": [
           {
            "colorbar": {
             "outlinewidth": 0,
             "ticks": ""
            },
            "colorscale": [
             [
              0,
              "#0d0887"
             ],
             [
              0.1111111111111111,
              "#46039f"
             ],
             [
              0.2222222222222222,
              "#7201a8"
             ],
             [
              0.3333333333333333,
              "#9c179e"
             ],
             [
              0.4444444444444444,
              "#bd3786"
             ],
             [
              0.5555555555555556,
              "#d8576b"
             ],
             [
              0.6666666666666666,
              "#ed7953"
             ],
             [
              0.7777777777777778,
              "#fb9f3a"
             ],
             [
              0.8888888888888888,
              "#fdca26"
             ],
             [
              1,
              "#f0f921"
             ]
            ],
            "type": "histogram2d"
           }
          ],
          "histogram2dcontour": [
           {
            "colorbar": {
             "outlinewidth": 0,
             "ticks": ""
            },
            "colorscale": [
             [
              0,
              "#0d0887"
             ],
             [
              0.1111111111111111,
              "#46039f"
             ],
             [
              0.2222222222222222,
              "#7201a8"
             ],
             [
              0.3333333333333333,
              "#9c179e"
             ],
             [
              0.4444444444444444,
              "#bd3786"
             ],
             [
              0.5555555555555556,
              "#d8576b"
             ],
             [
              0.6666666666666666,
              "#ed7953"
             ],
             [
              0.7777777777777778,
              "#fb9f3a"
             ],
             [
              0.8888888888888888,
              "#fdca26"
             ],
             [
              1,
              "#f0f921"
             ]
            ],
            "type": "histogram2dcontour"
           }
          ],
          "mesh3d": [
           {
            "colorbar": {
             "outlinewidth": 0,
             "ticks": ""
            },
            "type": "mesh3d"
           }
          ],
          "parcoords": [
           {
            "line": {
             "colorbar": {
              "outlinewidth": 0,
              "ticks": ""
             }
            },
            "type": "parcoords"
           }
          ],
          "pie": [
           {
            "automargin": true,
            "type": "pie"
           }
          ],
          "scatter": [
           {
            "fillpattern": {
             "fillmode": "overlay",
             "size": 10,
             "solidity": 0.2
            },
            "type": "scatter"
           }
          ],
          "scatter3d": [
           {
            "line": {
             "colorbar": {
              "outlinewidth": 0,
              "ticks": ""
             }
            },
            "marker": {
             "colorbar": {
              "outlinewidth": 0,
              "ticks": ""
             }
            },
            "type": "scatter3d"
           }
          ],
          "scattercarpet": [
           {
            "marker": {
             "colorbar": {
              "outlinewidth": 0,
              "ticks": ""
             }
            },
            "type": "scattercarpet"
           }
          ],
          "scattergeo": [
           {
            "marker": {
             "colorbar": {
              "outlinewidth": 0,
              "ticks": ""
             }
            },
            "type": "scattergeo"
           }
          ],
          "scattergl": [
           {
            "marker": {
             "colorbar": {
              "outlinewidth": 0,
              "ticks": ""
             }
            },
            "type": "scattergl"
           }
          ],
          "scattermap": [
           {
            "marker": {
             "colorbar": {
              "outlinewidth": 0,
              "ticks": ""
             }
            },
            "type": "scattermap"
           }
          ],
          "scattermapbox": [
           {
            "marker": {
             "colorbar": {
              "outlinewidth": 0,
              "ticks": ""
             }
            },
            "type": "scattermapbox"
           }
          ],
          "scatterpolar": [
           {
            "marker": {
             "colorbar": {
              "outlinewidth": 0,
              "ticks": ""
             }
            },
            "type": "scatterpolar"
           }
          ],
          "scatterpolargl": [
           {
            "marker": {
             "colorbar": {
              "outlinewidth": 0,
              "ticks": ""
             }
            },
            "type": "scatterpolargl"
           }
          ],
          "scatterternary": [
           {
            "marker": {
             "colorbar": {
              "outlinewidth": 0,
              "ticks": ""
             }
            },
            "type": "scatterternary"
           }
          ],
          "surface": [
           {
            "colorbar": {
             "outlinewidth": 0,
             "ticks": ""
            },
            "colorscale": [
             [
              0,
              "#0d0887"
             ],
             [
              0.1111111111111111,
              "#46039f"
             ],
             [
              0.2222222222222222,
              "#7201a8"
             ],
             [
              0.3333333333333333,
              "#9c179e"
             ],
             [
              0.4444444444444444,
              "#bd3786"
             ],
             [
              0.5555555555555556,
              "#d8576b"
             ],
             [
              0.6666666666666666,
              "#ed7953"
             ],
             [
              0.7777777777777778,
              "#fb9f3a"
             ],
             [
              0.8888888888888888,
              "#fdca26"
             ],
             [
              1,
              "#f0f921"
             ]
            ],
            "type": "surface"
           }
          ],
          "table": [
           {
            "cells": {
             "fill": {
              "color": "#EBF0F8"
             },
             "line": {
              "color": "white"
             }
            },
            "header": {
             "fill": {
              "color": "#C8D4E3"
             },
             "line": {
              "color": "white"
             }
            },
            "type": "table"
           }
          ]
         },
         "layout": {
          "annotationdefaults": {
           "arrowcolor": "#2a3f5f",
           "arrowhead": 0,
           "arrowwidth": 1
          },
          "autotypenumbers": "strict",
          "coloraxis": {
           "colorbar": {
            "outlinewidth": 0,
            "ticks": ""
           }
          },
          "colorscale": {
           "diverging": [
            [
             0,
             "#8e0152"
            ],
            [
             0.1,
             "#c51b7d"
            ],
            [
             0.2,
             "#de77ae"
            ],
            [
             0.3,
             "#f1b6da"
            ],
            [
             0.4,
             "#fde0ef"
            ],
            [
             0.5,
             "#f7f7f7"
            ],
            [
             0.6,
             "#e6f5d0"
            ],
            [
             0.7,
             "#b8e186"
            ],
            [
             0.8,
             "#7fbc41"
            ],
            [
             0.9,
             "#4d9221"
            ],
            [
             1,
             "#276419"
            ]
           ],
           "sequential": [
            [
             0,
             "#0d0887"
            ],
            [
             0.1111111111111111,
             "#46039f"
            ],
            [
             0.2222222222222222,
             "#7201a8"
            ],
            [
             0.3333333333333333,
             "#9c179e"
            ],
            [
             0.4444444444444444,
             "#bd3786"
            ],
            [
             0.5555555555555556,
             "#d8576b"
            ],
            [
             0.6666666666666666,
             "#ed7953"
            ],
            [
             0.7777777777777778,
             "#fb9f3a"
            ],
            [
             0.8888888888888888,
             "#fdca26"
            ],
            [
             1,
             "#f0f921"
            ]
           ],
           "sequentialminus": [
            [
             0,
             "#0d0887"
            ],
            [
             0.1111111111111111,
             "#46039f"
            ],
            [
             0.2222222222222222,
             "#7201a8"
            ],
            [
             0.3333333333333333,
             "#9c179e"
            ],
            [
             0.4444444444444444,
             "#bd3786"
            ],
            [
             0.5555555555555556,
             "#d8576b"
            ],
            [
             0.6666666666666666,
             "#ed7953"
            ],
            [
             0.7777777777777778,
             "#fb9f3a"
            ],
            [
             0.8888888888888888,
             "#fdca26"
            ],
            [
             1,
             "#f0f921"
            ]
           ]
          },
          "colorway": [
           "#636efa",
           "#EF553B",
           "#00cc96",
           "#ab63fa",
           "#FFA15A",
           "#19d3f3",
           "#FF6692",
           "#B6E880",
           "#FF97FF",
           "#FECB52"
          ],
          "font": {
           "color": "#2a3f5f"
          },
          "geo": {
           "bgcolor": "white",
           "lakecolor": "white",
           "landcolor": "white",
           "showlakes": true,
           "showland": true,
           "subunitcolor": "#C8D4E3"
          },
          "hoverlabel": {
           "align": "left"
          },
          "hovermode": "closest",
          "mapbox": {
           "style": "light"
          },
          "paper_bgcolor": "white",
          "plot_bgcolor": "white",
          "polar": {
           "angularaxis": {
            "gridcolor": "#EBF0F8",
            "linecolor": "#EBF0F8",
            "ticks": ""
           },
           "bgcolor": "white",
           "radialaxis": {
            "gridcolor": "#EBF0F8",
            "linecolor": "#EBF0F8",
            "ticks": ""
           }
          },
          "scene": {
           "xaxis": {
            "backgroundcolor": "white",
            "gridcolor": "#DFE8F3",
            "gridwidth": 2,
            "linecolor": "#EBF0F8",
            "showbackground": true,
            "ticks": "",
            "zerolinecolor": "#EBF0F8"
           },
           "yaxis": {
            "backgroundcolor": "white",
            "gridcolor": "#DFE8F3",
            "gridwidth": 2,
            "linecolor": "#EBF0F8",
            "showbackground": true,
            "ticks": "",
            "zerolinecolor": "#EBF0F8"
           },
           "zaxis": {
            "backgroundcolor": "white",
            "gridcolor": "#DFE8F3",
            "gridwidth": 2,
            "linecolor": "#EBF0F8",
            "showbackground": true,
            "ticks": "",
            "zerolinecolor": "#EBF0F8"
           }
          },
          "shapedefaults": {
           "line": {
            "color": "#2a3f5f"
           }
          },
          "ternary": {
           "aaxis": {
            "gridcolor": "#DFE8F3",
            "linecolor": "#A2B1C6",
            "ticks": ""
           },
           "baxis": {
            "gridcolor": "#DFE8F3",
            "linecolor": "#A2B1C6",
            "ticks": ""
           },
           "bgcolor": "white",
           "caxis": {
            "gridcolor": "#DFE8F3",
            "linecolor": "#A2B1C6",
            "ticks": ""
           }
          },
          "title": {
           "x": 0.05
          },
          "xaxis": {
           "automargin": true,
           "gridcolor": "#EBF0F8",
           "linecolor": "#EBF0F8",
           "ticks": "",
           "title": {
            "standoff": 15
           },
           "zerolinecolor": "#EBF0F8",
           "zerolinewidth": 2
          },
          "yaxis": {
           "automargin": true,
           "gridcolor": "#EBF0F8",
           "linecolor": "#EBF0F8",
           "ticks": "",
           "title": {
            "standoff": 15
           },
           "zerolinecolor": "#EBF0F8",
           "zerolinewidth": 2
          }
         }
        },
        "title": {
         "font": {
          "size": 20
         },
         "text": "<b>Germany Electricity Generation Share by Source from 2022 to 2024</b>"
        },
        "width": 1200,
        "xaxis": {
         "tickmode": "array",
         "ticktext": [
          "2022",
          "2023",
          "2024"
         ],
         "tickvals": {
          "bdata": "5gfnB+gH",
          "dtype": "i2"
         },
         "title": {
          "text": "Year"
         }
        },
        "yaxis": {
         "title": {
          "text": "Generation Share (%)"
         }
        }
       }
      }
     },
     "metadata": {},
     "output_type": "display_data"
    }
   ],
   "source": [
    "plot_electricity_gen_share(df_ger, \"Germany\", save_as_html=True)"
   ]
  },
  {
   "cell_type": "markdown",
   "id": "5ba72f60",
   "metadata": {},
   "source": [
    "## Plot 2 - Bar plot of electricity generation share by source for denmark from 2022 to 2024"
   ]
  },
  {
   "cell_type": "code",
   "execution_count": 33,
   "id": "29e198020abe6a30",
   "metadata": {},
   "outputs": [
    {
     "data": {
      "application/vnd.microsoft.datawrangler.viewer.v0+json": {
       "columns": [
        {
         "name": "index",
         "rawType": "int64",
         "type": "integer"
        },
        {
         "name": "entity",
         "rawType": "object",
         "type": "string"
        },
        {
         "name": "entity_code",
         "rawType": "object",
         "type": "string"
        },
        {
         "name": "is_aggregate_entity",
         "rawType": "bool",
         "type": "boolean"
        },
        {
         "name": "date",
         "rawType": "int64",
         "type": "integer"
        },
        {
         "name": "series",
         "rawType": "object",
         "type": "string"
        },
        {
         "name": "is_aggregate_series",
         "rawType": "bool",
         "type": "boolean"
        },
        {
         "name": "generation_twh",
         "rawType": "float64",
         "type": "float"
        },
        {
         "name": "generation_share_pct",
         "rawType": "float64",
         "type": "float"
        },
        {
         "name": "generation_kwh_per_capita",
         "rawType": "float64",
         "type": "float"
        },
        {
         "name": "generation_yoy_change_twh",
         "rawType": "float64",
         "type": "float"
        },
        {
         "name": "generation_yoy_change_pct",
         "rawType": "float64",
         "type": "float"
        },
        {
         "name": "generation_share_yoy_change_pct_points",
         "rawType": "float64",
         "type": "float"
        },
        {
         "name": "generation_yoy_change_kwh_per_capita",
         "rawType": "float64",
         "type": "float"
        }
       ],
       "ref": "a8adda04-feb2-4a23-ab9c-14e9a4139b16",
       "rows": [
        [
         "30",
         "Denmark",
         "DNK",
         "False",
         "2022",
         "Bioenergy",
         "False",
         "7.27",
         "20.78",
         "1231.6",
         "-1.45",
         "-16.63",
         "-5.71",
         "-245.64"
        ],
        [
         "31",
         "Denmark",
         "DNK",
         "False",
         "2022",
         "Coal",
         "False",
         "4.43",
         "12.66",
         "750.48",
         "0.06",
         "1.37",
         "-0.61",
         "10.16"
        ],
        [
         "32",
         "Denmark",
         "DNK",
         "False",
         "2022",
         "Gas",
         "False",
         "1.02",
         "2.92",
         "172.8",
         "-0.52",
         "-33.77",
         "-1.76",
         "-88.09"
        ],
        [
         "33",
         "Denmark",
         "DNK",
         "False",
         "2022",
         "Hydro",
         "False",
         "0.01",
         "0.03",
         "1.69",
         "-0.01",
         "-50.0",
         "-0.03",
         "-1.69"
        ],
        [
         "34",
         "Denmark",
         "DNK",
         "False",
         "2022",
         "Nuclear",
         "False",
         "0.0",
         "0.0",
         "0.0",
         "0.0",
         null,
         "0.0",
         "0.0"
        ]
       ],
       "shape": {
        "columns": 13,
        "rows": 5
       }
      },
      "text/html": [
       "<div>\n",
       "<style scoped>\n",
       "    .dataframe tbody tr th:only-of-type {\n",
       "        vertical-align: middle;\n",
       "    }\n",
       "\n",
       "    .dataframe tbody tr th {\n",
       "        vertical-align: top;\n",
       "    }\n",
       "\n",
       "    .dataframe thead th {\n",
       "        text-align: right;\n",
       "    }\n",
       "</style>\n",
       "<table border=\"1\" class=\"dataframe\">\n",
       "  <thead>\n",
       "    <tr style=\"text-align: right;\">\n",
       "      <th></th>\n",
       "      <th>entity</th>\n",
       "      <th>entity_code</th>\n",
       "      <th>is_aggregate_entity</th>\n",
       "      <th>date</th>\n",
       "      <th>series</th>\n",
       "      <th>is_aggregate_series</th>\n",
       "      <th>generation_twh</th>\n",
       "      <th>generation_share_pct</th>\n",
       "      <th>generation_kwh_per_capita</th>\n",
       "      <th>generation_yoy_change_twh</th>\n",
       "      <th>generation_yoy_change_pct</th>\n",
       "      <th>generation_share_yoy_change_pct_points</th>\n",
       "      <th>generation_yoy_change_kwh_per_capita</th>\n",
       "    </tr>\n",
       "  </thead>\n",
       "  <tbody>\n",
       "    <tr>\n",
       "      <th>30</th>\n",
       "      <td>Denmark</td>\n",
       "      <td>DNK</td>\n",
       "      <td>False</td>\n",
       "      <td>2022</td>\n",
       "      <td>Bioenergy</td>\n",
       "      <td>False</td>\n",
       "      <td>7.27</td>\n",
       "      <td>20.78</td>\n",
       "      <td>1231.60</td>\n",
       "      <td>-1.45</td>\n",
       "      <td>-16.63</td>\n",
       "      <td>-5.71</td>\n",
       "      <td>-245.64</td>\n",
       "    </tr>\n",
       "    <tr>\n",
       "      <th>31</th>\n",
       "      <td>Denmark</td>\n",
       "      <td>DNK</td>\n",
       "      <td>False</td>\n",
       "      <td>2022</td>\n",
       "      <td>Coal</td>\n",
       "      <td>False</td>\n",
       "      <td>4.43</td>\n",
       "      <td>12.66</td>\n",
       "      <td>750.48</td>\n",
       "      <td>0.06</td>\n",
       "      <td>1.37</td>\n",
       "      <td>-0.61</td>\n",
       "      <td>10.16</td>\n",
       "    </tr>\n",
       "    <tr>\n",
       "      <th>32</th>\n",
       "      <td>Denmark</td>\n",
       "      <td>DNK</td>\n",
       "      <td>False</td>\n",
       "      <td>2022</td>\n",
       "      <td>Gas</td>\n",
       "      <td>False</td>\n",
       "      <td>1.02</td>\n",
       "      <td>2.92</td>\n",
       "      <td>172.80</td>\n",
       "      <td>-0.52</td>\n",
       "      <td>-33.77</td>\n",
       "      <td>-1.76</td>\n",
       "      <td>-88.09</td>\n",
       "    </tr>\n",
       "    <tr>\n",
       "      <th>33</th>\n",
       "      <td>Denmark</td>\n",
       "      <td>DNK</td>\n",
       "      <td>False</td>\n",
       "      <td>2022</td>\n",
       "      <td>Hydro</td>\n",
       "      <td>False</td>\n",
       "      <td>0.01</td>\n",
       "      <td>0.03</td>\n",
       "      <td>1.69</td>\n",
       "      <td>-0.01</td>\n",
       "      <td>-50.00</td>\n",
       "      <td>-0.03</td>\n",
       "      <td>-1.69</td>\n",
       "    </tr>\n",
       "    <tr>\n",
       "      <th>34</th>\n",
       "      <td>Denmark</td>\n",
       "      <td>DNK</td>\n",
       "      <td>False</td>\n",
       "      <td>2022</td>\n",
       "      <td>Nuclear</td>\n",
       "      <td>False</td>\n",
       "      <td>0.00</td>\n",
       "      <td>0.00</td>\n",
       "      <td>0.00</td>\n",
       "      <td>0.00</td>\n",
       "      <td>NaN</td>\n",
       "      <td>0.00</td>\n",
       "      <td>0.00</td>\n",
       "    </tr>\n",
       "  </tbody>\n",
       "</table>\n",
       "</div>"
      ],
      "text/plain": [
       "     entity entity_code  is_aggregate_entity  date     series  \\\n",
       "30  Denmark         DNK                False  2022  Bioenergy   \n",
       "31  Denmark         DNK                False  2022       Coal   \n",
       "32  Denmark         DNK                False  2022        Gas   \n",
       "33  Denmark         DNK                False  2022      Hydro   \n",
       "34  Denmark         DNK                False  2022    Nuclear   \n",
       "\n",
       "    is_aggregate_series  generation_twh  generation_share_pct  \\\n",
       "30                False            7.27                 20.78   \n",
       "31                False            4.43                 12.66   \n",
       "32                False            1.02                  2.92   \n",
       "33                False            0.01                  0.03   \n",
       "34                False            0.00                  0.00   \n",
       "\n",
       "    generation_kwh_per_capita  generation_yoy_change_twh  \\\n",
       "30                    1231.60                      -1.45   \n",
       "31                     750.48                       0.06   \n",
       "32                     172.80                      -0.52   \n",
       "33                       1.69                      -0.01   \n",
       "34                       0.00                       0.00   \n",
       "\n",
       "    generation_yoy_change_pct  generation_share_yoy_change_pct_points  \\\n",
       "30                     -16.63                                   -5.71   \n",
       "31                       1.37                                   -0.61   \n",
       "32                     -33.77                                   -1.76   \n",
       "33                     -50.00                                   -0.03   \n",
       "34                        NaN                                    0.00   \n",
       "\n",
       "    generation_yoy_change_kwh_per_capita  \n",
       "30                               -245.64  \n",
       "31                                 10.16  \n",
       "32                                -88.09  \n",
       "33                                 -1.69  \n",
       "34                                  0.00  "
      ]
     },
     "execution_count": 33,
     "metadata": {},
     "output_type": "execute_result"
    }
   ],
   "source": [
    "df_den = df[df[\"entity\"] == \"Denmark\"]\n",
    "df_den = df_den[df_den[\"series\"] != \"Total generation\"]\n",
    "df_den.head()"
   ]
  },
  {
   "cell_type": "code",
   "execution_count": 34,
   "id": "25908e7f",
   "metadata": {},
   "outputs": [
    {
     "data": {
      "application/vnd.plotly.v1+json": {
       "config": {
        "plotlyServerURL": "https://plot.ly"
       },
       "data": [
        {
         "insidetextanchor": "middle",
         "name": "Bioenergy",
         "text": [
          "20.8%",
          "19.1%",
          "18.8%"
         ],
         "textposition": "inside",
         "type": "bar",
         "x": {
          "bdata": "5gfnB+gH",
          "dtype": "i2"
         },
         "y": {
          "bdata": "SOF6FK7HNECamZmZmRkzQFK4HoXr0TJA",
          "dtype": "f8"
         }
        },
        {
         "insidetextanchor": "middle",
         "name": "Coal",
         "text": [
          "12.7%",
          "7.5%",
          "7.0%"
         ],
         "textposition": "inside",
         "type": "bar",
         "x": {
          "bdata": "5gfnB+gH",
          "dtype": "i2"
         },
         "y": {
          "bdata": "UrgehetRKUAK16NwPQoeQB+F61G4HhxA",
          "dtype": "f8"
         }
        },
        {
         "insidetextanchor": "middle",
         "name": "Gas",
         "text": [
          "2.9%",
          "3.0%",
          "2.5%"
         ],
         "textposition": "inside",
         "type": "bar",
         "x": {
          "bdata": "5gfnB+gH",
          "dtype": "i2"
         },
         "y": {
          "bdata": "XI/C9ShcB0DD9Shcj8IHQFK4HoXrUQRA",
          "dtype": "f8"
         }
        },
        {
         "insidetextanchor": "middle",
         "name": "Hydro",
         "text": [
          "0.0%",
          "0.1%",
          "0.1%"
         ],
         "textposition": "inside",
         "type": "bar",
         "x": {
          "bdata": "5gfnB+gH",
          "dtype": "i2"
         },
         "y": {
          "bdata": "uB6F61G4nj+4HoXrUbiuP7gehetRuK4/",
          "dtype": "f8"
         }
        },
        {
         "insidetextanchor": "middle",
         "name": "Nuclear",
         "text": [
          "0.0%",
          "0.0%",
          "0.0%"
         ],
         "textposition": "inside",
         "type": "bar",
         "x": {
          "bdata": "5gfnB+gH",
          "dtype": "i2"
         },
         "y": {
          "bdata": "AAAAAAAAAAAAAAAAAAAAAAAAAAAAAAAA",
          "dtype": "f8"
         }
        },
        {
         "insidetextanchor": "middle",
         "name": "Other fossil",
         "text": [
          "2.9%",
          "2.5%",
          "2.4%"
         ],
         "textposition": "inside",
         "type": "bar",
         "x": {
          "bdata": "5gfnB+gH",
          "dtype": "i2"
         },
         "y": {
          "bdata": "hetRuB6FB0ApXI/C9SgEQPYoXI/C9QJA",
          "dtype": "f8"
         }
        },
        {
         "insidetextanchor": "middle",
         "name": "Other renewables",
         "text": [
          "0.0%",
          "0.0%",
          "0.0%"
         ],
         "textposition": "inside",
         "type": "bar",
         "x": {
          "bdata": "5gfnB+gH",
          "dtype": "i2"
         },
         "y": {
          "bdata": "AAAAAAAAAAAAAAAAAAAAAAAAAAAAAAAA",
          "dtype": "f8"
         }
        },
        {
         "insidetextanchor": "middle",
         "name": "Solar",
         "text": [
          "6.3%",
          "10.0%",
          "11.3%"
         ],
         "textposition": "inside",
         "type": "bar",
         "x": {
          "bdata": "5gfnB+gH",
          "dtype": "i2"
         },
         "y": {
          "bdata": "KVyPwvUoGUBxPQrXo/AjQIXrUbgehSZA",
          "dtype": "f8"
         }
        },
        {
         "insidetextanchor": "middle",
         "name": "Wind",
         "text": [
          "54.4%",
          "57.9%",
          "57.9%"
         ],
         "textposition": "inside",
         "type": "bar",
         "x": {
          "bdata": "5gfnB+gH",
          "dtype": "i2"
         },
         "y": {
          "bdata": "UrgehesxS0BxPQrXo/BMQNejcD0K90xA",
          "dtype": "f8"
         }
        }
       ],
       "layout": {
        "barmode": "stack",
        "height": 800,
        "legend": {
         "title": {
          "text": "Generation Share (%)"
         }
        },
        "template": {
         "data": {
          "bar": [
           {
            "error_x": {
             "color": "#2a3f5f"
            },
            "error_y": {
             "color": "#2a3f5f"
            },
            "marker": {
             "line": {
              "color": "white",
              "width": 0.5
             },
             "pattern": {
              "fillmode": "overlay",
              "size": 10,
              "solidity": 0.2
             }
            },
            "type": "bar"
           }
          ],
          "barpolar": [
           {
            "marker": {
             "line": {
              "color": "white",
              "width": 0.5
             },
             "pattern": {
              "fillmode": "overlay",
              "size": 10,
              "solidity": 0.2
             }
            },
            "type": "barpolar"
           }
          ],
          "carpet": [
           {
            "aaxis": {
             "endlinecolor": "#2a3f5f",
             "gridcolor": "#C8D4E3",
             "linecolor": "#C8D4E3",
             "minorgridcolor": "#C8D4E3",
             "startlinecolor": "#2a3f5f"
            },
            "baxis": {
             "endlinecolor": "#2a3f5f",
             "gridcolor": "#C8D4E3",
             "linecolor": "#C8D4E3",
             "minorgridcolor": "#C8D4E3",
             "startlinecolor": "#2a3f5f"
            },
            "type": "carpet"
           }
          ],
          "choropleth": [
           {
            "colorbar": {
             "outlinewidth": 0,
             "ticks": ""
            },
            "type": "choropleth"
           }
          ],
          "contour": [
           {
            "colorbar": {
             "outlinewidth": 0,
             "ticks": ""
            },
            "colorscale": [
             [
              0,
              "#0d0887"
             ],
             [
              0.1111111111111111,
              "#46039f"
             ],
             [
              0.2222222222222222,
              "#7201a8"
             ],
             [
              0.3333333333333333,
              "#9c179e"
             ],
             [
              0.4444444444444444,
              "#bd3786"
             ],
             [
              0.5555555555555556,
              "#d8576b"
             ],
             [
              0.6666666666666666,
              "#ed7953"
             ],
             [
              0.7777777777777778,
              "#fb9f3a"
             ],
             [
              0.8888888888888888,
              "#fdca26"
             ],
             [
              1,
              "#f0f921"
             ]
            ],
            "type": "contour"
           }
          ],
          "contourcarpet": [
           {
            "colorbar": {
             "outlinewidth": 0,
             "ticks": ""
            },
            "type": "contourcarpet"
           }
          ],
          "heatmap": [
           {
            "colorbar": {
             "outlinewidth": 0,
             "ticks": ""
            },
            "colorscale": [
             [
              0,
              "#0d0887"
             ],
             [
              0.1111111111111111,
              "#46039f"
             ],
             [
              0.2222222222222222,
              "#7201a8"
             ],
             [
              0.3333333333333333,
              "#9c179e"
             ],
             [
              0.4444444444444444,
              "#bd3786"
             ],
             [
              0.5555555555555556,
              "#d8576b"
             ],
             [
              0.6666666666666666,
              "#ed7953"
             ],
             [
              0.7777777777777778,
              "#fb9f3a"
             ],
             [
              0.8888888888888888,
              "#fdca26"
             ],
             [
              1,
              "#f0f921"
             ]
            ],
            "type": "heatmap"
           }
          ],
          "histogram": [
           {
            "marker": {
             "pattern": {
              "fillmode": "overlay",
              "size": 10,
              "solidity": 0.2
             }
            },
            "type": "histogram"
           }
          ],
          "histogram2d": [
           {
            "colorbar": {
             "outlinewidth": 0,
             "ticks": ""
            },
            "colorscale": [
             [
              0,
              "#0d0887"
             ],
             [
              0.1111111111111111,
              "#46039f"
             ],
             [
              0.2222222222222222,
              "#7201a8"
             ],
             [
              0.3333333333333333,
              "#9c179e"
             ],
             [
              0.4444444444444444,
              "#bd3786"
             ],
             [
              0.5555555555555556,
              "#d8576b"
             ],
             [
              0.6666666666666666,
              "#ed7953"
             ],
             [
              0.7777777777777778,
              "#fb9f3a"
             ],
             [
              0.8888888888888888,
              "#fdca26"
             ],
             [
              1,
              "#f0f921"
             ]
            ],
            "type": "histogram2d"
           }
          ],
          "histogram2dcontour": [
           {
            "colorbar": {
             "outlinewidth": 0,
             "ticks": ""
            },
            "colorscale": [
             [
              0,
              "#0d0887"
             ],
             [
              0.1111111111111111,
              "#46039f"
             ],
             [
              0.2222222222222222,
              "#7201a8"
             ],
             [
              0.3333333333333333,
              "#9c179e"
             ],
             [
              0.4444444444444444,
              "#bd3786"
             ],
             [
              0.5555555555555556,
              "#d8576b"
             ],
             [
              0.6666666666666666,
              "#ed7953"
             ],
             [
              0.7777777777777778,
              "#fb9f3a"
             ],
             [
              0.8888888888888888,
              "#fdca26"
             ],
             [
              1,
              "#f0f921"
             ]
            ],
            "type": "histogram2dcontour"
           }
          ],
          "mesh3d": [
           {
            "colorbar": {
             "outlinewidth": 0,
             "ticks": ""
            },
            "type": "mesh3d"
           }
          ],
          "parcoords": [
           {
            "line": {
             "colorbar": {
              "outlinewidth": 0,
              "ticks": ""
             }
            },
            "type": "parcoords"
           }
          ],
          "pie": [
           {
            "automargin": true,
            "type": "pie"
           }
          ],
          "scatter": [
           {
            "fillpattern": {
             "fillmode": "overlay",
             "size": 10,
             "solidity": 0.2
            },
            "type": "scatter"
           }
          ],
          "scatter3d": [
           {
            "line": {
             "colorbar": {
              "outlinewidth": 0,
              "ticks": ""
             }
            },
            "marker": {
             "colorbar": {
              "outlinewidth": 0,
              "ticks": ""
             }
            },
            "type": "scatter3d"
           }
          ],
          "scattercarpet": [
           {
            "marker": {
             "colorbar": {
              "outlinewidth": 0,
              "ticks": ""
             }
            },
            "type": "scattercarpet"
           }
          ],
          "scattergeo": [
           {
            "marker": {
             "colorbar": {
              "outlinewidth": 0,
              "ticks": ""
             }
            },
            "type": "scattergeo"
           }
          ],
          "scattergl": [
           {
            "marker": {
             "colorbar": {
              "outlinewidth": 0,
              "ticks": ""
             }
            },
            "type": "scattergl"
           }
          ],
          "scattermap": [
           {
            "marker": {
             "colorbar": {
              "outlinewidth": 0,
              "ticks": ""
             }
            },
            "type": "scattermap"
           }
          ],
          "scattermapbox": [
           {
            "marker": {
             "colorbar": {
              "outlinewidth": 0,
              "ticks": ""
             }
            },
            "type": "scattermapbox"
           }
          ],
          "scatterpolar": [
           {
            "marker": {
             "colorbar": {
              "outlinewidth": 0,
              "ticks": ""
             }
            },
            "type": "scatterpolar"
           }
          ],
          "scatterpolargl": [
           {
            "marker": {
             "colorbar": {
              "outlinewidth": 0,
              "ticks": ""
             }
            },
            "type": "scatterpolargl"
           }
          ],
          "scatterternary": [
           {
            "marker": {
             "colorbar": {
              "outlinewidth": 0,
              "ticks": ""
             }
            },
            "type": "scatterternary"
           }
          ],
          "surface": [
           {
            "colorbar": {
             "outlinewidth": 0,
             "ticks": ""
            },
            "colorscale": [
             [
              0,
              "#0d0887"
             ],
             [
              0.1111111111111111,
              "#46039f"
             ],
             [
              0.2222222222222222,
              "#7201a8"
             ],
             [
              0.3333333333333333,
              "#9c179e"
             ],
             [
              0.4444444444444444,
              "#bd3786"
             ],
             [
              0.5555555555555556,
              "#d8576b"
             ],
             [
              0.6666666666666666,
              "#ed7953"
             ],
             [
              0.7777777777777778,
              "#fb9f3a"
             ],
             [
              0.8888888888888888,
              "#fdca26"
             ],
             [
              1,
              "#f0f921"
             ]
            ],
            "type": "surface"
           }
          ],
          "table": [
           {
            "cells": {
             "fill": {
              "color": "#EBF0F8"
             },
             "line": {
              "color": "white"
             }
            },
            "header": {
             "fill": {
              "color": "#C8D4E3"
             },
             "line": {
              "color": "white"
             }
            },
            "type": "table"
           }
          ]
         },
         "layout": {
          "annotationdefaults": {
           "arrowcolor": "#2a3f5f",
           "arrowhead": 0,
           "arrowwidth": 1
          },
          "autotypenumbers": "strict",
          "coloraxis": {
           "colorbar": {
            "outlinewidth": 0,
            "ticks": ""
           }
          },
          "colorscale": {
           "diverging": [
            [
             0,
             "#8e0152"
            ],
            [
             0.1,
             "#c51b7d"
            ],
            [
             0.2,
             "#de77ae"
            ],
            [
             0.3,
             "#f1b6da"
            ],
            [
             0.4,
             "#fde0ef"
            ],
            [
             0.5,
             "#f7f7f7"
            ],
            [
             0.6,
             "#e6f5d0"
            ],
            [
             0.7,
             "#b8e186"
            ],
            [
             0.8,
             "#7fbc41"
            ],
            [
             0.9,
             "#4d9221"
            ],
            [
             1,
             "#276419"
            ]
           ],
           "sequential": [
            [
             0,
             "#0d0887"
            ],
            [
             0.1111111111111111,
             "#46039f"
            ],
            [
             0.2222222222222222,
             "#7201a8"
            ],
            [
             0.3333333333333333,
             "#9c179e"
            ],
            [
             0.4444444444444444,
             "#bd3786"
            ],
            [
             0.5555555555555556,
             "#d8576b"
            ],
            [
             0.6666666666666666,
             "#ed7953"
            ],
            [
             0.7777777777777778,
             "#fb9f3a"
            ],
            [
             0.8888888888888888,
             "#fdca26"
            ],
            [
             1,
             "#f0f921"
            ]
           ],
           "sequentialminus": [
            [
             0,
             "#0d0887"
            ],
            [
             0.1111111111111111,
             "#46039f"
            ],
            [
             0.2222222222222222,
             "#7201a8"
            ],
            [
             0.3333333333333333,
             "#9c179e"
            ],
            [
             0.4444444444444444,
             "#bd3786"
            ],
            [
             0.5555555555555556,
             "#d8576b"
            ],
            [
             0.6666666666666666,
             "#ed7953"
            ],
            [
             0.7777777777777778,
             "#fb9f3a"
            ],
            [
             0.8888888888888888,
             "#fdca26"
            ],
            [
             1,
             "#f0f921"
            ]
           ]
          },
          "colorway": [
           "#636efa",
           "#EF553B",
           "#00cc96",
           "#ab63fa",
           "#FFA15A",
           "#19d3f3",
           "#FF6692",
           "#B6E880",
           "#FF97FF",
           "#FECB52"
          ],
          "font": {
           "color": "#2a3f5f"
          },
          "geo": {
           "bgcolor": "white",
           "lakecolor": "white",
           "landcolor": "white",
           "showlakes": true,
           "showland": true,
           "subunitcolor": "#C8D4E3"
          },
          "hoverlabel": {
           "align": "left"
          },
          "hovermode": "closest",
          "mapbox": {
           "style": "light"
          },
          "paper_bgcolor": "white",
          "plot_bgcolor": "white",
          "polar": {
           "angularaxis": {
            "gridcolor": "#EBF0F8",
            "linecolor": "#EBF0F8",
            "ticks": ""
           },
           "bgcolor": "white",
           "radialaxis": {
            "gridcolor": "#EBF0F8",
            "linecolor": "#EBF0F8",
            "ticks": ""
           }
          },
          "scene": {
           "xaxis": {
            "backgroundcolor": "white",
            "gridcolor": "#DFE8F3",
            "gridwidth": 2,
            "linecolor": "#EBF0F8",
            "showbackground": true,
            "ticks": "",
            "zerolinecolor": "#EBF0F8"
           },
           "yaxis": {
            "backgroundcolor": "white",
            "gridcolor": "#DFE8F3",
            "gridwidth": 2,
            "linecolor": "#EBF0F8",
            "showbackground": true,
            "ticks": "",
            "zerolinecolor": "#EBF0F8"
           },
           "zaxis": {
            "backgroundcolor": "white",
            "gridcolor": "#DFE8F3",
            "gridwidth": 2,
            "linecolor": "#EBF0F8",
            "showbackground": true,
            "ticks": "",
            "zerolinecolor": "#EBF0F8"
           }
          },
          "shapedefaults": {
           "line": {
            "color": "#2a3f5f"
           }
          },
          "ternary": {
           "aaxis": {
            "gridcolor": "#DFE8F3",
            "linecolor": "#A2B1C6",
            "ticks": ""
           },
           "baxis": {
            "gridcolor": "#DFE8F3",
            "linecolor": "#A2B1C6",
            "ticks": ""
           },
           "bgcolor": "white",
           "caxis": {
            "gridcolor": "#DFE8F3",
            "linecolor": "#A2B1C6",
            "ticks": ""
           }
          },
          "title": {
           "x": 0.05
          },
          "xaxis": {
           "automargin": true,
           "gridcolor": "#EBF0F8",
           "linecolor": "#EBF0F8",
           "ticks": "",
           "title": {
            "standoff": 15
           },
           "zerolinecolor": "#EBF0F8",
           "zerolinewidth": 2
          },
          "yaxis": {
           "automargin": true,
           "gridcolor": "#EBF0F8",
           "linecolor": "#EBF0F8",
           "ticks": "",
           "title": {
            "standoff": 15
           },
           "zerolinecolor": "#EBF0F8",
           "zerolinewidth": 2
          }
         }
        },
        "title": {
         "font": {
          "size": 20
         },
         "text": "<b>Denmark Electricity Generation Share by Source from 2022 to 2024</b>"
        },
        "width": 1200,
        "xaxis": {
         "tickmode": "array",
         "ticktext": [
          "2022",
          "2023",
          "2024"
         ],
         "tickvals": {
          "bdata": "5gfnB+gH",
          "dtype": "i2"
         },
         "title": {
          "text": "Year"
         }
        },
        "yaxis": {
         "title": {
          "text": "Generation Share (%)"
         }
        }
       }
      }
     },
     "metadata": {},
     "output_type": "display_data"
    }
   ],
   "source": [
    "plot_electricity_gen_share(df_den, \"Denmark\", save_as_html=True)"
   ]
  },
  {
   "cell_type": "markdown",
   "id": "b5068c6f",
   "metadata": {},
   "source": [
    "## Plot 3 - Bar plot of electricity generation share by source for france from 2022 to 2024"
   ]
  },
  {
   "cell_type": "code",
   "execution_count": 35,
   "id": "ea273791",
   "metadata": {},
   "outputs": [
    {
     "data": {
      "application/vnd.microsoft.datawrangler.viewer.v0+json": {
       "columns": [
        {
         "name": "index",
         "rawType": "int64",
         "type": "integer"
        },
        {
         "name": "entity",
         "rawType": "object",
         "type": "string"
        },
        {
         "name": "entity_code",
         "rawType": "object",
         "type": "string"
        },
        {
         "name": "is_aggregate_entity",
         "rawType": "bool",
         "type": "boolean"
        },
        {
         "name": "date",
         "rawType": "int64",
         "type": "integer"
        },
        {
         "name": "series",
         "rawType": "object",
         "type": "string"
        },
        {
         "name": "is_aggregate_series",
         "rawType": "bool",
         "type": "boolean"
        },
        {
         "name": "generation_twh",
         "rawType": "float64",
         "type": "float"
        },
        {
         "name": "generation_share_pct",
         "rawType": "float64",
         "type": "float"
        },
        {
         "name": "generation_kwh_per_capita",
         "rawType": "float64",
         "type": "float"
        },
        {
         "name": "generation_yoy_change_twh",
         "rawType": "float64",
         "type": "float"
        },
        {
         "name": "generation_yoy_change_pct",
         "rawType": "float64",
         "type": "float"
        },
        {
         "name": "generation_share_yoy_change_pct_points",
         "rawType": "float64",
         "type": "float"
        },
        {
         "name": "generation_yoy_change_kwh_per_capita",
         "rawType": "float64",
         "type": "float"
        }
       ],
       "ref": "48a177d5-6510-462e-b032-739d1adfb29a",
       "rows": [
        [
         "60",
         "France",
         "FRA",
         "False",
         "2022",
         "Bioenergy",
         "False",
         "9.66",
         "2.06",
         "145.75",
         "0.09",
         "0.94",
         "0.32",
         "1.36"
        ],
        [
         "61",
         "France",
         "FRA",
         "False",
         "2022",
         "Coal",
         "False",
         "4.16",
         "0.89",
         "62.77",
         "-1.28",
         "-23.53",
         "-0.1",
         "-19.31"
        ],
        [
         "62",
         "France",
         "FRA",
         "False",
         "2022",
         "Gas",
         "False",
         "45.74",
         "9.76",
         "690.13",
         "12.43",
         "37.32",
         "3.71",
         "187.55"
        ],
        [
         "63",
         "France",
         "FRA",
         "False",
         "2022",
         "Hydro",
         "False",
         "45.52",
         "9.72",
         "686.81",
         "-14.1",
         "-23.65",
         "-1.11",
         "-212.74"
        ],
        [
         "64",
         "France",
         "FRA",
         "False",
         "2022",
         "Nuclear",
         "False",
         "294.73",
         "62.91",
         "4446.92",
         "-84.63",
         "-22.31",
         "-6.01",
         "-1276.91"
        ]
       ],
       "shape": {
        "columns": 13,
        "rows": 5
       }
      },
      "text/html": [
       "<div>\n",
       "<style scoped>\n",
       "    .dataframe tbody tr th:only-of-type {\n",
       "        vertical-align: middle;\n",
       "    }\n",
       "\n",
       "    .dataframe tbody tr th {\n",
       "        vertical-align: top;\n",
       "    }\n",
       "\n",
       "    .dataframe thead th {\n",
       "        text-align: right;\n",
       "    }\n",
       "</style>\n",
       "<table border=\"1\" class=\"dataframe\">\n",
       "  <thead>\n",
       "    <tr style=\"text-align: right;\">\n",
       "      <th></th>\n",
       "      <th>entity</th>\n",
       "      <th>entity_code</th>\n",
       "      <th>is_aggregate_entity</th>\n",
       "      <th>date</th>\n",
       "      <th>series</th>\n",
       "      <th>is_aggregate_series</th>\n",
       "      <th>generation_twh</th>\n",
       "      <th>generation_share_pct</th>\n",
       "      <th>generation_kwh_per_capita</th>\n",
       "      <th>generation_yoy_change_twh</th>\n",
       "      <th>generation_yoy_change_pct</th>\n",
       "      <th>generation_share_yoy_change_pct_points</th>\n",
       "      <th>generation_yoy_change_kwh_per_capita</th>\n",
       "    </tr>\n",
       "  </thead>\n",
       "  <tbody>\n",
       "    <tr>\n",
       "      <th>60</th>\n",
       "      <td>France</td>\n",
       "      <td>FRA</td>\n",
       "      <td>False</td>\n",
       "      <td>2022</td>\n",
       "      <td>Bioenergy</td>\n",
       "      <td>False</td>\n",
       "      <td>9.66</td>\n",
       "      <td>2.06</td>\n",
       "      <td>145.75</td>\n",
       "      <td>0.09</td>\n",
       "      <td>0.94</td>\n",
       "      <td>0.32</td>\n",
       "      <td>1.36</td>\n",
       "    </tr>\n",
       "    <tr>\n",
       "      <th>61</th>\n",
       "      <td>France</td>\n",
       "      <td>FRA</td>\n",
       "      <td>False</td>\n",
       "      <td>2022</td>\n",
       "      <td>Coal</td>\n",
       "      <td>False</td>\n",
       "      <td>4.16</td>\n",
       "      <td>0.89</td>\n",
       "      <td>62.77</td>\n",
       "      <td>-1.28</td>\n",
       "      <td>-23.53</td>\n",
       "      <td>-0.10</td>\n",
       "      <td>-19.31</td>\n",
       "    </tr>\n",
       "    <tr>\n",
       "      <th>62</th>\n",
       "      <td>France</td>\n",
       "      <td>FRA</td>\n",
       "      <td>False</td>\n",
       "      <td>2022</td>\n",
       "      <td>Gas</td>\n",
       "      <td>False</td>\n",
       "      <td>45.74</td>\n",
       "      <td>9.76</td>\n",
       "      <td>690.13</td>\n",
       "      <td>12.43</td>\n",
       "      <td>37.32</td>\n",
       "      <td>3.71</td>\n",
       "      <td>187.55</td>\n",
       "    </tr>\n",
       "    <tr>\n",
       "      <th>63</th>\n",
       "      <td>France</td>\n",
       "      <td>FRA</td>\n",
       "      <td>False</td>\n",
       "      <td>2022</td>\n",
       "      <td>Hydro</td>\n",
       "      <td>False</td>\n",
       "      <td>45.52</td>\n",
       "      <td>9.72</td>\n",
       "      <td>686.81</td>\n",
       "      <td>-14.10</td>\n",
       "      <td>-23.65</td>\n",
       "      <td>-1.11</td>\n",
       "      <td>-212.74</td>\n",
       "    </tr>\n",
       "    <tr>\n",
       "      <th>64</th>\n",
       "      <td>France</td>\n",
       "      <td>FRA</td>\n",
       "      <td>False</td>\n",
       "      <td>2022</td>\n",
       "      <td>Nuclear</td>\n",
       "      <td>False</td>\n",
       "      <td>294.73</td>\n",
       "      <td>62.91</td>\n",
       "      <td>4446.92</td>\n",
       "      <td>-84.63</td>\n",
       "      <td>-22.31</td>\n",
       "      <td>-6.01</td>\n",
       "      <td>-1276.91</td>\n",
       "    </tr>\n",
       "  </tbody>\n",
       "</table>\n",
       "</div>"
      ],
      "text/plain": [
       "    entity entity_code  is_aggregate_entity  date     series  \\\n",
       "60  France         FRA                False  2022  Bioenergy   \n",
       "61  France         FRA                False  2022       Coal   \n",
       "62  France         FRA                False  2022        Gas   \n",
       "63  France         FRA                False  2022      Hydro   \n",
       "64  France         FRA                False  2022    Nuclear   \n",
       "\n",
       "    is_aggregate_series  generation_twh  generation_share_pct  \\\n",
       "60                False            9.66                  2.06   \n",
       "61                False            4.16                  0.89   \n",
       "62                False           45.74                  9.76   \n",
       "63                False           45.52                  9.72   \n",
       "64                False          294.73                 62.91   \n",
       "\n",
       "    generation_kwh_per_capita  generation_yoy_change_twh  \\\n",
       "60                     145.75                       0.09   \n",
       "61                      62.77                      -1.28   \n",
       "62                     690.13                      12.43   \n",
       "63                     686.81                     -14.10   \n",
       "64                    4446.92                     -84.63   \n",
       "\n",
       "    generation_yoy_change_pct  generation_share_yoy_change_pct_points  \\\n",
       "60                       0.94                                    0.32   \n",
       "61                     -23.53                                   -0.10   \n",
       "62                      37.32                                    3.71   \n",
       "63                     -23.65                                   -1.11   \n",
       "64                     -22.31                                   -6.01   \n",
       "\n",
       "    generation_yoy_change_kwh_per_capita  \n",
       "60                                  1.36  \n",
       "61                                -19.31  \n",
       "62                                187.55  \n",
       "63                               -212.74  \n",
       "64                              -1276.91  "
      ]
     },
     "execution_count": 35,
     "metadata": {},
     "output_type": "execute_result"
    }
   ],
   "source": [
    "df_fra = df[df[\"entity\"] == \"France\"]\n",
    "df_fra = df_fra[df_fra[\"series\"] != \"Total generation\"]\n",
    "df_fra.head()"
   ]
  },
  {
   "cell_type": "code",
   "execution_count": null,
   "id": "3091a90b",
   "metadata": {},
   "outputs": [
    {
     "data": {
      "application/vnd.plotly.v1+json": {
       "config": {
        "plotlyServerURL": "https://plot.ly"
       },
       "data": [
        {
         "insidetextanchor": "middle",
         "name": "Bioenergy",
         "text": [
          "2.1%",
          "1.9%",
          "1.8%"
         ],
         "textposition": "inside",
         "type": "bar",
         "x": {
          "bdata": "5gfnB+gH",
          "dtype": "i2"
         },
         "y": {
          "bdata": "exSuR+F6AECPwvUoXI/+PwAAAAAAAPw/",
          "dtype": "f8"
         }
        },
        {
         "insidetextanchor": "middle",
         "name": "Coal",
         "text": [
          "0.9%",
          "0.4%",
          "0.3%"
         ],
         "textposition": "inside",
         "type": "bar",
         "x": {
          "bdata": "5gfnB+gH",
          "dtype": "i2"
         },
         "y": {
          "bdata": "exSuR+F67D9SuB6F61HYPzMzMzMzM9M/",
          "dtype": "f8"
         }
        },
        {
         "insidetextanchor": "middle",
         "name": "Gas",
         "text": [
          "9.8%",
          "5.8%",
          "3.4%"
         ],
         "textposition": "inside",
         "type": "bar",
         "x": {
          "bdata": "5gfnB+gH",
          "dtype": "i2"
         },
         "y": {
          "bdata": "hetRuB6FI0AUrkfhehQXQFyPwvUoXAtA",
          "dtype": "f8"
         }
        },
        {
         "insidetextanchor": "middle",
         "name": "Hydro",
         "text": [
          "9.7%",
          "11.0%",
          "12.4%"
         ],
         "textposition": "inside",
         "type": "bar",
         "x": {
          "bdata": "5gfnB+gH",
          "dtype": "i2"
         },
         "y": {
          "bdata": "cT0K16NwI0BmZmZmZuYlQFyPwvUo3ChA",
          "dtype": "f8"
         }
        },
        {
         "insidetextanchor": "middle",
         "name": "Nuclear",
         "text": [
          "62.9%",
          "65.3%",
          "68.0%"
         ],
         "textposition": "inside",
         "type": "bar",
         "x": {
          "bdata": "5gfnB+gH",
          "dtype": "i2"
         },
         "y": {
          "bdata": "FK5H4Xp0T0D2KFyPwlVQQMP1KFyPAlFA",
          "dtype": "f8"
         }
        },
        {
         "insidetextanchor": "middle",
         "name": "Other fossil",
         "text": [
          "2.2%",
          "2.0%",
          "2.0%"
         ],
         "textposition": "inside",
         "type": "bar",
         "x": {
          "bdata": "5gfnB+gH",
          "dtype": "i2"
         },
         "y": {
          "bdata": "16NwPQrXAUBSuB6F61EAQClcj8L1KABA",
          "dtype": "f8"
         }
        },
        {
         "insidetextanchor": "middle",
         "name": "Other renewables",
         "text": [
          "0.1%",
          "0.1%",
          "0.1%"
         ],
         "textposition": "inside",
         "type": "bar",
         "x": {
          "bdata": "5gfnB+gH",
          "dtype": "i2"
         },
         "y": {
          "bdata": "pHA9CtejwD8pXI/C9Si8P5qZmZmZmbk/",
          "dtype": "f8"
         }
        },
        {
         "insidetextanchor": "middle",
         "name": "Solar",
         "text": [
          "4.2%",
          "4.2%",
          "4.2%"
         ],
         "textposition": "inside",
         "type": "bar",
         "x": {
          "bdata": "5gfnB+gH",
          "dtype": "i2"
         },
         "y": {
          "bdata": "w/UoXI/CEEDhehSuR+EQQOF6FK5H4RBA",
          "dtype": "f8"
         }
        },
        {
         "insidetextanchor": "middle",
         "name": "Wind",
         "text": [
          "8.1%",
          "9.3%",
          "7.7%"
         ],
         "textposition": "inside",
         "type": "bar",
         "x": {
          "bdata": "5gfnB+gH",
          "dtype": "i2"
         },
         "y": {
          "bdata": "uB6F61E4IECPwvUoXI8iQNejcD0K1x5A",
          "dtype": "f8"
         }
        }
       ],
       "layout": {
        "barmode": "stack",
        "height": 800,
        "legend": {
         "title": {
          "text": "Generation Share (%)"
         }
        },
        "template": {
         "data": {
          "bar": [
           {
            "error_x": {
             "color": "#2a3f5f"
            },
            "error_y": {
             "color": "#2a3f5f"
            },
            "marker": {
             "line": {
              "color": "white",
              "width": 0.5
             },
             "pattern": {
              "fillmode": "overlay",
              "size": 10,
              "solidity": 0.2
             }
            },
            "type": "bar"
           }
          ],
          "barpolar": [
           {
            "marker": {
             "line": {
              "color": "white",
              "width": 0.5
             },
             "pattern": {
              "fillmode": "overlay",
              "size": 10,
              "solidity": 0.2
             }
            },
            "type": "barpolar"
           }
          ],
          "carpet": [
           {
            "aaxis": {
             "endlinecolor": "#2a3f5f",
             "gridcolor": "#C8D4E3",
             "linecolor": "#C8D4E3",
             "minorgridcolor": "#C8D4E3",
             "startlinecolor": "#2a3f5f"
            },
            "baxis": {
             "endlinecolor": "#2a3f5f",
             "gridcolor": "#C8D4E3",
             "linecolor": "#C8D4E3",
             "minorgridcolor": "#C8D4E3",
             "startlinecolor": "#2a3f5f"
            },
            "type": "carpet"
           }
          ],
          "choropleth": [
           {
            "colorbar": {
             "outlinewidth": 0,
             "ticks": ""
            },
            "type": "choropleth"
           }
          ],
          "contour": [
           {
            "colorbar": {
             "outlinewidth": 0,
             "ticks": ""
            },
            "colorscale": [
             [
              0,
              "#0d0887"
             ],
             [
              0.1111111111111111,
              "#46039f"
             ],
             [
              0.2222222222222222,
              "#7201a8"
             ],
             [
              0.3333333333333333,
              "#9c179e"
             ],
             [
              0.4444444444444444,
              "#bd3786"
             ],
             [
              0.5555555555555556,
              "#d8576b"
             ],
             [
              0.6666666666666666,
              "#ed7953"
             ],
             [
              0.7777777777777778,
              "#fb9f3a"
             ],
             [
              0.8888888888888888,
              "#fdca26"
             ],
             [
              1,
              "#f0f921"
             ]
            ],
            "type": "contour"
           }
          ],
          "contourcarpet": [
           {
            "colorbar": {
             "outlinewidth": 0,
             "ticks": ""
            },
            "type": "contourcarpet"
           }
          ],
          "heatmap": [
           {
            "colorbar": {
             "outlinewidth": 0,
             "ticks": ""
            },
            "colorscale": [
             [
              0,
              "#0d0887"
             ],
             [
              0.1111111111111111,
              "#46039f"
             ],
             [
              0.2222222222222222,
              "#7201a8"
             ],
             [
              0.3333333333333333,
              "#9c179e"
             ],
             [
              0.4444444444444444,
              "#bd3786"
             ],
             [
              0.5555555555555556,
              "#d8576b"
             ],
             [
              0.6666666666666666,
              "#ed7953"
             ],
             [
              0.7777777777777778,
              "#fb9f3a"
             ],
             [
              0.8888888888888888,
              "#fdca26"
             ],
             [
              1,
              "#f0f921"
             ]
            ],
            "type": "heatmap"
           }
          ],
          "histogram": [
           {
            "marker": {
             "pattern": {
              "fillmode": "overlay",
              "size": 10,
              "solidity": 0.2
             }
            },
            "type": "histogram"
           }
          ],
          "histogram2d": [
           {
            "colorbar": {
             "outlinewidth": 0,
             "ticks": ""
            },
            "colorscale": [
             [
              0,
              "#0d0887"
             ],
             [
              0.1111111111111111,
              "#46039f"
             ],
             [
              0.2222222222222222,
              "#7201a8"
             ],
             [
              0.3333333333333333,
              "#9c179e"
             ],
             [
              0.4444444444444444,
              "#bd3786"
             ],
             [
              0.5555555555555556,
              "#d8576b"
             ],
             [
              0.6666666666666666,
              "#ed7953"
             ],
             [
              0.7777777777777778,
              "#fb9f3a"
             ],
             [
              0.8888888888888888,
              "#fdca26"
             ],
             [
              1,
              "#f0f921"
             ]
            ],
            "type": "histogram2d"
           }
          ],
          "histogram2dcontour": [
           {
            "colorbar": {
             "outlinewidth": 0,
             "ticks": ""
            },
            "colorscale": [
             [
              0,
              "#0d0887"
             ],
             [
              0.1111111111111111,
              "#46039f"
             ],
             [
              0.2222222222222222,
              "#7201a8"
             ],
             [
              0.3333333333333333,
              "#9c179e"
             ],
             [
              0.4444444444444444,
              "#bd3786"
             ],
             [
              0.5555555555555556,
              "#d8576b"
             ],
             [
              0.6666666666666666,
              "#ed7953"
             ],
             [
              0.7777777777777778,
              "#fb9f3a"
             ],
             [
              0.8888888888888888,
              "#fdca26"
             ],
             [
              1,
              "#f0f921"
             ]
            ],
            "type": "histogram2dcontour"
           }
          ],
          "mesh3d": [
           {
            "colorbar": {
             "outlinewidth": 0,
             "ticks": ""
            },
            "type": "mesh3d"
           }
          ],
          "parcoords": [
           {
            "line": {
             "colorbar": {
              "outlinewidth": 0,
              "ticks": ""
             }
            },
            "type": "parcoords"
           }
          ],
          "pie": [
           {
            "automargin": true,
            "type": "pie"
           }
          ],
          "scatter": [
           {
            "fillpattern": {
             "fillmode": "overlay",
             "size": 10,
             "solidity": 0.2
            },
            "type": "scatter"
           }
          ],
          "scatter3d": [
           {
            "line": {
             "colorbar": {
              "outlinewidth": 0,
              "ticks": ""
             }
            },
            "marker": {
             "colorbar": {
              "outlinewidth": 0,
              "ticks": ""
             }
            },
            "type": "scatter3d"
           }
          ],
          "scattercarpet": [
           {
            "marker": {
             "colorbar": {
              "outlinewidth": 0,
              "ticks": ""
             }
            },
            "type": "scattercarpet"
           }
          ],
          "scattergeo": [
           {
            "marker": {
             "colorbar": {
              "outlinewidth": 0,
              "ticks": ""
             }
            },
            "type": "scattergeo"
           }
          ],
          "scattergl": [
           {
            "marker": {
             "colorbar": {
              "outlinewidth": 0,
              "ticks": ""
             }
            },
            "type": "scattergl"
           }
          ],
          "scattermap": [
           {
            "marker": {
             "colorbar": {
              "outlinewidth": 0,
              "ticks": ""
             }
            },
            "type": "scattermap"
           }
          ],
          "scattermapbox": [
           {
            "marker": {
             "colorbar": {
              "outlinewidth": 0,
              "ticks": ""
             }
            },
            "type": "scattermapbox"
           }
          ],
          "scatterpolar": [
           {
            "marker": {
             "colorbar": {
              "outlinewidth": 0,
              "ticks": ""
             }
            },
            "type": "scatterpolar"
           }
          ],
          "scatterpolargl": [
           {
            "marker": {
             "colorbar": {
              "outlinewidth": 0,
              "ticks": ""
             }
            },
            "type": "scatterpolargl"
           }
          ],
          "scatterternary": [
           {
            "marker": {
             "colorbar": {
              "outlinewidth": 0,
              "ticks": ""
             }
            },
            "type": "scatterternary"
           }
          ],
          "surface": [
           {
            "colorbar": {
             "outlinewidth": 0,
             "ticks": ""
            },
            "colorscale": [
             [
              0,
              "#0d0887"
             ],
             [
              0.1111111111111111,
              "#46039f"
             ],
             [
              0.2222222222222222,
              "#7201a8"
             ],
             [
              0.3333333333333333,
              "#9c179e"
             ],
             [
              0.4444444444444444,
              "#bd3786"
             ],
             [
              0.5555555555555556,
              "#d8576b"
             ],
             [
              0.6666666666666666,
              "#ed7953"
             ],
             [
              0.7777777777777778,
              "#fb9f3a"
             ],
             [
              0.8888888888888888,
              "#fdca26"
             ],
             [
              1,
              "#f0f921"
             ]
            ],
            "type": "surface"
           }
          ],
          "table": [
           {
            "cells": {
             "fill": {
              "color": "#EBF0F8"
             },
             "line": {
              "color": "white"
             }
            },
            "header": {
             "fill": {
              "color": "#C8D4E3"
             },
             "line": {
              "color": "white"
             }
            },
            "type": "table"
           }
          ]
         },
         "layout": {
          "annotationdefaults": {
           "arrowcolor": "#2a3f5f",
           "arrowhead": 0,
           "arrowwidth": 1
          },
          "autotypenumbers": "strict",
          "coloraxis": {
           "colorbar": {
            "outlinewidth": 0,
            "ticks": ""
           }
          },
          "colorscale": {
           "diverging": [
            [
             0,
             "#8e0152"
            ],
            [
             0.1,
             "#c51b7d"
            ],
            [
             0.2,
             "#de77ae"
            ],
            [
             0.3,
             "#f1b6da"
            ],
            [
             0.4,
             "#fde0ef"
            ],
            [
             0.5,
             "#f7f7f7"
            ],
            [
             0.6,
             "#e6f5d0"
            ],
            [
             0.7,
             "#b8e186"
            ],
            [
             0.8,
             "#7fbc41"
            ],
            [
             0.9,
             "#4d9221"
            ],
            [
             1,
             "#276419"
            ]
           ],
           "sequential": [
            [
             0,
             "#0d0887"
            ],
            [
             0.1111111111111111,
             "#46039f"
            ],
            [
             0.2222222222222222,
             "#7201a8"
            ],
            [
             0.3333333333333333,
             "#9c179e"
            ],
            [
             0.4444444444444444,
             "#bd3786"
            ],
            [
             0.5555555555555556,
             "#d8576b"
            ],
            [
             0.6666666666666666,
             "#ed7953"
            ],
            [
             0.7777777777777778,
             "#fb9f3a"
            ],
            [
             0.8888888888888888,
             "#fdca26"
            ],
            [
             1,
             "#f0f921"
            ]
           ],
           "sequentialminus": [
            [
             0,
             "#0d0887"
            ],
            [
             0.1111111111111111,
             "#46039f"
            ],
            [
             0.2222222222222222,
             "#7201a8"
            ],
            [
             0.3333333333333333,
             "#9c179e"
            ],
            [
             0.4444444444444444,
             "#bd3786"
            ],
            [
             0.5555555555555556,
             "#d8576b"
            ],
            [
             0.6666666666666666,
             "#ed7953"
            ],
            [
             0.7777777777777778,
             "#fb9f3a"
            ],
            [
             0.8888888888888888,
             "#fdca26"
            ],
            [
             1,
             "#f0f921"
            ]
           ]
          },
          "colorway": [
           "#636efa",
           "#EF553B",
           "#00cc96",
           "#ab63fa",
           "#FFA15A",
           "#19d3f3",
           "#FF6692",
           "#B6E880",
           "#FF97FF",
           "#FECB52"
          ],
          "font": {
           "color": "#2a3f5f"
          },
          "geo": {
           "bgcolor": "white",
           "lakecolor": "white",
           "landcolor": "white",
           "showlakes": true,
           "showland": true,
           "subunitcolor": "#C8D4E3"
          },
          "hoverlabel": {
           "align": "left"
          },
          "hovermode": "closest",
          "mapbox": {
           "style": "light"
          },
          "paper_bgcolor": "white",
          "plot_bgcolor": "white",
          "polar": {
           "angularaxis": {
            "gridcolor": "#EBF0F8",
            "linecolor": "#EBF0F8",
            "ticks": ""
           },
           "bgcolor": "white",
           "radialaxis": {
            "gridcolor": "#EBF0F8",
            "linecolor": "#EBF0F8",
            "ticks": ""
           }
          },
          "scene": {
           "xaxis": {
            "backgroundcolor": "white",
            "gridcolor": "#DFE8F3",
            "gridwidth": 2,
            "linecolor": "#EBF0F8",
            "showbackground": true,
            "ticks": "",
            "zerolinecolor": "#EBF0F8"
           },
           "yaxis": {
            "backgroundcolor": "white",
            "gridcolor": "#DFE8F3",
            "gridwidth": 2,
            "linecolor": "#EBF0F8",
            "showbackground": true,
            "ticks": "",
            "zerolinecolor": "#EBF0F8"
           },
           "zaxis": {
            "backgroundcolor": "white",
            "gridcolor": "#DFE8F3",
            "gridwidth": 2,
            "linecolor": "#EBF0F8",
            "showbackground": true,
            "ticks": "",
            "zerolinecolor": "#EBF0F8"
           }
          },
          "shapedefaults": {
           "line": {
            "color": "#2a3f5f"
           }
          },
          "ternary": {
           "aaxis": {
            "gridcolor": "#DFE8F3",
            "linecolor": "#A2B1C6",
            "ticks": ""
           },
           "baxis": {
            "gridcolor": "#DFE8F3",
            "linecolor": "#A2B1C6",
            "ticks": ""
           },
           "bgcolor": "white",
           "caxis": {
            "gridcolor": "#DFE8F3",
            "linecolor": "#A2B1C6",
            "ticks": ""
           }
          },
          "title": {
           "x": 0.05
          },
          "xaxis": {
           "automargin": true,
           "gridcolor": "#EBF0F8",
           "linecolor": "#EBF0F8",
           "ticks": "",
           "title": {
            "standoff": 15
           },
           "zerolinecolor": "#EBF0F8",
           "zerolinewidth": 2
          },
          "yaxis": {
           "automargin": true,
           "gridcolor": "#EBF0F8",
           "linecolor": "#EBF0F8",
           "ticks": "",
           "title": {
            "standoff": 15
           },
           "zerolinecolor": "#EBF0F8",
           "zerolinewidth": 2
          }
         }
        },
        "title": {
         "font": {
          "size": 20
         },
         "text": "<b>fra Electricity Generation Share by Source from 2022 to 2024</b>"
        },
        "width": 1200,
        "xaxis": {
         "tickmode": "array",
         "ticktext": [
          "2022",
          "2023",
          "2024"
         ],
         "tickvals": {
          "bdata": "5gfnB+gH",
          "dtype": "i2"
         },
         "title": {
          "text": "Year"
         }
        },
        "yaxis": {
         "title": {
          "text": "Generation Share (%)"
         }
        }
       }
      }
     },
     "metadata": {},
     "output_type": "display_data"
    }
   ],
   "source": [
    "plot_electricity_gen_share(df_fra, \"France\", save_as_html=True)"
   ]
  },
  {
   "cell_type": "markdown",
   "id": "7696f6c0",
   "metadata": {},
   "source": [
    "## Plot 4 - Bar plot of electricity generation share by source for the world from 2022 to 2024"
   ]
  },
  {
   "cell_type": "code",
   "execution_count": 37,
   "id": "873b060e",
   "metadata": {},
   "outputs": [
    {
     "data": {
      "application/vnd.microsoft.datawrangler.viewer.v0+json": {
       "columns": [
        {
         "name": "index",
         "rawType": "int64",
         "type": "integer"
        },
        {
         "name": "entity",
         "rawType": "object",
         "type": "string"
        },
        {
         "name": "entity_code",
         "rawType": "object",
         "type": "unknown"
        },
        {
         "name": "is_aggregate_entity",
         "rawType": "bool",
         "type": "boolean"
        },
        {
         "name": "date",
         "rawType": "int64",
         "type": "integer"
        },
        {
         "name": "series",
         "rawType": "object",
         "type": "string"
        },
        {
         "name": "is_aggregate_series",
         "rawType": "bool",
         "type": "boolean"
        },
        {
         "name": "generation_twh",
         "rawType": "float64",
         "type": "float"
        },
        {
         "name": "generation_share_pct",
         "rawType": "float64",
         "type": "float"
        },
        {
         "name": "generation_kwh_per_capita",
         "rawType": "float64",
         "type": "float"
        },
        {
         "name": "generation_yoy_change_twh",
         "rawType": "float64",
         "type": "float"
        },
        {
         "name": "generation_yoy_change_pct",
         "rawType": "float64",
         "type": "float"
        },
        {
         "name": "generation_share_yoy_change_pct_points",
         "rawType": "float64",
         "type": "float"
        },
        {
         "name": "generation_yoy_change_kwh_per_capita",
         "rawType": "float64",
         "type": "float"
        }
       ],
       "ref": "82bdb7b0-f166-4251-8e46-001944282cb3",
       "rows": [
        [
         "90",
         "World",
         null,
         "True",
         "2022",
         "Bioenergy",
         "False",
         "670.03",
         "2.32",
         "83.54",
         "14.37",
         "2.19",
         "0.0",
         "1.79"
        ],
        [
         "91",
         "World",
         null,
         "True",
         "2022",
         "Coal",
         "False",
         "10242.99",
         "35.42",
         "1277.16",
         "87.23",
         "0.86",
         "-0.52",
         "10.88"
        ],
        [
         "92",
         "World",
         null,
         "True",
         "2022",
         "Gas",
         "False",
         "6629.75",
         "22.93",
         "826.64",
         "72.4",
         "1.1",
         "-0.27",
         "9.03"
        ],
        [
         "93",
         "World",
         null,
         "True",
         "2022",
         "Hydro",
         "False",
         "4322.66",
         "14.95",
         "538.98",
         "33.52",
         "0.78",
         "-0.23",
         "4.18"
        ],
        [
         "94",
         "World",
         null,
         "True",
         "2022",
         "Nuclear",
         "False",
         "2639.64",
         "9.13",
         "329.13",
         "-122.8",
         "-4.45",
         "-0.65",
         "-15.31"
        ]
       ],
       "shape": {
        "columns": 13,
        "rows": 5
       }
      },
      "text/html": [
       "<div>\n",
       "<style scoped>\n",
       "    .dataframe tbody tr th:only-of-type {\n",
       "        vertical-align: middle;\n",
       "    }\n",
       "\n",
       "    .dataframe tbody tr th {\n",
       "        vertical-align: top;\n",
       "    }\n",
       "\n",
       "    .dataframe thead th {\n",
       "        text-align: right;\n",
       "    }\n",
       "</style>\n",
       "<table border=\"1\" class=\"dataframe\">\n",
       "  <thead>\n",
       "    <tr style=\"text-align: right;\">\n",
       "      <th></th>\n",
       "      <th>entity</th>\n",
       "      <th>entity_code</th>\n",
       "      <th>is_aggregate_entity</th>\n",
       "      <th>date</th>\n",
       "      <th>series</th>\n",
       "      <th>is_aggregate_series</th>\n",
       "      <th>generation_twh</th>\n",
       "      <th>generation_share_pct</th>\n",
       "      <th>generation_kwh_per_capita</th>\n",
       "      <th>generation_yoy_change_twh</th>\n",
       "      <th>generation_yoy_change_pct</th>\n",
       "      <th>generation_share_yoy_change_pct_points</th>\n",
       "      <th>generation_yoy_change_kwh_per_capita</th>\n",
       "    </tr>\n",
       "  </thead>\n",
       "  <tbody>\n",
       "    <tr>\n",
       "      <th>90</th>\n",
       "      <td>World</td>\n",
       "      <td>NaN</td>\n",
       "      <td>True</td>\n",
       "      <td>2022</td>\n",
       "      <td>Bioenergy</td>\n",
       "      <td>False</td>\n",
       "      <td>670.03</td>\n",
       "      <td>2.32</td>\n",
       "      <td>83.54</td>\n",
       "      <td>14.37</td>\n",
       "      <td>2.19</td>\n",
       "      <td>0.00</td>\n",
       "      <td>1.79</td>\n",
       "    </tr>\n",
       "    <tr>\n",
       "      <th>91</th>\n",
       "      <td>World</td>\n",
       "      <td>NaN</td>\n",
       "      <td>True</td>\n",
       "      <td>2022</td>\n",
       "      <td>Coal</td>\n",
       "      <td>False</td>\n",
       "      <td>10242.99</td>\n",
       "      <td>35.42</td>\n",
       "      <td>1277.16</td>\n",
       "      <td>87.23</td>\n",
       "      <td>0.86</td>\n",
       "      <td>-0.52</td>\n",
       "      <td>10.88</td>\n",
       "    </tr>\n",
       "    <tr>\n",
       "      <th>92</th>\n",
       "      <td>World</td>\n",
       "      <td>NaN</td>\n",
       "      <td>True</td>\n",
       "      <td>2022</td>\n",
       "      <td>Gas</td>\n",
       "      <td>False</td>\n",
       "      <td>6629.75</td>\n",
       "      <td>22.93</td>\n",
       "      <td>826.64</td>\n",
       "      <td>72.40</td>\n",
       "      <td>1.10</td>\n",
       "      <td>-0.27</td>\n",
       "      <td>9.03</td>\n",
       "    </tr>\n",
       "    <tr>\n",
       "      <th>93</th>\n",
       "      <td>World</td>\n",
       "      <td>NaN</td>\n",
       "      <td>True</td>\n",
       "      <td>2022</td>\n",
       "      <td>Hydro</td>\n",
       "      <td>False</td>\n",
       "      <td>4322.66</td>\n",
       "      <td>14.95</td>\n",
       "      <td>538.98</td>\n",
       "      <td>33.52</td>\n",
       "      <td>0.78</td>\n",
       "      <td>-0.23</td>\n",
       "      <td>4.18</td>\n",
       "    </tr>\n",
       "    <tr>\n",
       "      <th>94</th>\n",
       "      <td>World</td>\n",
       "      <td>NaN</td>\n",
       "      <td>True</td>\n",
       "      <td>2022</td>\n",
       "      <td>Nuclear</td>\n",
       "      <td>False</td>\n",
       "      <td>2639.64</td>\n",
       "      <td>9.13</td>\n",
       "      <td>329.13</td>\n",
       "      <td>-122.80</td>\n",
       "      <td>-4.45</td>\n",
       "      <td>-0.65</td>\n",
       "      <td>-15.31</td>\n",
       "    </tr>\n",
       "  </tbody>\n",
       "</table>\n",
       "</div>"
      ],
      "text/plain": [
       "   entity entity_code  is_aggregate_entity  date     series  \\\n",
       "90  World         NaN                 True  2022  Bioenergy   \n",
       "91  World         NaN                 True  2022       Coal   \n",
       "92  World         NaN                 True  2022        Gas   \n",
       "93  World         NaN                 True  2022      Hydro   \n",
       "94  World         NaN                 True  2022    Nuclear   \n",
       "\n",
       "    is_aggregate_series  generation_twh  generation_share_pct  \\\n",
       "90                False          670.03                  2.32   \n",
       "91                False        10242.99                 35.42   \n",
       "92                False         6629.75                 22.93   \n",
       "93                False         4322.66                 14.95   \n",
       "94                False         2639.64                  9.13   \n",
       "\n",
       "    generation_kwh_per_capita  generation_yoy_change_twh  \\\n",
       "90                      83.54                      14.37   \n",
       "91                    1277.16                      87.23   \n",
       "92                     826.64                      72.40   \n",
       "93                     538.98                      33.52   \n",
       "94                     329.13                    -122.80   \n",
       "\n",
       "    generation_yoy_change_pct  generation_share_yoy_change_pct_points  \\\n",
       "90                       2.19                                    0.00   \n",
       "91                       0.86                                   -0.52   \n",
       "92                       1.10                                   -0.27   \n",
       "93                       0.78                                   -0.23   \n",
       "94                      -4.45                                   -0.65   \n",
       "\n",
       "    generation_yoy_change_kwh_per_capita  \n",
       "90                                  1.79  \n",
       "91                                 10.88  \n",
       "92                                  9.03  \n",
       "93                                  4.18  \n",
       "94                                -15.31  "
      ]
     },
     "execution_count": 37,
     "metadata": {},
     "output_type": "execute_result"
    }
   ],
   "source": [
    "df_wrld = df[df[\"entity\"] == \"World\"]\n",
    "df_wrld = df_wrld[df_wrld[\"series\"] != \"Total generation\"]\n",
    "df_wrld.head()"
   ]
  },
  {
   "cell_type": "code",
   "execution_count": 38,
   "id": "63df7af1",
   "metadata": {},
   "outputs": [
    {
     "data": {
      "application/vnd.plotly.v1+json": {
       "config": {
        "plotlyServerURL": "https://plot.ly"
       },
       "data": [
        {
         "insidetextanchor": "middle",
         "name": "Bioenergy",
         "text": [
          "2.3%",
          "2.3%",
          "2.3%"
         ],
         "textposition": "inside",
         "type": "bar",
         "x": {
          "bdata": "5gfnB+gH",
          "dtype": "i2"
         },
         "y": {
          "bdata": "j8L1KFyPAkBSuB6F61ECQBSuR+F6FAJA",
          "dtype": "f8"
         }
        },
        {
         "insidetextanchor": "middle",
         "name": "Coal",
         "text": [
          "35.4%",
          "35.1%",
          "34.1%"
         ],
         "textposition": "inside",
         "type": "bar",
         "x": {
          "bdata": "5gfnB+gH",
          "dtype": "i2"
         },
         "y": {
          "bdata": "9ihcj8K1QUBI4XoUrodBQM3MzMzMDEFA",
          "dtype": "f8"
         }
        },
        {
         "insidetextanchor": "middle",
         "name": "Gas",
         "text": [
          "22.9%",
          "22.6%",
          "22.3%"
         ],
         "textposition": "inside",
         "type": "bar",
         "x": {
          "bdata": "5gfnB+gH",
          "dtype": "i2"
         },
         "y": {
          "bdata": "rkfhehTuNkCkcD0K16M2QArXo3A9SjZA",
          "dtype": "f8"
         }
        },
        {
         "insidetextanchor": "middle",
         "name": "Hydro",
         "text": [
          "15.0%",
          "14.3%",
          "14.3%"
         ],
         "textposition": "inside",
         "type": "bar",
         "x": {
          "bdata": "5gfnB+gH",
          "dtype": "i2"
         },
         "y": {
          "bdata": "ZmZmZmbmLUAK16NwPYosQIXrUbgehSxA",
          "dtype": "f8"
         }
        },
        {
         "insidetextanchor": "middle",
         "name": "Nuclear",
         "text": [
          "9.1%",
          "9.1%",
          "9.0%"
         ],
         "textposition": "inside",
         "type": "bar",
         "x": {
          "bdata": "5gfnB+gH",
          "dtype": "i2"
         },
         "y": {
          "bdata": "w/UoXI9CIkAzMzMzMzMiQHsUrkfh+iFA",
          "dtype": "f8"
         }
        },
        {
         "insidetextanchor": "middle",
         "name": "Other fossil",
         "text": [
          "3.1%",
          "3.0%",
          "2.8%"
         ],
         "textposition": "inside",
         "type": "bar",
         "x": {
          "bdata": "5gfnB+gH",
          "dtype": "i2"
         },
         "y": {
          "bdata": "j8L1KFyPCECamZmZmZkHQKRwPQrXowZA",
          "dtype": "f8"
         }
        },
        {
         "insidetextanchor": "middle",
         "name": "Other renewables",
         "text": [
          "0.3%",
          "0.3%",
          "0.3%"
         ],
         "textposition": "inside",
         "type": "bar",
         "x": {
          "bdata": "5gfnB+gH",
          "dtype": "i2"
         },
         "y": {
          "bdata": "MzMzMzMz0z8zMzMzMzPTP4/C9Shcj9I/",
          "dtype": "f8"
         }
        },
        {
         "insidetextanchor": "middle",
         "name": "Solar",
         "text": [
          "4.6%",
          "5.6%",
          "6.9%"
         ],
         "textposition": "inside",
         "type": "bar",
         "x": {
          "bdata": "5gfnB+gH",
          "dtype": "i2"
         },
         "y": {
          "bdata": "ZmZmZmZmEkBmZmZmZmYWQI/C9ShcjxtA",
          "dtype": "f8"
         }
        },
        {
         "insidetextanchor": "middle",
         "name": "Wind",
         "text": [
          "7.3%",
          "7.8%",
          "8.1%"
         ],
         "textposition": "inside",
         "type": "bar",
         "x": {
          "bdata": "5gfnB+gH",
          "dtype": "i2"
         },
         "y": {
          "bdata": "KVyPwvUoHUAzMzMzMzMfQDMzMzMzMyBA",
          "dtype": "f8"
         }
        }
       ],
       "layout": {
        "barmode": "stack",
        "height": 800,
        "legend": {
         "title": {
          "text": "Generation Share (%)"
         }
        },
        "template": {
         "data": {
          "bar": [
           {
            "error_x": {
             "color": "#2a3f5f"
            },
            "error_y": {
             "color": "#2a3f5f"
            },
            "marker": {
             "line": {
              "color": "white",
              "width": 0.5
             },
             "pattern": {
              "fillmode": "overlay",
              "size": 10,
              "solidity": 0.2
             }
            },
            "type": "bar"
           }
          ],
          "barpolar": [
           {
            "marker": {
             "line": {
              "color": "white",
              "width": 0.5
             },
             "pattern": {
              "fillmode": "overlay",
              "size": 10,
              "solidity": 0.2
             }
            },
            "type": "barpolar"
           }
          ],
          "carpet": [
           {
            "aaxis": {
             "endlinecolor": "#2a3f5f",
             "gridcolor": "#C8D4E3",
             "linecolor": "#C8D4E3",
             "minorgridcolor": "#C8D4E3",
             "startlinecolor": "#2a3f5f"
            },
            "baxis": {
             "endlinecolor": "#2a3f5f",
             "gridcolor": "#C8D4E3",
             "linecolor": "#C8D4E3",
             "minorgridcolor": "#C8D4E3",
             "startlinecolor": "#2a3f5f"
            },
            "type": "carpet"
           }
          ],
          "choropleth": [
           {
            "colorbar": {
             "outlinewidth": 0,
             "ticks": ""
            },
            "type": "choropleth"
           }
          ],
          "contour": [
           {
            "colorbar": {
             "outlinewidth": 0,
             "ticks": ""
            },
            "colorscale": [
             [
              0,
              "#0d0887"
             ],
             [
              0.1111111111111111,
              "#46039f"
             ],
             [
              0.2222222222222222,
              "#7201a8"
             ],
             [
              0.3333333333333333,
              "#9c179e"
             ],
             [
              0.4444444444444444,
              "#bd3786"
             ],
             [
              0.5555555555555556,
              "#d8576b"
             ],
             [
              0.6666666666666666,
              "#ed7953"
             ],
             [
              0.7777777777777778,
              "#fb9f3a"
             ],
             [
              0.8888888888888888,
              "#fdca26"
             ],
             [
              1,
              "#f0f921"
             ]
            ],
            "type": "contour"
           }
          ],
          "contourcarpet": [
           {
            "colorbar": {
             "outlinewidth": 0,
             "ticks": ""
            },
            "type": "contourcarpet"
           }
          ],
          "heatmap": [
           {
            "colorbar": {
             "outlinewidth": 0,
             "ticks": ""
            },
            "colorscale": [
             [
              0,
              "#0d0887"
             ],
             [
              0.1111111111111111,
              "#46039f"
             ],
             [
              0.2222222222222222,
              "#7201a8"
             ],
             [
              0.3333333333333333,
              "#9c179e"
             ],
             [
              0.4444444444444444,
              "#bd3786"
             ],
             [
              0.5555555555555556,
              "#d8576b"
             ],
             [
              0.6666666666666666,
              "#ed7953"
             ],
             [
              0.7777777777777778,
              "#fb9f3a"
             ],
             [
              0.8888888888888888,
              "#fdca26"
             ],
             [
              1,
              "#f0f921"
             ]
            ],
            "type": "heatmap"
           }
          ],
          "histogram": [
           {
            "marker": {
             "pattern": {
              "fillmode": "overlay",
              "size": 10,
              "solidity": 0.2
             }
            },
            "type": "histogram"
           }
          ],
          "histogram2d": [
           {
            "colorbar": {
             "outlinewidth": 0,
             "ticks": ""
            },
            "colorscale": [
             [
              0,
              "#0d0887"
             ],
             [
              0.1111111111111111,
              "#46039f"
             ],
             [
              0.2222222222222222,
              "#7201a8"
             ],
             [
              0.3333333333333333,
              "#9c179e"
             ],
             [
              0.4444444444444444,
              "#bd3786"
             ],
             [
              0.5555555555555556,
              "#d8576b"
             ],
             [
              0.6666666666666666,
              "#ed7953"
             ],
             [
              0.7777777777777778,
              "#fb9f3a"
             ],
             [
              0.8888888888888888,
              "#fdca26"
             ],
             [
              1,
              "#f0f921"
             ]
            ],
            "type": "histogram2d"
           }
          ],
          "histogram2dcontour": [
           {
            "colorbar": {
             "outlinewidth": 0,
             "ticks": ""
            },
            "colorscale": [
             [
              0,
              "#0d0887"
             ],
             [
              0.1111111111111111,
              "#46039f"
             ],
             [
              0.2222222222222222,
              "#7201a8"
             ],
             [
              0.3333333333333333,
              "#9c179e"
             ],
             [
              0.4444444444444444,
              "#bd3786"
             ],
             [
              0.5555555555555556,
              "#d8576b"
             ],
             [
              0.6666666666666666,
              "#ed7953"
             ],
             [
              0.7777777777777778,
              "#fb9f3a"
             ],
             [
              0.8888888888888888,
              "#fdca26"
             ],
             [
              1,
              "#f0f921"
             ]
            ],
            "type": "histogram2dcontour"
           }
          ],
          "mesh3d": [
           {
            "colorbar": {
             "outlinewidth": 0,
             "ticks": ""
            },
            "type": "mesh3d"
           }
          ],
          "parcoords": [
           {
            "line": {
             "colorbar": {
              "outlinewidth": 0,
              "ticks": ""
             }
            },
            "type": "parcoords"
           }
          ],
          "pie": [
           {
            "automargin": true,
            "type": "pie"
           }
          ],
          "scatter": [
           {
            "fillpattern": {
             "fillmode": "overlay",
             "size": 10,
             "solidity": 0.2
            },
            "type": "scatter"
           }
          ],
          "scatter3d": [
           {
            "line": {
             "colorbar": {
              "outlinewidth": 0,
              "ticks": ""
             }
            },
            "marker": {
             "colorbar": {
              "outlinewidth": 0,
              "ticks": ""
             }
            },
            "type": "scatter3d"
           }
          ],
          "scattercarpet": [
           {
            "marker": {
             "colorbar": {
              "outlinewidth": 0,
              "ticks": ""
             }
            },
            "type": "scattercarpet"
           }
          ],
          "scattergeo": [
           {
            "marker": {
             "colorbar": {
              "outlinewidth": 0,
              "ticks": ""
             }
            },
            "type": "scattergeo"
           }
          ],
          "scattergl": [
           {
            "marker": {
             "colorbar": {
              "outlinewidth": 0,
              "ticks": ""
             }
            },
            "type": "scattergl"
           }
          ],
          "scattermap": [
           {
            "marker": {
             "colorbar": {
              "outlinewidth": 0,
              "ticks": ""
             }
            },
            "type": "scattermap"
           }
          ],
          "scattermapbox": [
           {
            "marker": {
             "colorbar": {
              "outlinewidth": 0,
              "ticks": ""
             }
            },
            "type": "scattermapbox"
           }
          ],
          "scatterpolar": [
           {
            "marker": {
             "colorbar": {
              "outlinewidth": 0,
              "ticks": ""
             }
            },
            "type": "scatterpolar"
           }
          ],
          "scatterpolargl": [
           {
            "marker": {
             "colorbar": {
              "outlinewidth": 0,
              "ticks": ""
             }
            },
            "type": "scatterpolargl"
           }
          ],
          "scatterternary": [
           {
            "marker": {
             "colorbar": {
              "outlinewidth": 0,
              "ticks": ""
             }
            },
            "type": "scatterternary"
           }
          ],
          "surface": [
           {
            "colorbar": {
             "outlinewidth": 0,
             "ticks": ""
            },
            "colorscale": [
             [
              0,
              "#0d0887"
             ],
             [
              0.1111111111111111,
              "#46039f"
             ],
             [
              0.2222222222222222,
              "#7201a8"
             ],
             [
              0.3333333333333333,
              "#9c179e"
             ],
             [
              0.4444444444444444,
              "#bd3786"
             ],
             [
              0.5555555555555556,
              "#d8576b"
             ],
             [
              0.6666666666666666,
              "#ed7953"
             ],
             [
              0.7777777777777778,
              "#fb9f3a"
             ],
             [
              0.8888888888888888,
              "#fdca26"
             ],
             [
              1,
              "#f0f921"
             ]
            ],
            "type": "surface"
           }
          ],
          "table": [
           {
            "cells": {
             "fill": {
              "color": "#EBF0F8"
             },
             "line": {
              "color": "white"
             }
            },
            "header": {
             "fill": {
              "color": "#C8D4E3"
             },
             "line": {
              "color": "white"
             }
            },
            "type": "table"
           }
          ]
         },
         "layout": {
          "annotationdefaults": {
           "arrowcolor": "#2a3f5f",
           "arrowhead": 0,
           "arrowwidth": 1
          },
          "autotypenumbers": "strict",
          "coloraxis": {
           "colorbar": {
            "outlinewidth": 0,
            "ticks": ""
           }
          },
          "colorscale": {
           "diverging": [
            [
             0,
             "#8e0152"
            ],
            [
             0.1,
             "#c51b7d"
            ],
            [
             0.2,
             "#de77ae"
            ],
            [
             0.3,
             "#f1b6da"
            ],
            [
             0.4,
             "#fde0ef"
            ],
            [
             0.5,
             "#f7f7f7"
            ],
            [
             0.6,
             "#e6f5d0"
            ],
            [
             0.7,
             "#b8e186"
            ],
            [
             0.8,
             "#7fbc41"
            ],
            [
             0.9,
             "#4d9221"
            ],
            [
             1,
             "#276419"
            ]
           ],
           "sequential": [
            [
             0,
             "#0d0887"
            ],
            [
             0.1111111111111111,
             "#46039f"
            ],
            [
             0.2222222222222222,
             "#7201a8"
            ],
            [
             0.3333333333333333,
             "#9c179e"
            ],
            [
             0.4444444444444444,
             "#bd3786"
            ],
            [
             0.5555555555555556,
             "#d8576b"
            ],
            [
             0.6666666666666666,
             "#ed7953"
            ],
            [
             0.7777777777777778,
             "#fb9f3a"
            ],
            [
             0.8888888888888888,
             "#fdca26"
            ],
            [
             1,
             "#f0f921"
            ]
           ],
           "sequentialminus": [
            [
             0,
             "#0d0887"
            ],
            [
             0.1111111111111111,
             "#46039f"
            ],
            [
             0.2222222222222222,
             "#7201a8"
            ],
            [
             0.3333333333333333,
             "#9c179e"
            ],
            [
             0.4444444444444444,
             "#bd3786"
            ],
            [
             0.5555555555555556,
             "#d8576b"
            ],
            [
             0.6666666666666666,
             "#ed7953"
            ],
            [
             0.7777777777777778,
             "#fb9f3a"
            ],
            [
             0.8888888888888888,
             "#fdca26"
            ],
            [
             1,
             "#f0f921"
            ]
           ]
          },
          "colorway": [
           "#636efa",
           "#EF553B",
           "#00cc96",
           "#ab63fa",
           "#FFA15A",
           "#19d3f3",
           "#FF6692",
           "#B6E880",
           "#FF97FF",
           "#FECB52"
          ],
          "font": {
           "color": "#2a3f5f"
          },
          "geo": {
           "bgcolor": "white",
           "lakecolor": "white",
           "landcolor": "white",
           "showlakes": true,
           "showland": true,
           "subunitcolor": "#C8D4E3"
          },
          "hoverlabel": {
           "align": "left"
          },
          "hovermode": "closest",
          "mapbox": {
           "style": "light"
          },
          "paper_bgcolor": "white",
          "plot_bgcolor": "white",
          "polar": {
           "angularaxis": {
            "gridcolor": "#EBF0F8",
            "linecolor": "#EBF0F8",
            "ticks": ""
           },
           "bgcolor": "white",
           "radialaxis": {
            "gridcolor": "#EBF0F8",
            "linecolor": "#EBF0F8",
            "ticks": ""
           }
          },
          "scene": {
           "xaxis": {
            "backgroundcolor": "white",
            "gridcolor": "#DFE8F3",
            "gridwidth": 2,
            "linecolor": "#EBF0F8",
            "showbackground": true,
            "ticks": "",
            "zerolinecolor": "#EBF0F8"
           },
           "yaxis": {
            "backgroundcolor": "white",
            "gridcolor": "#DFE8F3",
            "gridwidth": 2,
            "linecolor": "#EBF0F8",
            "showbackground": true,
            "ticks": "",
            "zerolinecolor": "#EBF0F8"
           },
           "zaxis": {
            "backgroundcolor": "white",
            "gridcolor": "#DFE8F3",
            "gridwidth": 2,
            "linecolor": "#EBF0F8",
            "showbackground": true,
            "ticks": "",
            "zerolinecolor": "#EBF0F8"
           }
          },
          "shapedefaults": {
           "line": {
            "color": "#2a3f5f"
           }
          },
          "ternary": {
           "aaxis": {
            "gridcolor": "#DFE8F3",
            "linecolor": "#A2B1C6",
            "ticks": ""
           },
           "baxis": {
            "gridcolor": "#DFE8F3",
            "linecolor": "#A2B1C6",
            "ticks": ""
           },
           "bgcolor": "white",
           "caxis": {
            "gridcolor": "#DFE8F3",
            "linecolor": "#A2B1C6",
            "ticks": ""
           }
          },
          "title": {
           "x": 0.05
          },
          "xaxis": {
           "automargin": true,
           "gridcolor": "#EBF0F8",
           "linecolor": "#EBF0F8",
           "ticks": "",
           "title": {
            "standoff": 15
           },
           "zerolinecolor": "#EBF0F8",
           "zerolinewidth": 2
          },
          "yaxis": {
           "automargin": true,
           "gridcolor": "#EBF0F8",
           "linecolor": "#EBF0F8",
           "ticks": "",
           "title": {
            "standoff": 15
           },
           "zerolinecolor": "#EBF0F8",
           "zerolinewidth": 2
          }
         }
        },
        "title": {
         "font": {
          "size": 20
         },
         "text": "<b>World Electricity Generation Share by Source from 2022 to 2024</b>"
        },
        "width": 1200,
        "xaxis": {
         "tickmode": "array",
         "ticktext": [
          "2022",
          "2023",
          "2024"
         ],
         "tickvals": {
          "bdata": "5gfnB+gH",
          "dtype": "i2"
         },
         "title": {
          "text": "Year"
         }
        },
        "yaxis": {
         "title": {
          "text": "Generation Share (%)"
         }
        }
       }
      }
     },
     "metadata": {},
     "output_type": "display_data"
    }
   ],
   "source": [
    "plot_electricity_gen_share(df_wrld, \"World\", save_as_html=True)"
   ]
  }
 ],
 "metadata": {
  "kernelspec": {
   "display_name": "qmas",
   "language": "python",
   "name": "python3"
  },
  "language_info": {
   "codemirror_mode": {
    "name": "ipython",
    "version": 3
   },
   "file_extension": ".py",
   "mimetype": "text/x-python",
   "name": "python",
   "nbconvert_exporter": "python",
   "pygments_lexer": "ipython3",
   "version": "3.12.2"
  }
 },
 "nbformat": 4,
 "nbformat_minor": 5
}
